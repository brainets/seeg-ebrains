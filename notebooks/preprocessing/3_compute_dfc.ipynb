{
 "cells": [
  {
   "cell_type": "markdown",
   "metadata": {},
   "source": [
    "# **3. Compute the Dynamic Functional Connectivity**\n",
    "---\n",
    "\n",
    "This notebook illustrates how to estimate the Dynamic Functional Connectivity (DFC) estimated at the single-trial level for each participant."
   ]
  },
  {
   "cell_type": "code",
   "execution_count": null,
   "metadata": {},
   "outputs": [],
   "source": [
    "import os\n",
    "import argparse\n",
    "\n",
    "import numpy as np\n",
    "import xarray as xr\n",
    "\n",
    "from frites.utils import savgol_filter\n",
    "from frites.conn import conn_dfc, define_windows\n",
    "from frites.estimator import GCMIEstimator, CorrEstimator, DcorrEstimator\n"
   ]
  },
  {
   "cell_type": "markdown",
   "metadata": {},
   "source": [
    "# **Global variables**\n",
    "---"
   ]
  },
  {
   "cell_type": "code",
   "execution_count": null,
   "metadata": {},
   "outputs": [],
   "source": [
    "###############################################################################\n",
    "# Alignement settings\n",
    "# -------------------\n",
    "\n",
    "# Chose to extract data align on :\n",
    "# - Stimulus presentation : \"sample_stim\"\n",
    "# - Subject's response    : \"sample_resp\"\n",
    "reference = 'sample_stim'\n",
    "\n",
    "\n",
    "# Frequency settings\n",
    "# ------------------\n",
    "\n",
    "# Frequency to consider :\n",
    "# - Gamma : \"f50f150\"\n",
    "# - Beta  : \"f8f24\"\n",
    "freq = \"f50f150\"\n",
    "\n",
    "# amount of temporal smoothing\n",
    "smoothing = \"sm0\"\n",
    "\n",
    "\n",
    "# DFC settings\n",
    "# ------------\n",
    "\n",
    "# Sliding window settings\n",
    "wlen = .5    # length of the window\n",
    "wstep = .01  # amount of overlap between consecituve windows\n",
    "\n",
    "# Estimator of information\n",
    "# 'gcmi'  : Gaussian-Copula Mutual Information\n",
    "# 'corr'  : Pearson correlation\n",
    "# 'dcorr' : Distance correlation\n",
    "estimator = 'gcmi'\n",
    "\n",
    "# temporal settings\n",
    "timings_ref = {\n",
    "    'sample_stim': slice(-1., 2.),  # 0, 2.\n",
    "    'sample_resp': slice(-2., 1.),\n",
    "}\n",
    "\n",
    "savgol = 1.\n",
    "\n",
    "# Folder settings\n",
    "# ---------------\n",
    "\n",
    "# root folder\n",
    "root = '/hpc/brainets/data/db_ebrains/seeg'\n",
    "\n",
    "# define where the data are located\n",
    "from_folder = f'{root}/epochs/{reference}/{freq}-{smoothing}/data'\n",
    "\n",
    "# define where to save the dfc\n",
    "to_folder = f'{root}/conn/dfc-dyn/dfc-%s/st' % estimator\n",
    "\n",
    "# define how to save the file\n",
    "sav_str = int(savgol) if isinstance(savgol, (int, float)) else savgol\n",
    "_save_as = (f\"dfc_est-{estimator}_{reference}-{freq}-{smoothing}_\"\n",
    "            f\"savgol-{sav_str}_%s.nc\")\n",
    "save_as = os.path.join(to_folder, _save_as)\n",
    "###############################################################################\n",
    "\n",
    "# get the list of data files\n",
    "files = os.listdir(from_folder)\n",
    "\n",
    "# get the temporal vector\n",
    "times = xr.load_dataarray(files[0])['times'].data\n",
    "\n",
    "# define windows\n",
    "timings = timings_ref[reference]\n",
    "win, _ = define_windows(\n",
    "    times, slwin_start=timings.start, slwin_stop=timings.stop,\n",
    "    slwin_len=wlen, slwin_step=wstep)\n",
    "\n",
    "# build the estimator\n",
    "if estimator == 'gcmi':\n",
    "    est = GCMIEstimator(mi_type='cc', copnorm=False, biascorrect=False)\n",
    "elif estimator == 'corr':\n",
    "    est = CorrEstimator()\n",
    "elif estimator == 'dcorr':\n",
    "    est = DcorrEstimator(implementation='frites')\n"
   ]
  },
  {
   "cell_type": "markdown",
   "metadata": {},
   "source": [
    "# **Compute Functional Connectivity**\n",
    "---\n",
    "\n",
    "## Low-level function or computing FC "
   ]
  },
  {
   "cell_type": "code",
   "execution_count": null,
   "metadata": {},
   "outputs": [],
   "source": [
    "def compute_dfc(s, from_folder, save_as, estimator, win, savgol, n_jobs):\n",
    "    \"\"\"Compute the DFC of a single subject, in a single thread.\"\"\"\n",
    "\n",
    "    # -------------------------------------------------------------------------\n",
    "    # skip if already computed\n",
    "    if os.path.isfile(save_as_mean % s):\n",
    "        print(f'---- SUBJECT {s} SKIPPED BECAUSE ALREADY COMPUTED ----')\n",
    "        return None\n",
    "\n",
    "    # -------------------------------------------------------------------------\n",
    "    # load the DataArray\n",
    "    f = st.search(s, folder=from_folder, verbose=True)\n",
    "    assert len(f) == 1\n",
    "    _da = xr.open_dataarray(f[0]).astype(np.float32)\n",
    "    trials = _da['trials']\n",
    "    sfreq = _da.attrs['sfreq']\n",
    "\n",
    "    # if needed, smooth the data\n",
    "    if isinstance(savgol, (int, float)):\n",
    "        _da = savgol_filter(_da, savgol, axis='times', sfreq=sfreq)\n",
    "\n",
    "    # reset the dataarray (didn't found a beter solution...)\n",
    "    _tr = np.arange(len(trials))\n",
    "    da = xr.DataArray(\n",
    "        _da.data, dims=('trials', 'roi', 'times'),\n",
    "        coords=(_tr, _da['roi'].data.astype(str), _da['times']))\n",
    "\n",
    "    # drop bad roi\n",
    "    keep = ['parcel' not in r for r in da['roi'].data]\n",
    "    da = da.sel(roi=keep)\n",
    "\n",
    "    # compute dfc\n",
    "    dfc = conn_dfc(da, times='times', roi='roi', estimator=estimator,\n",
    "                   n_jobs=n_jobs, win_sample=win)\n",
    "    dfc = dfc.astype(np.float32)\n",
    "    dfc['trials'] = trials\n",
    "\n",
    "    dfc.to_netcdf(save_as % s)\n"
   ]
  },
  {
   "cell_type": "markdown",
   "metadata": {},
   "source": [
    "## Compute the single-subject, single-trial DFC"
   ]
  },
  {
   "cell_type": "code",
   "execution_count": null,
   "metadata": {},
   "outputs": [],
   "source": [
    "for f in files:\n",
    "    suj = f.split('_')[0]\n",
    "    compute_dfc( suj, from_folder, save_as, est, win, savgol, -1)\n"
   ]
  }
 ],
 "metadata": {
  "kernelspec": {
   "display_name": "base",
   "language": "python",
   "name": "python3"
  },
  "language_info": {
   "name": "python",
   "version": "3.9.13 (main, Aug 25 2022, 23:26:10) \n[GCC 11.2.0]"
  },
  "orig_nbformat": 4,
  "vscode": {
   "interpreter": {
    "hash": "be1f7b27c611408e120044e54b72ddebb6ea986b85d66ed2e48481f7018406e6"
   }
  }
 },
 "nbformat": 4,
 "nbformat_minor": 2
}
