{
 "cells": [
  {
   "cell_type": "markdown",
   "metadata": {},
   "source": [
    "This notebook includes :\n",
    "1) Triggers reading\n",
    "2) Events detection (begining / ending of a block, response of the subject etc.)\n",
    "3) Plots (either per subject or at the population level)"
   ]
  },
  {
   "cell_type": "code",
   "execution_count": 35,
   "metadata": {},
   "outputs": [
    {
     "data": {
      "text/plain": [
       "'4.14.3'"
      ]
     },
     "execution_count": 35,
     "metadata": {},
     "output_type": "execute_result"
    }
   ],
   "source": [
    "import os\n",
    "import json\n",
    "import re\n",
    "import glob\n",
    "\n",
    "import numpy as np\n",
    "import pandas as pd\n",
    "\n",
    "# import matplotlib.pyplot as plt\n",
    "# import seaborn as sns\n",
    "\n",
    "import plotly\n",
    "import plotly.express as px\n",
    "plotly.__version__"
   ]
  },
  {
   "cell_type": "markdown",
   "metadata": {},
   "source": [
    "---\n",
    "# Global definitions\n",
    "## Global variables"
   ]
  },
  {
   "cell_type": "code",
   "execution_count": 2,
   "metadata": {},
   "outputs": [],
   "source": [
    "# defines where files are located\n",
    "root = '/envau/work/bagamore/brovelli.a/Data/Neurophy/SEEG_EBRAINS/Cohort %s/%s/%s/*_MCSE_*.pos'\n",
    "subject = 'HID-Sub-000'\n",
    "sfreq = 64.\n",
    "\n",
    "# load the cohort config file\n",
    "with open(\"../../seeg-ebrains/config/db_cohort.json\", 'r') as f:\n",
    "    cfg = json.load(f)"
   ]
  },
  {
   "cell_type": "markdown",
   "metadata": {},
   "source": [
    "## Global functions\n",
    "### Read the triggers\n",
    "Read the pos file and extract the triggers"
   ]
  },
  {
   "cell_type": "code",
   "execution_count": 3,
   "metadata": {},
   "outputs": [],
   "source": [
    "def read_pos(path_pos):\n",
    "    \"\"\"Path to the pos file and return a dataframe containing the triggers and samples\n",
    "    at which triggers appeared.\"\"\"\n",
    "    # read the file\n",
    "    r = np.genfromtxt(path_pos)\n",
    "    assert (r.ndim == 2) and (r.shape[1] == 3)\n",
    "    # dataframe conversion\n",
    "    df = pd.DataFrame(r[:, 0:2].astype(int), columns=['sample', 'trigger'])\n",
    "    return df"
   ]
  },
  {
   "cell_type": "markdown",
   "metadata": {},
   "source": [
    "### Event detection"
   ]
  },
  {
   "cell_type": "code",
   "execution_count": 4,
   "metadata": {},
   "outputs": [],
   "source": [
    "def detect_events(df):\n",
    "    \"\"\"Detect events.\n",
    "    \n",
    "    This function takes as input the dataframe containing triggers and samples\n",
    "    and return a dataframe which all of the detected events (easy /hard blocks;\n",
    "    reponse; response time; correct / incorrect)\n",
    "    \"\"\"\n",
    "    # detect consecutive events\n",
    "    block, response, t_block = [], [], None\n",
    "    for n_t, t in enumerate(list(df['trigger'])):\n",
    "        if t in [11, 12, 61, 62]:\n",
    "            t_block = n_t\n",
    "        elif t in [1, 2] and t_block is not None:\n",
    "            block += [t_block]\n",
    "            response += [n_t]\n",
    "            t_block = None\n",
    "    # build dataframe\n",
    "    dat = np.c_[df.loc[block, 'sample'], df.loc[response, 'sample'],\n",
    "                df.loc[block, 'trigger'], df.loc[response, 'trigger']].astype(int)\n",
    "    df_t = pd.DataFrame(dat, columns=['sample_stim', 'sample_resp', 'trig_stim', 'trig_resp'])\n",
    "    # insert timings\n",
    "    df_t['time_stim'] = df_t['sample_stim'] / sfreq\n",
    "    df_t['time_resp'] = df_t['sample_resp'] / sfreq\n",
    "    df_t['response_time'] = df_t['time_resp'] - df_t['time_stim']\n",
    "    # add if correct answer\n",
    "    df_t['correct'] = np.mod(dat[:, -2] - dat[:, -1], 10) == 0\n",
    "    # add column for difficulty of the task\n",
    "    df_t['difficulty'] = ['easy'] * len(df_t)\n",
    "    stim = np.array(list(df_t['trig_stim']))\n",
    "    df_t.loc[np.logical_or(stim == 61, stim == 62), 'difficulty'] = 'hard'\n",
    "    # add orientation of the \"T\" letter\n",
    "    df_t['T_orientation'] = ['T down'] * len(df_t)\n",
    "    df_t.loc[np.logical_or(stim == 12, stim == 62), 'T_orientation'] = 'T up'\n",
    "    return df_t\n"
   ]
  },
  {
   "cell_type": "markdown",
   "metadata": {},
   "source": [
    "---\n",
    "# Loading pos files and detect events"
   ]
  },
  {
   "cell_type": "code",
   "execution_count": 5,
   "metadata": {},
   "outputs": [
    {
     "name": "stdout",
     "output_type": "stream",
     "text": [
      "Missing (total=2) : [28, 46]\n",
      "Failed (total=35) : [6, 7, 34, 38, 39, 40, 41, 42, 43, 44, 45, 47, 48, 49, 50, 51, 52, 53, 54, 55, 56, 57, 58, 59, 60, 61, 62, 63, 64, 65, 66, 67, 68, 69, 70]\n"
     ]
    }
   ],
   "source": [
    "df_events, missing, fail = [], [], []\n",
    "for coh in ['I', 'II', 'III']:\n",
    "    suj_range = cfg[coh]['s_range']\n",
    "    seeg_folder = cfg[coh]['seeg_folder']\n",
    "    for suj in range(suj_range[0], suj_range[1] + 1):\n",
    "        print(f\"Cohort {coh} : {suj}\", end='\\r')\n",
    "        # define subject name\n",
    "        id_suj = str(suj)\n",
    "        s_name = subject[0:-len(id_suj)] + id_suj\n",
    "        \n",
    "        # define path to the pos file\n",
    "        path_pos = root % (coh, seeg_folder, s_name)\n",
    "        \n",
    "        # get pos file name\n",
    "        file = glob.glob(path_pos)\n",
    "        if len(file) != 1:\n",
    "            missing += [suj]\n",
    "            continue\n",
    "        \n",
    "        # read the triggers and events\n",
    "        df_trig = read_pos(file[0])\n",
    "        df_ev = detect_events(df_trig)\n",
    "        \n",
    "        # track those fow which events detection failed\n",
    "        if len(df_ev) < 10:\n",
    "            # here we say that if there's not at least, 10 events, it's considered\n",
    "            # as a bad file\n",
    "            fail += [suj]\n",
    "            continue\n",
    "        \n",
    "        # add subject name to the columns\n",
    "        df_ev['subject'] = [s_name] * len(df_ev)\n",
    "        \n",
    "        df_events += [df_ev]\n",
    "\n",
    "print(f\"Missing (total={len(missing)}) : {missing}\")\n",
    "print(f\"Failed (total={len(fail)}) : {fail}\")\n",
    "df_events = pd.concat(df_events).reset_index()\n",
    "n_subjects = len(np.unique(df_events['subject']))"
   ]
  },
  {
   "cell_type": "code",
   "execution_count": null,
   "metadata": {},
   "outputs": [],
   "source": [
    "df_events"
   ]
  },
  {
   "cell_type": "markdown",
   "metadata": {},
   "source": [
    "---\n",
    "# Per subject results\n",
    "## Mean response time between easy / hard blocks"
   ]
  },
  {
   "cell_type": "code",
   "execution_count": 14,
   "metadata": {},
   "outputs": [],
   "source": [
    "gp_suj_dif = df_events.groupby(['subject', 'difficulty'])\n",
    "df_resp_suj = gp_suj_dif.mean()['response_time'].reset_index()\n",
    "# df_resp_suj"
   ]
  },
  {
   "cell_type": "code",
   "execution_count": 15,
   "metadata": {},
   "outputs": [
    {
     "data": {
      "application/vnd.plotly.v1+json": {
       "config": {
        "plotlyServerURL": "https://plot.ly"
       },
       "data": [
        {
         "alignmentgroup": "True",
         "hovertemplate": "difficulty=easy<br>subject=%{x}<br>response_time=%{y}<extra></extra>",
         "legendgroup": "easy",
         "marker": {
          "color": "#636efa"
         },
         "name": "easy",
         "offsetgroup": "easy",
         "orientation": "v",
         "showlegend": true,
         "textposition": "auto",
         "type": "bar",
         "x": [
          "01",
          "02",
          "03",
          "04",
          "05",
          "08",
          "09",
          "10",
          "11",
          "12",
          "13",
          "14",
          "15",
          "16",
          "17",
          "18",
          "19",
          "20",
          "21",
          "22",
          "23",
          "24",
          "25",
          "26",
          "27",
          "29",
          "30",
          "31",
          "32",
          "33",
          "35",
          "36",
          "37"
         ],
         "xaxis": "x",
         "y": [
          1.7645833333333334,
          0.793218085106383,
          1.2815755208333333,
          0.9127604166666666,
          0.6946614583333334,
          1.328125,
          1.1748046875,
          1.0221354166666667,
          1.6289970930232558,
          1.1695963541666667,
          1.0924479166666667,
          0.7522786458333334,
          1.9840353260869565,
          0.8186848958333334,
          0.8063151041666666,
          1.0276692708333333,
          0.7347005208333334,
          0.857421875,
          0.734375,
          1.3486328125,
          0.9729817708333334,
          1.0558510638297873,
          0.9173177083333334,
          0.9934895833333334,
          0.78515625,
          1.0176196808510638,
          1.1046195652173914,
          1.3899739583333333,
          0.8616536458333334,
          0.8424479166666666,
          1.2379557291666667,
          2.033482142857143,
          1.457638888888889
         ],
         "yaxis": "y"
        },
        {
         "alignmentgroup": "True",
         "hovertemplate": "difficulty=hard<br>subject=%{x}<br>response_time=%{y}<extra></extra>",
         "legendgroup": "hard",
         "marker": {
          "color": "#EF553B"
         },
         "name": "hard",
         "offsetgroup": "hard",
         "orientation": "v",
         "showlegend": true,
         "textposition": "auto",
         "type": "bar",
         "x": [
          "01",
          "02",
          "03",
          "04",
          "05",
          "08",
          "09",
          "10",
          "11",
          "12",
          "13",
          "14",
          "15",
          "16",
          "17",
          "18",
          "19",
          "20",
          "21",
          "22",
          "23",
          "24",
          "25",
          "26",
          "27",
          "29",
          "30",
          "31",
          "32",
          "33",
          "35",
          "36",
          "37"
         ],
         "xaxis": "x",
         "y": [
          1.8485576923076923,
          1.3082682291666667,
          1.6520182291666667,
          1.2892287234042554,
          1.1946614583333333,
          1.6154725609756098,
          1.7356770833333333,
          1.0768229166666667,
          1.9092261904761905,
          1.5621603260869565,
          1.5162898936170213,
          1.418218085106383,
          2.24609375,
          1.2275390625,
          1.5641983695652173,
          1.4227941176470589,
          1.122961956521739,
          1.4763808139534884,
          1.0501302083333333,
          1.765625,
          1.6340843023255813,
          1.6920731707317074,
          1.6614583333333333,
          1.720753205128205,
          1.7435897435897436,
          1.626953125,
          1.5535239361702127,
          1.6476063829787233,
          1.5690972222222221,
          1.216796875,
          1.8086890243902438,
          1.997532894736842,
          2.0630387931034484
         ],
         "yaxis": "y"
        }
       ],
       "layout": {
        "barmode": "group",
        "height": 600,
        "legend": {
         "title": {
          "text": "difficulty"
         },
         "tracegroupgap": 0
        },
        "template": {
         "data": {
          "bar": [
           {
            "error_x": {
             "color": "#2a3f5f"
            },
            "error_y": {
             "color": "#2a3f5f"
            },
            "marker": {
             "line": {
              "color": "white",
              "width": 0.5
             }
            },
            "type": "bar"
           }
          ],
          "barpolar": [
           {
            "marker": {
             "line": {
              "color": "white",
              "width": 0.5
             }
            },
            "type": "barpolar"
           }
          ],
          "carpet": [
           {
            "aaxis": {
             "endlinecolor": "#2a3f5f",
             "gridcolor": "#C8D4E3",
             "linecolor": "#C8D4E3",
             "minorgridcolor": "#C8D4E3",
             "startlinecolor": "#2a3f5f"
            },
            "baxis": {
             "endlinecolor": "#2a3f5f",
             "gridcolor": "#C8D4E3",
             "linecolor": "#C8D4E3",
             "minorgridcolor": "#C8D4E3",
             "startlinecolor": "#2a3f5f"
            },
            "type": "carpet"
           }
          ],
          "choropleth": [
           {
            "colorbar": {
             "outlinewidth": 0,
             "ticks": ""
            },
            "type": "choropleth"
           }
          ],
          "contour": [
           {
            "colorbar": {
             "outlinewidth": 0,
             "ticks": ""
            },
            "colorscale": [
             [
              0,
              "#0d0887"
             ],
             [
              0.1111111111111111,
              "#46039f"
             ],
             [
              0.2222222222222222,
              "#7201a8"
             ],
             [
              0.3333333333333333,
              "#9c179e"
             ],
             [
              0.4444444444444444,
              "#bd3786"
             ],
             [
              0.5555555555555556,
              "#d8576b"
             ],
             [
              0.6666666666666666,
              "#ed7953"
             ],
             [
              0.7777777777777778,
              "#fb9f3a"
             ],
             [
              0.8888888888888888,
              "#fdca26"
             ],
             [
              1,
              "#f0f921"
             ]
            ],
            "type": "contour"
           }
          ],
          "contourcarpet": [
           {
            "colorbar": {
             "outlinewidth": 0,
             "ticks": ""
            },
            "type": "contourcarpet"
           }
          ],
          "heatmap": [
           {
            "colorbar": {
             "outlinewidth": 0,
             "ticks": ""
            },
            "colorscale": [
             [
              0,
              "#0d0887"
             ],
             [
              0.1111111111111111,
              "#46039f"
             ],
             [
              0.2222222222222222,
              "#7201a8"
             ],
             [
              0.3333333333333333,
              "#9c179e"
             ],
             [
              0.4444444444444444,
              "#bd3786"
             ],
             [
              0.5555555555555556,
              "#d8576b"
             ],
             [
              0.6666666666666666,
              "#ed7953"
             ],
             [
              0.7777777777777778,
              "#fb9f3a"
             ],
             [
              0.8888888888888888,
              "#fdca26"
             ],
             [
              1,
              "#f0f921"
             ]
            ],
            "type": "heatmap"
           }
          ],
          "heatmapgl": [
           {
            "colorbar": {
             "outlinewidth": 0,
             "ticks": ""
            },
            "colorscale": [
             [
              0,
              "#0d0887"
             ],
             [
              0.1111111111111111,
              "#46039f"
             ],
             [
              0.2222222222222222,
              "#7201a8"
             ],
             [
              0.3333333333333333,
              "#9c179e"
             ],
             [
              0.4444444444444444,
              "#bd3786"
             ],
             [
              0.5555555555555556,
              "#d8576b"
             ],
             [
              0.6666666666666666,
              "#ed7953"
             ],
             [
              0.7777777777777778,
              "#fb9f3a"
             ],
             [
              0.8888888888888888,
              "#fdca26"
             ],
             [
              1,
              "#f0f921"
             ]
            ],
            "type": "heatmapgl"
           }
          ],
          "histogram": [
           {
            "marker": {
             "colorbar": {
              "outlinewidth": 0,
              "ticks": ""
             }
            },
            "type": "histogram"
           }
          ],
          "histogram2d": [
           {
            "colorbar": {
             "outlinewidth": 0,
             "ticks": ""
            },
            "colorscale": [
             [
              0,
              "#0d0887"
             ],
             [
              0.1111111111111111,
              "#46039f"
             ],
             [
              0.2222222222222222,
              "#7201a8"
             ],
             [
              0.3333333333333333,
              "#9c179e"
             ],
             [
              0.4444444444444444,
              "#bd3786"
             ],
             [
              0.5555555555555556,
              "#d8576b"
             ],
             [
              0.6666666666666666,
              "#ed7953"
             ],
             [
              0.7777777777777778,
              "#fb9f3a"
             ],
             [
              0.8888888888888888,
              "#fdca26"
             ],
             [
              1,
              "#f0f921"
             ]
            ],
            "type": "histogram2d"
           }
          ],
          "histogram2dcontour": [
           {
            "colorbar": {
             "outlinewidth": 0,
             "ticks": ""
            },
            "colorscale": [
             [
              0,
              "#0d0887"
             ],
             [
              0.1111111111111111,
              "#46039f"
             ],
             [
              0.2222222222222222,
              "#7201a8"
             ],
             [
              0.3333333333333333,
              "#9c179e"
             ],
             [
              0.4444444444444444,
              "#bd3786"
             ],
             [
              0.5555555555555556,
              "#d8576b"
             ],
             [
              0.6666666666666666,
              "#ed7953"
             ],
             [
              0.7777777777777778,
              "#fb9f3a"
             ],
             [
              0.8888888888888888,
              "#fdca26"
             ],
             [
              1,
              "#f0f921"
             ]
            ],
            "type": "histogram2dcontour"
           }
          ],
          "mesh3d": [
           {
            "colorbar": {
             "outlinewidth": 0,
             "ticks": ""
            },
            "type": "mesh3d"
           }
          ],
          "parcoords": [
           {
            "line": {
             "colorbar": {
              "outlinewidth": 0,
              "ticks": ""
             }
            },
            "type": "parcoords"
           }
          ],
          "pie": [
           {
            "automargin": true,
            "type": "pie"
           }
          ],
          "scatter": [
           {
            "marker": {
             "colorbar": {
              "outlinewidth": 0,
              "ticks": ""
             }
            },
            "type": "scatter"
           }
          ],
          "scatter3d": [
           {
            "line": {
             "colorbar": {
              "outlinewidth": 0,
              "ticks": ""
             }
            },
            "marker": {
             "colorbar": {
              "outlinewidth": 0,
              "ticks": ""
             }
            },
            "type": "scatter3d"
           }
          ],
          "scattercarpet": [
           {
            "marker": {
             "colorbar": {
              "outlinewidth": 0,
              "ticks": ""
             }
            },
            "type": "scattercarpet"
           }
          ],
          "scattergeo": [
           {
            "marker": {
             "colorbar": {
              "outlinewidth": 0,
              "ticks": ""
             }
            },
            "type": "scattergeo"
           }
          ],
          "scattergl": [
           {
            "marker": {
             "colorbar": {
              "outlinewidth": 0,
              "ticks": ""
             }
            },
            "type": "scattergl"
           }
          ],
          "scattermapbox": [
           {
            "marker": {
             "colorbar": {
              "outlinewidth": 0,
              "ticks": ""
             }
            },
            "type": "scattermapbox"
           }
          ],
          "scatterpolar": [
           {
            "marker": {
             "colorbar": {
              "outlinewidth": 0,
              "ticks": ""
             }
            },
            "type": "scatterpolar"
           }
          ],
          "scatterpolargl": [
           {
            "marker": {
             "colorbar": {
              "outlinewidth": 0,
              "ticks": ""
             }
            },
            "type": "scatterpolargl"
           }
          ],
          "scatterternary": [
           {
            "marker": {
             "colorbar": {
              "outlinewidth": 0,
              "ticks": ""
             }
            },
            "type": "scatterternary"
           }
          ],
          "surface": [
           {
            "colorbar": {
             "outlinewidth": 0,
             "ticks": ""
            },
            "colorscale": [
             [
              0,
              "#0d0887"
             ],
             [
              0.1111111111111111,
              "#46039f"
             ],
             [
              0.2222222222222222,
              "#7201a8"
             ],
             [
              0.3333333333333333,
              "#9c179e"
             ],
             [
              0.4444444444444444,
              "#bd3786"
             ],
             [
              0.5555555555555556,
              "#d8576b"
             ],
             [
              0.6666666666666666,
              "#ed7953"
             ],
             [
              0.7777777777777778,
              "#fb9f3a"
             ],
             [
              0.8888888888888888,
              "#fdca26"
             ],
             [
              1,
              "#f0f921"
             ]
            ],
            "type": "surface"
           }
          ],
          "table": [
           {
            "cells": {
             "fill": {
              "color": "#EBF0F8"
             },
             "line": {
              "color": "white"
             }
            },
            "header": {
             "fill": {
              "color": "#C8D4E3"
             },
             "line": {
              "color": "white"
             }
            },
            "type": "table"
           }
          ]
         },
         "layout": {
          "annotationdefaults": {
           "arrowcolor": "#2a3f5f",
           "arrowhead": 0,
           "arrowwidth": 1
          },
          "autotypenumbers": "strict",
          "coloraxis": {
           "colorbar": {
            "outlinewidth": 0,
            "ticks": ""
           }
          },
          "colorscale": {
           "diverging": [
            [
             0,
             "#8e0152"
            ],
            [
             0.1,
             "#c51b7d"
            ],
            [
             0.2,
             "#de77ae"
            ],
            [
             0.3,
             "#f1b6da"
            ],
            [
             0.4,
             "#fde0ef"
            ],
            [
             0.5,
             "#f7f7f7"
            ],
            [
             0.6,
             "#e6f5d0"
            ],
            [
             0.7,
             "#b8e186"
            ],
            [
             0.8,
             "#7fbc41"
            ],
            [
             0.9,
             "#4d9221"
            ],
            [
             1,
             "#276419"
            ]
           ],
           "sequential": [
            [
             0,
             "#0d0887"
            ],
            [
             0.1111111111111111,
             "#46039f"
            ],
            [
             0.2222222222222222,
             "#7201a8"
            ],
            [
             0.3333333333333333,
             "#9c179e"
            ],
            [
             0.4444444444444444,
             "#bd3786"
            ],
            [
             0.5555555555555556,
             "#d8576b"
            ],
            [
             0.6666666666666666,
             "#ed7953"
            ],
            [
             0.7777777777777778,
             "#fb9f3a"
            ],
            [
             0.8888888888888888,
             "#fdca26"
            ],
            [
             1,
             "#f0f921"
            ]
           ],
           "sequentialminus": [
            [
             0,
             "#0d0887"
            ],
            [
             0.1111111111111111,
             "#46039f"
            ],
            [
             0.2222222222222222,
             "#7201a8"
            ],
            [
             0.3333333333333333,
             "#9c179e"
            ],
            [
             0.4444444444444444,
             "#bd3786"
            ],
            [
             0.5555555555555556,
             "#d8576b"
            ],
            [
             0.6666666666666666,
             "#ed7953"
            ],
            [
             0.7777777777777778,
             "#fb9f3a"
            ],
            [
             0.8888888888888888,
             "#fdca26"
            ],
            [
             1,
             "#f0f921"
            ]
           ]
          },
          "colorway": [
           "#636efa",
           "#EF553B",
           "#00cc96",
           "#ab63fa",
           "#FFA15A",
           "#19d3f3",
           "#FF6692",
           "#B6E880",
           "#FF97FF",
           "#FECB52"
          ],
          "font": {
           "color": "#2a3f5f"
          },
          "geo": {
           "bgcolor": "white",
           "lakecolor": "white",
           "landcolor": "white",
           "showlakes": true,
           "showland": true,
           "subunitcolor": "#C8D4E3"
          },
          "hoverlabel": {
           "align": "left"
          },
          "hovermode": "closest",
          "mapbox": {
           "style": "light"
          },
          "paper_bgcolor": "white",
          "plot_bgcolor": "white",
          "polar": {
           "angularaxis": {
            "gridcolor": "#EBF0F8",
            "linecolor": "#EBF0F8",
            "ticks": ""
           },
           "bgcolor": "white",
           "radialaxis": {
            "gridcolor": "#EBF0F8",
            "linecolor": "#EBF0F8",
            "ticks": ""
           }
          },
          "scene": {
           "xaxis": {
            "backgroundcolor": "white",
            "gridcolor": "#DFE8F3",
            "gridwidth": 2,
            "linecolor": "#EBF0F8",
            "showbackground": true,
            "ticks": "",
            "zerolinecolor": "#EBF0F8"
           },
           "yaxis": {
            "backgroundcolor": "white",
            "gridcolor": "#DFE8F3",
            "gridwidth": 2,
            "linecolor": "#EBF0F8",
            "showbackground": true,
            "ticks": "",
            "zerolinecolor": "#EBF0F8"
           },
           "zaxis": {
            "backgroundcolor": "white",
            "gridcolor": "#DFE8F3",
            "gridwidth": 2,
            "linecolor": "#EBF0F8",
            "showbackground": true,
            "ticks": "",
            "zerolinecolor": "#EBF0F8"
           }
          },
          "shapedefaults": {
           "line": {
            "color": "#2a3f5f"
           }
          },
          "ternary": {
           "aaxis": {
            "gridcolor": "#DFE8F3",
            "linecolor": "#A2B1C6",
            "ticks": ""
           },
           "baxis": {
            "gridcolor": "#DFE8F3",
            "linecolor": "#A2B1C6",
            "ticks": ""
           },
           "bgcolor": "white",
           "caxis": {
            "gridcolor": "#DFE8F3",
            "linecolor": "#A2B1C6",
            "ticks": ""
           }
          },
          "title": {
           "x": 0.05
          },
          "xaxis": {
           "automargin": true,
           "gridcolor": "#EBF0F8",
           "linecolor": "#EBF0F8",
           "ticks": "",
           "title": {
            "standoff": 15
           },
           "zerolinecolor": "#EBF0F8",
           "zerolinewidth": 2
          },
          "yaxis": {
           "automargin": true,
           "gridcolor": "#EBF0F8",
           "linecolor": "#EBF0F8",
           "ticks": "",
           "title": {
            "standoff": 15
           },
           "zerolinecolor": "#EBF0F8",
           "zerolinewidth": 2
          }
         }
        },
        "title": {
         "text": "Mean response time per subject (n_subjects=33)"
        },
        "width": 1400,
        "xaxis": {
         "anchor": "y",
         "autorange": true,
         "domain": [
          0,
          1
         ],
         "range": [
          -0.5,
          32.5
         ],
         "title": {
          "text": "subject"
         },
         "type": "category"
        },
        "yaxis": {
         "anchor": "x",
         "autorange": true,
         "domain": [
          0,
          1
         ],
         "range": [
          0,
          2.364309210526316
         ],
         "title": {
          "text": "response_time"
         },
         "type": "linear"
        }
       }
      },
      "image/png": "[encoded data removed]",
      "text/html": [
       "<div>                            <div id=\"c31a57d7-1b9b-4e8a-ae20-6bb0c83f2f3b\" class=\"plotly-graph-div\" style=\"height:600px; width:1400px;\"></div>            <script type=\"text/javascript\">                require([\"plotly\"], function(Plotly) {                    window.PLOTLYENV=window.PLOTLYENV || {};                                    if (document.getElementById(\"c31a57d7-1b9b-4e8a-ae20-6bb0c83f2f3b\")) {                    Plotly.newPlot(                        \"c31a57d7-1b9b-4e8a-ae20-6bb0c83f2f3b\",                        [{\"alignmentgroup\": \"True\", \"hovertemplate\": \"difficulty=easy<br>subject=%{x}<br>response_time=%{y}<extra></extra>\", \"legendgroup\": \"easy\", \"marker\": {\"color\": \"#636efa\"}, \"name\": \"easy\", \"offsetgroup\": \"easy\", \"orientation\": \"v\", \"showlegend\": true, \"textposition\": \"auto\", \"type\": \"bar\", \"x\": [\"01\", \"02\", \"03\", \"04\", \"05\", \"08\", \"09\", \"10\", \"11\", \"12\", \"13\", \"14\", \"15\", \"16\", \"17\", \"18\", \"19\", \"20\", \"21\", \"22\", \"23\", \"24\", \"25\", \"26\", \"27\", \"29\", \"30\", \"31\", \"32\", \"33\", \"35\", \"36\", \"37\"], \"xaxis\": \"x\", \"y\": [1.7645833333333334, 0.793218085106383, 1.2815755208333333, 0.9127604166666666, 0.6946614583333334, 1.328125, 1.1748046875, 1.0221354166666667, 1.6289970930232558, 1.1695963541666667, 1.0924479166666667, 0.7522786458333334, 1.9840353260869565, 0.8186848958333334, 0.8063151041666666, 1.0276692708333333, 0.7347005208333334, 0.857421875, 0.734375, 1.3486328125, 0.9729817708333334, 1.0558510638297873, 0.9173177083333334, 0.9934895833333334, 0.78515625, 1.0176196808510638, 1.1046195652173914, 1.3899739583333333, 0.8616536458333334, 0.8424479166666666, 1.2379557291666667, 2.033482142857143, 1.457638888888889], \"yaxis\": \"y\"}, {\"alignmentgroup\": \"True\", \"hovertemplate\": \"difficulty=hard<br>subject=%{x}<br>response_time=%{y}<extra></extra>\", \"legendgroup\": \"hard\", \"marker\": {\"color\": \"#EF553B\"}, \"name\": \"hard\", \"offsetgroup\": \"hard\", \"orientation\": \"v\", \"showlegend\": true, \"textposition\": \"auto\", \"type\": \"bar\", \"x\": [\"01\", \"02\", \"03\", \"04\", \"05\", \"08\", \"09\", \"10\", \"11\", \"12\", \"13\", \"14\", \"15\", \"16\", \"17\", \"18\", \"19\", \"20\", \"21\", \"22\", \"23\", \"24\", \"25\", \"26\", \"27\", \"29\", \"30\", \"31\", \"32\", \"33\", \"35\", \"36\", \"37\"], \"xaxis\": \"x\", \"y\": [1.8485576923076923, 1.3082682291666667, 1.6520182291666667, 1.2892287234042554, 1.1946614583333333, 1.6154725609756098, 1.7356770833333333, 1.0768229166666667, 1.9092261904761905, 1.5621603260869565, 1.5162898936170213, 1.418218085106383, 2.24609375, 1.2275390625, 1.5641983695652173, 1.4227941176470589, 1.122961956521739, 1.4763808139534884, 1.0501302083333333, 1.765625, 1.6340843023255813, 1.6920731707317074, 1.6614583333333333, 1.720753205128205, 1.7435897435897436, 1.626953125, 1.5535239361702127, 1.6476063829787233, 1.5690972222222221, 1.216796875, 1.8086890243902438, 1.997532894736842, 2.0630387931034484], \"yaxis\": \"y\"}],                        {\"barmode\": \"group\", \"height\": 600, \"legend\": {\"title\": {\"text\": \"difficulty\"}, \"tracegroupgap\": 0}, \"template\": {\"data\": {\"bar\": [{\"error_x\": {\"color\": \"#2a3f5f\"}, \"error_y\": {\"color\": \"#2a3f5f\"}, \"marker\": {\"line\": {\"color\": \"white\", \"width\": 0.5}}, \"type\": \"bar\"}], \"barpolar\": [{\"marker\": {\"line\": {\"color\": \"white\", \"width\": 0.5}}, \"type\": \"barpolar\"}], \"carpet\": [{\"aaxis\": {\"endlinecolor\": \"#2a3f5f\", \"gridcolor\": \"#C8D4E3\", \"linecolor\": \"#C8D4E3\", \"minorgridcolor\": \"#C8D4E3\", \"startlinecolor\": \"#2a3f5f\"}, \"baxis\": {\"endlinecolor\": \"#2a3f5f\", \"gridcolor\": \"#C8D4E3\", \"linecolor\": \"#C8D4E3\", \"minorgridcolor\": \"#C8D4E3\", \"startlinecolor\": \"#2a3f5f\"}, \"type\": \"carpet\"}], \"choropleth\": [{\"colorbar\": {\"outlinewidth\": 0, \"ticks\": \"\"}, \"type\": \"choropleth\"}], \"contour\": [{\"colorbar\": {\"outlinewidth\": 0, \"ticks\": \"\"}, \"colorscale\": [[0.0, \"#0d0887\"], [0.1111111111111111, \"#46039f\"], [0.2222222222222222, \"#7201a8\"], [0.3333333333333333, \"#9c179e\"], [0.4444444444444444, \"#bd3786\"], [0.5555555555555556, \"#d8576b\"], [0.6666666666666666, \"#ed7953\"], [0.7777777777777778, \"#fb9f3a\"], [0.8888888888888888, \"#fdca26\"], [1.0, \"#f0f921\"]], \"type\": \"contour\"}], \"contourcarpet\": [{\"colorbar\": {\"outlinewidth\": 0, \"ticks\": \"\"}, \"type\": \"contourcarpet\"}], \"heatmap\": [{\"colorbar\": {\"outlinewidth\": 0, \"ticks\": \"\"}, \"colorscale\": [[0.0, \"#0d0887\"], [0.1111111111111111, \"#46039f\"], [0.2222222222222222, \"#7201a8\"], [0.3333333333333333, \"#9c179e\"], [0.4444444444444444, \"#bd3786\"], [0.5555555555555556, \"#d8576b\"], [0.6666666666666666, \"#ed7953\"], [0.7777777777777778, \"#fb9f3a\"], [0.8888888888888888, \"#fdca26\"], [1.0, \"#f0f921\"]], \"type\": \"heatmap\"}], \"heatmapgl\": [{\"colorbar\": {\"outlinewidth\": 0, \"ticks\": \"\"}, \"colorscale\": [[0.0, \"#0d0887\"], [0.1111111111111111, \"#46039f\"], [0.2222222222222222, \"#7201a8\"], [0.3333333333333333, \"#9c179e\"], [0.4444444444444444, \"#bd3786\"], [0.5555555555555556, \"#d8576b\"], [0.6666666666666666, \"#ed7953\"], [0.7777777777777778, \"#fb9f3a\"], [0.8888888888888888, \"#fdca26\"], [1.0, \"#f0f921\"]], \"type\": \"heatmapgl\"}], \"histogram\": [{\"marker\": {\"colorbar\": {\"outlinewidth\": 0, \"ticks\": \"\"}}, \"type\": \"histogram\"}], \"histogram2d\": [{\"colorbar\": {\"outlinewidth\": 0, \"ticks\": \"\"}, \"colorscale\": [[0.0, \"#0d0887\"], [0.1111111111111111, \"#46039f\"], [0.2222222222222222, \"#7201a8\"], [0.3333333333333333, \"#9c179e\"], [0.4444444444444444, \"#bd3786\"], [0.5555555555555556, \"#d8576b\"], [0.6666666666666666, \"#ed7953\"], [0.7777777777777778, \"#fb9f3a\"], [0.8888888888888888, \"#fdca26\"], [1.0, \"#f0f921\"]], \"type\": \"histogram2d\"}], \"histogram2dcontour\": [{\"colorbar\": {\"outlinewidth\": 0, \"ticks\": \"\"}, \"colorscale\": [[0.0, \"#0d0887\"], [0.1111111111111111, \"#46039f\"], [0.2222222222222222, \"#7201a8\"], [0.3333333333333333, \"#9c179e\"], [0.4444444444444444, \"#bd3786\"], [0.5555555555555556, \"#d8576b\"], [0.6666666666666666, \"#ed7953\"], [0.7777777777777778, \"#fb9f3a\"], [0.8888888888888888, \"#fdca26\"], [1.0, \"#f0f921\"]], \"type\": \"histogram2dcontour\"}], \"mesh3d\": [{\"colorbar\": {\"outlinewidth\": 0, \"ticks\": \"\"}, \"type\": \"mesh3d\"}], \"parcoords\": [{\"line\": {\"colorbar\": {\"outlinewidth\": 0, \"ticks\": \"\"}}, \"type\": \"parcoords\"}], \"pie\": [{\"automargin\": true, \"type\": \"pie\"}], \"scatter\": [{\"marker\": {\"colorbar\": {\"outlinewidth\": 0, \"ticks\": \"\"}}, \"type\": \"scatter\"}], \"scatter3d\": [{\"line\": {\"colorbar\": {\"outlinewidth\": 0, \"ticks\": \"\"}}, \"marker\": {\"colorbar\": {\"outlinewidth\": 0, \"ticks\": \"\"}}, \"type\": \"scatter3d\"}], \"scattercarpet\": [{\"marker\": {\"colorbar\": {\"outlinewidth\": 0, \"ticks\": \"\"}}, \"type\": \"scattercarpet\"}], \"scattergeo\": [{\"marker\": {\"colorbar\": {\"outlinewidth\": 0, \"ticks\": \"\"}}, \"type\": \"scattergeo\"}], \"scattergl\": [{\"marker\": {\"colorbar\": {\"outlinewidth\": 0, \"ticks\": \"\"}}, \"type\": \"scattergl\"}], \"scattermapbox\": [{\"marker\": {\"colorbar\": {\"outlinewidth\": 0, \"ticks\": \"\"}}, \"type\": \"scattermapbox\"}], \"scatterpolar\": [{\"marker\": {\"colorbar\": {\"outlinewidth\": 0, \"ticks\": \"\"}}, \"type\": \"scatterpolar\"}], \"scatterpolargl\": [{\"marker\": {\"colorbar\": {\"outlinewidth\": 0, \"ticks\": \"\"}}, \"type\": \"scatterpolargl\"}], \"scatterternary\": [{\"marker\": {\"colorbar\": {\"outlinewidth\": 0, \"ticks\": \"\"}}, \"type\": \"scatterternary\"}], \"surface\": [{\"colorbar\": {\"outlinewidth\": 0, \"ticks\": \"\"}, \"colorscale\": [[0.0, \"#0d0887\"], [0.1111111111111111, \"#46039f\"], [0.2222222222222222, \"#7201a8\"], [0.3333333333333333, \"#9c179e\"], [0.4444444444444444, \"#bd3786\"], [0.5555555555555556, \"#d8576b\"], [0.6666666666666666, \"#ed7953\"], [0.7777777777777778, \"#fb9f3a\"], [0.8888888888888888, \"#fdca26\"], [1.0, \"#f0f921\"]], \"type\": \"surface\"}], \"table\": [{\"cells\": {\"fill\": {\"color\": \"#EBF0F8\"}, \"line\": {\"color\": \"white\"}}, \"header\": {\"fill\": {\"color\": \"#C8D4E3\"}, \"line\": {\"color\": \"white\"}}, \"type\": \"table\"}]}, \"layout\": {\"annotationdefaults\": {\"arrowcolor\": \"#2a3f5f\", \"arrowhead\": 0, \"arrowwidth\": 1}, \"autotypenumbers\": \"strict\", \"coloraxis\": {\"colorbar\": {\"outlinewidth\": 0, \"ticks\": \"\"}}, \"colorscale\": {\"diverging\": [[0, \"#8e0152\"], [0.1, \"#c51b7d\"], [0.2, \"#de77ae\"], [0.3, \"#f1b6da\"], [0.4, \"#fde0ef\"], [0.5, \"#f7f7f7\"], [0.6, \"#e6f5d0\"], [0.7, \"#b8e186\"], [0.8, \"#7fbc41\"], [0.9, \"#4d9221\"], [1, \"#276419\"]], \"sequential\": [[0.0, \"#0d0887\"], [0.1111111111111111, \"#46039f\"], [0.2222222222222222, \"#7201a8\"], [0.3333333333333333, \"#9c179e\"], [0.4444444444444444, \"#bd3786\"], [0.5555555555555556, \"#d8576b\"], [0.6666666666666666, \"#ed7953\"], [0.7777777777777778, \"#fb9f3a\"], [0.8888888888888888, \"#fdca26\"], [1.0, \"#f0f921\"]], \"sequentialminus\": [[0.0, \"#0d0887\"], [0.1111111111111111, \"#46039f\"], [0.2222222222222222, \"#7201a8\"], [0.3333333333333333, \"#9c179e\"], [0.4444444444444444, \"#bd3786\"], [0.5555555555555556, \"#d8576b\"], [0.6666666666666666, \"#ed7953\"], [0.7777777777777778, \"#fb9f3a\"], [0.8888888888888888, \"#fdca26\"], [1.0, \"#f0f921\"]]}, \"colorway\": [\"#636efa\", \"#EF553B\", \"#00cc96\", \"#ab63fa\", \"#FFA15A\", \"#19d3f3\", \"#FF6692\", \"#B6E880\", \"#FF97FF\", \"#FECB52\"], \"font\": {\"color\": \"#2a3f5f\"}, \"geo\": {\"bgcolor\": \"white\", \"lakecolor\": \"white\", \"landcolor\": \"white\", \"showlakes\": true, \"showland\": true, \"subunitcolor\": \"#C8D4E3\"}, \"hoverlabel\": {\"align\": \"left\"}, \"hovermode\": \"closest\", \"mapbox\": {\"style\": \"light\"}, \"paper_bgcolor\": \"white\", \"plot_bgcolor\": \"white\", \"polar\": {\"angularaxis\": {\"gridcolor\": \"#EBF0F8\", \"linecolor\": \"#EBF0F8\", \"ticks\": \"\"}, \"bgcolor\": \"white\", \"radialaxis\": {\"gridcolor\": \"#EBF0F8\", \"linecolor\": \"#EBF0F8\", \"ticks\": \"\"}}, \"scene\": {\"xaxis\": {\"backgroundcolor\": \"white\", \"gridcolor\": \"#DFE8F3\", \"gridwidth\": 2, \"linecolor\": \"#EBF0F8\", \"showbackground\": true, \"ticks\": \"\", \"zerolinecolor\": \"#EBF0F8\"}, \"yaxis\": {\"backgroundcolor\": \"white\", \"gridcolor\": \"#DFE8F3\", \"gridwidth\": 2, \"linecolor\": \"#EBF0F8\", \"showbackground\": true, \"ticks\": \"\", \"zerolinecolor\": \"#EBF0F8\"}, \"zaxis\": {\"backgroundcolor\": \"white\", \"gridcolor\": \"#DFE8F3\", \"gridwidth\": 2, \"linecolor\": \"#EBF0F8\", \"showbackground\": true, \"ticks\": \"\", \"zerolinecolor\": \"#EBF0F8\"}}, \"shapedefaults\": {\"line\": {\"color\": \"#2a3f5f\"}}, \"ternary\": {\"aaxis\": {\"gridcolor\": \"#DFE8F3\", \"linecolor\": \"#A2B1C6\", \"ticks\": \"\"}, \"baxis\": {\"gridcolor\": \"#DFE8F3\", \"linecolor\": \"#A2B1C6\", \"ticks\": \"\"}, \"bgcolor\": \"white\", \"caxis\": {\"gridcolor\": \"#DFE8F3\", \"linecolor\": \"#A2B1C6\", \"ticks\": \"\"}}, \"title\": {\"x\": 0.05}, \"xaxis\": {\"automargin\": true, \"gridcolor\": \"#EBF0F8\", \"linecolor\": \"#EBF0F8\", \"ticks\": \"\", \"title\": {\"standoff\": 15}, \"zerolinecolor\": \"#EBF0F8\", \"zerolinewidth\": 2}, \"yaxis\": {\"automargin\": true, \"gridcolor\": \"#EBF0F8\", \"linecolor\": \"#EBF0F8\", \"ticks\": \"\", \"title\": {\"standoff\": 15}, \"zerolinecolor\": \"#EBF0F8\", \"zerolinewidth\": 2}}}, \"title\": {\"text\": \"Mean response time per subject (n_subjects=33)\"}, \"width\": 1400, \"xaxis\": {\"anchor\": \"y\", \"domain\": [0.0, 1.0], \"title\": {\"text\": \"subject\"}}, \"yaxis\": {\"anchor\": \"x\", \"domain\": [0.0, 1.0], \"title\": {\"text\": \"response_time\"}}},                        {\"responsive\": true}                    ).then(function(){\n",
       "                            \n",
       "var gd = document.getElementById('c31a57d7-1b9b-4e8a-ae20-6bb0c83f2f3b');\n",
       "var x = new MutationObserver(function (mutations, observer) {{\n",
       "        var display = window.getComputedStyle(gd).display;\n",
       "        if (!display || display === 'none') {{\n",
       "            console.log([gd, 'removed!']);\n",
       "            Plotly.purge(gd);\n",
       "            observer.disconnect();\n",
       "        }}\n",
       "}});\n",
       "\n",
       "// Listen for the removal of the full notebook cells\n",
       "var notebookContainer = gd.closest('#notebook-container');\n",
       "if (notebookContainer) {{\n",
       "    x.observe(notebookContainer, {childList: true});\n",
       "}}\n",
       "\n",
       "// Listen for the clearing of the current output cell\n",
       "var outputEl = gd.closest('.output');\n",
       "if (outputEl) {{\n",
       "    x.observe(outputEl, {childList: true});\n",
       "}}\n",
       "\n",
       "                        })                };                });            </script>        </div>"
      ]
     },
     "metadata": {},
     "output_type": "display_data"
    }
   ],
   "source": [
    "df_simple_suj = df_resp_suj.copy()\n",
    "df_simple_suj.replace({'HID-Sub-0': ''}, inplace=True, regex=True)\n",
    "\n",
    "px.bar(df_simple_suj, x='subject', y='response_time', color='difficulty', title=f'Mean response time per subject (n_subjects={n_subjects})',\n",
    "       template='plotly_white', width=1400, height=600, barmode='group')"
   ]
  },
  {
   "cell_type": "markdown",
   "metadata": {},
   "source": [
    "# Number of trials per subject and blocks"
   ]
  },
  {
   "cell_type": "code",
   "execution_count": 16,
   "metadata": {},
   "outputs": [],
   "source": [
    "df_nb_trials = gp_suj_dif.count()['index'].reset_index().rename(columns={'index': '# trials'})"
   ]
  },
  {
   "cell_type": "code",
   "execution_count": 17,
   "metadata": {},
   "outputs": [
    {
     "data": {
      "application/vnd.plotly.v1+json": {
       "config": {
        "plotlyServerURL": "https://plot.ly"
       },
       "data": [
        {
         "alignmentgroup": "True",
         "hovertemplate": "difficulty=easy<br>subject=%{x}<br># trials=%{y}<extra></extra>",
         "legendgroup": "easy",
         "marker": {
          "color": "#636efa"
         },
         "name": "easy",
         "offsetgroup": "easy",
         "orientation": "v",
         "showlegend": true,
         "textposition": "auto",
         "type": "bar",
         "x": [
          "01",
          "02",
          "03",
          "04",
          "05",
          "08",
          "09",
          "10",
          "11",
          "12",
          "13",
          "14",
          "15",
          "16",
          "17",
          "18",
          "19",
          "20",
          "21",
          "22",
          "23",
          "24",
          "25",
          "26",
          "27",
          "29",
          "30",
          "31",
          "32",
          "33",
          "35",
          "36",
          "37"
         ],
         "xaxis": "x",
         "y": [
          60,
          47,
          48,
          48,
          48,
          48,
          48,
          48,
          43,
          48,
          48,
          48,
          46,
          48,
          48,
          48,
          48,
          48,
          48,
          48,
          48,
          47,
          48,
          48,
          48,
          47,
          46,
          48,
          48,
          48,
          48,
          21,
          45
         ],
         "yaxis": "y"
        },
        {
         "alignmentgroup": "True",
         "hovertemplate": "difficulty=hard<br>subject=%{x}<br># trials=%{y}<extra></extra>",
         "legendgroup": "hard",
         "marker": {
          "color": "#EF553B"
         },
         "name": "hard",
         "offsetgroup": "hard",
         "orientation": "v",
         "showlegend": true,
         "textposition": "auto",
         "type": "bar",
         "x": [
          "01",
          "02",
          "03",
          "04",
          "05",
          "08",
          "09",
          "10",
          "11",
          "12",
          "13",
          "14",
          "15",
          "16",
          "17",
          "18",
          "19",
          "20",
          "21",
          "22",
          "23",
          "24",
          "25",
          "26",
          "27",
          "29",
          "30",
          "31",
          "32",
          "33",
          "35",
          "36",
          "37"
         ],
         "xaxis": "x",
         "y": [
          52,
          48,
          48,
          47,
          48,
          41,
          36,
          48,
          42,
          46,
          47,
          47,
          44,
          48,
          46,
          34,
          46,
          43,
          48,
          47,
          43,
          41,
          42,
          39,
          39,
          48,
          47,
          47,
          45,
          40,
          41,
          19,
          29
         ],
         "yaxis": "y"
        }
       ],
       "layout": {
        "barmode": "group",
        "height": 600,
        "legend": {
         "title": {
          "text": "difficulty"
         },
         "tracegroupgap": 0
        },
        "template": {
         "data": {
          "bar": [
           {
            "error_x": {
             "color": "#2a3f5f"
            },
            "error_y": {
             "color": "#2a3f5f"
            },
            "marker": {
             "line": {
              "color": "white",
              "width": 0.5
             }
            },
            "type": "bar"
           }
          ],
          "barpolar": [
           {
            "marker": {
             "line": {
              "color": "white",
              "width": 0.5
             }
            },
            "type": "barpolar"
           }
          ],
          "carpet": [
           {
            "aaxis": {
             "endlinecolor": "#2a3f5f",
             "gridcolor": "#C8D4E3",
             "linecolor": "#C8D4E3",
             "minorgridcolor": "#C8D4E3",
             "startlinecolor": "#2a3f5f"
            },
            "baxis": {
             "endlinecolor": "#2a3f5f",
             "gridcolor": "#C8D4E3",
             "linecolor": "#C8D4E3",
             "minorgridcolor": "#C8D4E3",
             "startlinecolor": "#2a3f5f"
            },
            "type": "carpet"
           }
          ],
          "choropleth": [
           {
            "colorbar": {
             "outlinewidth": 0,
             "ticks": ""
            },
            "type": "choropleth"
           }
          ],
          "contour": [
           {
            "colorbar": {
             "outlinewidth": 0,
             "ticks": ""
            },
            "colorscale": [
             [
              0,
              "#0d0887"
             ],
             [
              0.1111111111111111,
              "#46039f"
             ],
             [
              0.2222222222222222,
              "#7201a8"
             ],
             [
              0.3333333333333333,
              "#9c179e"
             ],
             [
              0.4444444444444444,
              "#bd3786"
             ],
             [
              0.5555555555555556,
              "#d8576b"
             ],
             [
              0.6666666666666666,
              "#ed7953"
             ],
             [
              0.7777777777777778,
              "#fb9f3a"
             ],
             [
              0.8888888888888888,
              "#fdca26"
             ],
             [
              1,
              "#f0f921"
             ]
            ],
            "type": "contour"
           }
          ],
          "contourcarpet": [
           {
            "colorbar": {
             "outlinewidth": 0,
             "ticks": ""
            },
            "type": "contourcarpet"
           }
          ],
          "heatmap": [
           {
            "colorbar": {
             "outlinewidth": 0,
             "ticks": ""
            },
            "colorscale": [
             [
              0,
              "#0d0887"
             ],
             [
              0.1111111111111111,
              "#46039f"
             ],
             [
              0.2222222222222222,
              "#7201a8"
             ],
             [
              0.3333333333333333,
              "#9c179e"
             ],
             [
              0.4444444444444444,
              "#bd3786"
             ],
             [
              0.5555555555555556,
              "#d8576b"
             ],
             [
              0.6666666666666666,
              "#ed7953"
             ],
             [
              0.7777777777777778,
              "#fb9f3a"
             ],
             [
              0.8888888888888888,
              "#fdca26"
             ],
             [
              1,
              "#f0f921"
             ]
            ],
            "type": "heatmap"
           }
          ],
          "heatmapgl": [
           {
            "colorbar": {
             "outlinewidth": 0,
             "ticks": ""
            },
            "colorscale": [
             [
              0,
              "#0d0887"
             ],
             [
              0.1111111111111111,
              "#46039f"
             ],
             [
              0.2222222222222222,
              "#7201a8"
             ],
             [
              0.3333333333333333,
              "#9c179e"
             ],
             [
              0.4444444444444444,
              "#bd3786"
             ],
             [
              0.5555555555555556,
              "#d8576b"
             ],
             [
              0.6666666666666666,
              "#ed7953"
             ],
             [
              0.7777777777777778,
              "#fb9f3a"
             ],
             [
              0.8888888888888888,
              "#fdca26"
             ],
             [
              1,
              "#f0f921"
             ]
            ],
            "type": "heatmapgl"
           }
          ],
          "histogram": [
           {
            "marker": {
             "colorbar": {
              "outlinewidth": 0,
              "ticks": ""
             }
            },
            "type": "histogram"
           }
          ],
          "histogram2d": [
           {
            "colorbar": {
             "outlinewidth": 0,
             "ticks": ""
            },
            "colorscale": [
             [
              0,
              "#0d0887"
             ],
             [
              0.1111111111111111,
              "#46039f"
             ],
             [
              0.2222222222222222,
              "#7201a8"
             ],
             [
              0.3333333333333333,
              "#9c179e"
             ],
             [
              0.4444444444444444,
              "#bd3786"
             ],
             [
              0.5555555555555556,
              "#d8576b"
             ],
             [
              0.6666666666666666,
              "#ed7953"
             ],
             [
              0.7777777777777778,
              "#fb9f3a"
             ],
             [
              0.8888888888888888,
              "#fdca26"
             ],
             [
              1,
              "#f0f921"
             ]
            ],
            "type": "histogram2d"
           }
          ],
          "histogram2dcontour": [
           {
            "colorbar": {
             "outlinewidth": 0,
             "ticks": ""
            },
            "colorscale": [
             [
              0,
              "#0d0887"
             ],
             [
              0.1111111111111111,
              "#46039f"
             ],
             [
              0.2222222222222222,
              "#7201a8"
             ],
             [
              0.3333333333333333,
              "#9c179e"
             ],
             [
              0.4444444444444444,
              "#bd3786"
             ],
             [
              0.5555555555555556,
              "#d8576b"
             ],
             [
              0.6666666666666666,
              "#ed7953"
             ],
             [
              0.7777777777777778,
              "#fb9f3a"
             ],
             [
              0.8888888888888888,
              "#fdca26"
             ],
             [
              1,
              "#f0f921"
             ]
            ],
            "type": "histogram2dcontour"
           }
          ],
          "mesh3d": [
           {
            "colorbar": {
             "outlinewidth": 0,
             "ticks": ""
            },
            "type": "mesh3d"
           }
          ],
          "parcoords": [
           {
            "line": {
             "colorbar": {
              "outlinewidth": 0,
              "ticks": ""
             }
            },
            "type": "parcoords"
           }
          ],
          "pie": [
           {
            "automargin": true,
            "type": "pie"
           }
          ],
          "scatter": [
           {
            "marker": {
             "colorbar": {
              "outlinewidth": 0,
              "ticks": ""
             }
            },
            "type": "scatter"
           }
          ],
          "scatter3d": [
           {
            "line": {
             "colorbar": {
              "outlinewidth": 0,
              "ticks": ""
             }
            },
            "marker": {
             "colorbar": {
              "outlinewidth": 0,
              "ticks": ""
             }
            },
            "type": "scatter3d"
           }
          ],
          "scattercarpet": [
           {
            "marker": {
             "colorbar": {
              "outlinewidth": 0,
              "ticks": ""
             }
            },
            "type": "scattercarpet"
           }
          ],
          "scattergeo": [
           {
            "marker": {
             "colorbar": {
              "outlinewidth": 0,
              "ticks": ""
             }
            },
            "type": "scattergeo"
           }
          ],
          "scattergl": [
           {
            "marker": {
             "colorbar": {
              "outlinewidth": 0,
              "ticks": ""
             }
            },
            "type": "scattergl"
           }
          ],
          "scattermapbox": [
           {
            "marker": {
             "colorbar": {
              "outlinewidth": 0,
              "ticks": ""
             }
            },
            "type": "scattermapbox"
           }
          ],
          "scatterpolar": [
           {
            "marker": {
             "colorbar": {
              "outlinewidth": 0,
              "ticks": ""
             }
            },
            "type": "scatterpolar"
           }
          ],
          "scatterpolargl": [
           {
            "marker": {
             "colorbar": {
              "outlinewidth": 0,
              "ticks": ""
             }
            },
            "type": "scatterpolargl"
           }
          ],
          "scatterternary": [
           {
            "marker": {
             "colorbar": {
              "outlinewidth": 0,
              "ticks": ""
             }
            },
            "type": "scatterternary"
           }
          ],
          "surface": [
           {
            "colorbar": {
             "outlinewidth": 0,
             "ticks": ""
            },
            "colorscale": [
             [
              0,
              "#0d0887"
             ],
             [
              0.1111111111111111,
              "#46039f"
             ],
             [
              0.2222222222222222,
              "#7201a8"
             ],
             [
              0.3333333333333333,
              "#9c179e"
             ],
             [
              0.4444444444444444,
              "#bd3786"
             ],
             [
              0.5555555555555556,
              "#d8576b"
             ],
             [
              0.6666666666666666,
              "#ed7953"
             ],
             [
              0.7777777777777778,
              "#fb9f3a"
             ],
             [
              0.8888888888888888,
              "#fdca26"
             ],
             [
              1,
              "#f0f921"
             ]
            ],
            "type": "surface"
           }
          ],
          "table": [
           {
            "cells": {
             "fill": {
              "color": "#EBF0F8"
             },
             "line": {
              "color": "white"
             }
            },
            "header": {
             "fill": {
              "color": "#C8D4E3"
             },
             "line": {
              "color": "white"
             }
            },
            "type": "table"
           }
          ]
         },
         "layout": {
          "annotationdefaults": {
           "arrowcolor": "#2a3f5f",
           "arrowhead": 0,
           "arrowwidth": 1
          },
          "autotypenumbers": "strict",
          "coloraxis": {
           "colorbar": {
            "outlinewidth": 0,
            "ticks": ""
           }
          },
          "colorscale": {
           "diverging": [
            [
             0,
             "#8e0152"
            ],
            [
             0.1,
             "#c51b7d"
            ],
            [
             0.2,
             "#de77ae"
            ],
            [
             0.3,
             "#f1b6da"
            ],
            [
             0.4,
             "#fde0ef"
            ],
            [
             0.5,
             "#f7f7f7"
            ],
            [
             0.6,
             "#e6f5d0"
            ],
            [
             0.7,
             "#b8e186"
            ],
            [
             0.8,
             "#7fbc41"
            ],
            [
             0.9,
             "#4d9221"
            ],
            [
             1,
             "#276419"
            ]
           ],
           "sequential": [
            [
             0,
             "#0d0887"
            ],
            [
             0.1111111111111111,
             "#46039f"
            ],
            [
             0.2222222222222222,
             "#7201a8"
            ],
            [
             0.3333333333333333,
             "#9c179e"
            ],
            [
             0.4444444444444444,
             "#bd3786"
            ],
            [
             0.5555555555555556,
             "#d8576b"
            ],
            [
             0.6666666666666666,
             "#ed7953"
            ],
            [
             0.7777777777777778,
             "#fb9f3a"
            ],
            [
             0.8888888888888888,
             "#fdca26"
            ],
            [
             1,
             "#f0f921"
            ]
           ],
           "sequentialminus": [
            [
             0,
             "#0d0887"
            ],
            [
             0.1111111111111111,
             "#46039f"
            ],
            [
             0.2222222222222222,
             "#7201a8"
            ],
            [
             0.3333333333333333,
             "#9c179e"
            ],
            [
             0.4444444444444444,
             "#bd3786"
            ],
            [
             0.5555555555555556,
             "#d8576b"
            ],
            [
             0.6666666666666666,
             "#ed7953"
            ],
            [
             0.7777777777777778,
             "#fb9f3a"
            ],
            [
             0.8888888888888888,
             "#fdca26"
            ],
            [
             1,
             "#f0f921"
            ]
           ]
          },
          "colorway": [
           "#636efa",
           "#EF553B",
           "#00cc96",
           "#ab63fa",
           "#FFA15A",
           "#19d3f3",
           "#FF6692",
           "#B6E880",
           "#FF97FF",
           "#FECB52"
          ],
          "font": {
           "color": "#2a3f5f"
          },
          "geo": {
           "bgcolor": "white",
           "lakecolor": "white",
           "landcolor": "white",
           "showlakes": true,
           "showland": true,
           "subunitcolor": "#C8D4E3"
          },
          "hoverlabel": {
           "align": "left"
          },
          "hovermode": "closest",
          "mapbox": {
           "style": "light"
          },
          "paper_bgcolor": "white",
          "plot_bgcolor": "white",
          "polar": {
           "angularaxis": {
            "gridcolor": "#EBF0F8",
            "linecolor": "#EBF0F8",
            "ticks": ""
           },
           "bgcolor": "white",
           "radialaxis": {
            "gridcolor": "#EBF0F8",
            "linecolor": "#EBF0F8",
            "ticks": ""
           }
          },
          "scene": {
           "xaxis": {
            "backgroundcolor": "white",
            "gridcolor": "#DFE8F3",
            "gridwidth": 2,
            "linecolor": "#EBF0F8",
            "showbackground": true,
            "ticks": "",
            "zerolinecolor": "#EBF0F8"
           },
           "yaxis": {
            "backgroundcolor": "white",
            "gridcolor": "#DFE8F3",
            "gridwidth": 2,
            "linecolor": "#EBF0F8",
            "showbackground": true,
            "ticks": "",
            "zerolinecolor": "#EBF0F8"
           },
           "zaxis": {
            "backgroundcolor": "white",
            "gridcolor": "#DFE8F3",
            "gridwidth": 2,
            "linecolor": "#EBF0F8",
            "showbackground": true,
            "ticks": "",
            "zerolinecolor": "#EBF0F8"
           }
          },
          "shapedefaults": {
           "line": {
            "color": "#2a3f5f"
           }
          },
          "ternary": {
           "aaxis": {
            "gridcolor": "#DFE8F3",
            "linecolor": "#A2B1C6",
            "ticks": ""
           },
           "baxis": {
            "gridcolor": "#DFE8F3",
            "linecolor": "#A2B1C6",
            "ticks": ""
           },
           "bgcolor": "white",
           "caxis": {
            "gridcolor": "#DFE8F3",
            "linecolor": "#A2B1C6",
            "ticks": ""
           }
          },
          "title": {
           "x": 0.05
          },
          "xaxis": {
           "automargin": true,
           "gridcolor": "#EBF0F8",
           "linecolor": "#EBF0F8",
           "ticks": "",
           "title": {
            "standoff": 15
           },
           "zerolinecolor": "#EBF0F8",
           "zerolinewidth": 2
          },
          "yaxis": {
           "automargin": true,
           "gridcolor": "#EBF0F8",
           "linecolor": "#EBF0F8",
           "ticks": "",
           "title": {
            "standoff": 15
           },
           "zerolinecolor": "#EBF0F8",
           "zerolinewidth": 2
          }
         }
        },
        "title": {
         "text": "Number of trials per subject (n_subjects=33)"
        },
        "width": 1400,
        "xaxis": {
         "anchor": "y",
         "autorange": true,
         "domain": [
          0,
          1
         ],
         "range": [
          -0.5,
          32.5
         ],
         "title": {
          "text": "subject"
         },
         "type": "category"
        },
        "yaxis": {
         "anchor": "x",
         "autorange": true,
         "domain": [
          0,
          1
         ],
         "range": [
          0,
          63.1578947368421
         ],
         "title": {
          "text": "# trials"
         },
         "type": "linear"
        }
       }
      },
      "image/png": "[encoded data removed]",
      "text/html": [
       "<div>                            <div id=\"8267609b-698d-400a-91ad-7765da9b5e2c\" class=\"plotly-graph-div\" style=\"height:600px; width:1400px;\"></div>            <script type=\"text/javascript\">                require([\"plotly\"], function(Plotly) {                    window.PLOTLYENV=window.PLOTLYENV || {};                                    if (document.getElementById(\"8267609b-698d-400a-91ad-7765da9b5e2c\")) {                    Plotly.newPlot(                        \"8267609b-698d-400a-91ad-7765da9b5e2c\",                        [{\"alignmentgroup\": \"True\", \"hovertemplate\": \"difficulty=easy<br>subject=%{x}<br># trials=%{y}<extra></extra>\", \"legendgroup\": \"easy\", \"marker\": {\"color\": \"#636efa\"}, \"name\": \"easy\", \"offsetgroup\": \"easy\", \"orientation\": \"v\", \"showlegend\": true, \"textposition\": \"auto\", \"type\": \"bar\", \"x\": [\"01\", \"02\", \"03\", \"04\", \"05\", \"08\", \"09\", \"10\", \"11\", \"12\", \"13\", \"14\", \"15\", \"16\", \"17\", \"18\", \"19\", \"20\", \"21\", \"22\", \"23\", \"24\", \"25\", \"26\", \"27\", \"29\", \"30\", \"31\", \"32\", \"33\", \"35\", \"36\", \"37\"], \"xaxis\": \"x\", \"y\": [60, 47, 48, 48, 48, 48, 48, 48, 43, 48, 48, 48, 46, 48, 48, 48, 48, 48, 48, 48, 48, 47, 48, 48, 48, 47, 46, 48, 48, 48, 48, 21, 45], \"yaxis\": \"y\"}, {\"alignmentgroup\": \"True\", \"hovertemplate\": \"difficulty=hard<br>subject=%{x}<br># trials=%{y}<extra></extra>\", \"legendgroup\": \"hard\", \"marker\": {\"color\": \"#EF553B\"}, \"name\": \"hard\", \"offsetgroup\": \"hard\", \"orientation\": \"v\", \"showlegend\": true, \"textposition\": \"auto\", \"type\": \"bar\", \"x\": [\"01\", \"02\", \"03\", \"04\", \"05\", \"08\", \"09\", \"10\", \"11\", \"12\", \"13\", \"14\", \"15\", \"16\", \"17\", \"18\", \"19\", \"20\", \"21\", \"22\", \"23\", \"24\", \"25\", \"26\", \"27\", \"29\", \"30\", \"31\", \"32\", \"33\", \"35\", \"36\", \"37\"], \"xaxis\": \"x\", \"y\": [52, 48, 48, 47, 48, 41, 36, 48, 42, 46, 47, 47, 44, 48, 46, 34, 46, 43, 48, 47, 43, 41, 42, 39, 39, 48, 47, 47, 45, 40, 41, 19, 29], \"yaxis\": \"y\"}],                        {\"barmode\": \"group\", \"height\": 600, \"legend\": {\"title\": {\"text\": \"difficulty\"}, \"tracegroupgap\": 0}, \"template\": {\"data\": {\"bar\": [{\"error_x\": {\"color\": \"#2a3f5f\"}, \"error_y\": {\"color\": \"#2a3f5f\"}, \"marker\": {\"line\": {\"color\": \"white\", \"width\": 0.5}}, \"type\": \"bar\"}], \"barpolar\": [{\"marker\": {\"line\": {\"color\": \"white\", \"width\": 0.5}}, \"type\": \"barpolar\"}], \"carpet\": [{\"aaxis\": {\"endlinecolor\": \"#2a3f5f\", \"gridcolor\": \"#C8D4E3\", \"linecolor\": \"#C8D4E3\", \"minorgridcolor\": \"#C8D4E3\", \"startlinecolor\": \"#2a3f5f\"}, \"baxis\": {\"endlinecolor\": \"#2a3f5f\", \"gridcolor\": \"#C8D4E3\", \"linecolor\": \"#C8D4E3\", \"minorgridcolor\": \"#C8D4E3\", \"startlinecolor\": \"#2a3f5f\"}, \"type\": \"carpet\"}], \"choropleth\": [{\"colorbar\": {\"outlinewidth\": 0, \"ticks\": \"\"}, \"type\": \"choropleth\"}], \"contour\": [{\"colorbar\": {\"outlinewidth\": 0, \"ticks\": \"\"}, \"colorscale\": [[0.0, \"#0d0887\"], [0.1111111111111111, \"#46039f\"], [0.2222222222222222, \"#7201a8\"], [0.3333333333333333, \"#9c179e\"], [0.4444444444444444, \"#bd3786\"], [0.5555555555555556, \"#d8576b\"], [0.6666666666666666, \"#ed7953\"], [0.7777777777777778, \"#fb9f3a\"], [0.8888888888888888, \"#fdca26\"], [1.0, \"#f0f921\"]], \"type\": \"contour\"}], \"contourcarpet\": [{\"colorbar\": {\"outlinewidth\": 0, \"ticks\": \"\"}, \"type\": \"contourcarpet\"}], \"heatmap\": [{\"colorbar\": {\"outlinewidth\": 0, \"ticks\": \"\"}, \"colorscale\": [[0.0, \"#0d0887\"], [0.1111111111111111, \"#46039f\"], [0.2222222222222222, \"#7201a8\"], [0.3333333333333333, \"#9c179e\"], [0.4444444444444444, \"#bd3786\"], [0.5555555555555556, \"#d8576b\"], [0.6666666666666666, \"#ed7953\"], [0.7777777777777778, \"#fb9f3a\"], [0.8888888888888888, \"#fdca26\"], [1.0, \"#f0f921\"]], \"type\": \"heatmap\"}], \"heatmapgl\": [{\"colorbar\": {\"outlinewidth\": 0, \"ticks\": \"\"}, \"colorscale\": [[0.0, \"#0d0887\"], [0.1111111111111111, \"#46039f\"], [0.2222222222222222, \"#7201a8\"], [0.3333333333333333, \"#9c179e\"], [0.4444444444444444, \"#bd3786\"], [0.5555555555555556, \"#d8576b\"], [0.6666666666666666, \"#ed7953\"], [0.7777777777777778, \"#fb9f3a\"], [0.8888888888888888, \"#fdca26\"], [1.0, \"#f0f921\"]], \"type\": \"heatmapgl\"}], \"histogram\": [{\"marker\": {\"colorbar\": {\"outlinewidth\": 0, \"ticks\": \"\"}}, \"type\": \"histogram\"}], \"histogram2d\": [{\"colorbar\": {\"outlinewidth\": 0, \"ticks\": \"\"}, \"colorscale\": [[0.0, \"#0d0887\"], [0.1111111111111111, \"#46039f\"], [0.2222222222222222, \"#7201a8\"], [0.3333333333333333, \"#9c179e\"], [0.4444444444444444, \"#bd3786\"], [0.5555555555555556, \"#d8576b\"], [0.6666666666666666, \"#ed7953\"], [0.7777777777777778, \"#fb9f3a\"], [0.8888888888888888, \"#fdca26\"], [1.0, \"#f0f921\"]], \"type\": \"histogram2d\"}], \"histogram2dcontour\": [{\"colorbar\": {\"outlinewidth\": 0, \"ticks\": \"\"}, \"colorscale\": [[0.0, \"#0d0887\"], [0.1111111111111111, \"#46039f\"], [0.2222222222222222, \"#7201a8\"], [0.3333333333333333, \"#9c179e\"], [0.4444444444444444, \"#bd3786\"], [0.5555555555555556, \"#d8576b\"], [0.6666666666666666, \"#ed7953\"], [0.7777777777777778, \"#fb9f3a\"], [0.8888888888888888, \"#fdca26\"], [1.0, \"#f0f921\"]], \"type\": \"histogram2dcontour\"}], \"mesh3d\": [{\"colorbar\": {\"outlinewidth\": 0, \"ticks\": \"\"}, \"type\": \"mesh3d\"}], \"parcoords\": [{\"line\": {\"colorbar\": {\"outlinewidth\": 0, \"ticks\": \"\"}}, \"type\": \"parcoords\"}], \"pie\": [{\"automargin\": true, \"type\": \"pie\"}], \"scatter\": [{\"marker\": {\"colorbar\": {\"outlinewidth\": 0, \"ticks\": \"\"}}, \"type\": \"scatter\"}], \"scatter3d\": [{\"line\": {\"colorbar\": {\"outlinewidth\": 0, \"ticks\": \"\"}}, \"marker\": {\"colorbar\": {\"outlinewidth\": 0, \"ticks\": \"\"}}, \"type\": \"scatter3d\"}], \"scattercarpet\": [{\"marker\": {\"colorbar\": {\"outlinewidth\": 0, \"ticks\": \"\"}}, \"type\": \"scattercarpet\"}], \"scattergeo\": [{\"marker\": {\"colorbar\": {\"outlinewidth\": 0, \"ticks\": \"\"}}, \"type\": \"scattergeo\"}], \"scattergl\": [{\"marker\": {\"colorbar\": {\"outlinewidth\": 0, \"ticks\": \"\"}}, \"type\": \"scattergl\"}], \"scattermapbox\": [{\"marker\": {\"colorbar\": {\"outlinewidth\": 0, \"ticks\": \"\"}}, \"type\": \"scattermapbox\"}], \"scatterpolar\": [{\"marker\": {\"colorbar\": {\"outlinewidth\": 0, \"ticks\": \"\"}}, \"type\": \"scatterpolar\"}], \"scatterpolargl\": [{\"marker\": {\"colorbar\": {\"outlinewidth\": 0, \"ticks\": \"\"}}, \"type\": \"scatterpolargl\"}], \"scatterternary\": [{\"marker\": {\"colorbar\": {\"outlinewidth\": 0, \"ticks\": \"\"}}, \"type\": \"scatterternary\"}], \"surface\": [{\"colorbar\": {\"outlinewidth\": 0, \"ticks\": \"\"}, \"colorscale\": [[0.0, \"#0d0887\"], [0.1111111111111111, \"#46039f\"], [0.2222222222222222, \"#7201a8\"], [0.3333333333333333, \"#9c179e\"], [0.4444444444444444, \"#bd3786\"], [0.5555555555555556, \"#d8576b\"], [0.6666666666666666, \"#ed7953\"], [0.7777777777777778, \"#fb9f3a\"], [0.8888888888888888, \"#fdca26\"], [1.0, \"#f0f921\"]], \"type\": \"surface\"}], \"table\": [{\"cells\": {\"fill\": {\"color\": \"#EBF0F8\"}, \"line\": {\"color\": \"white\"}}, \"header\": {\"fill\": {\"color\": \"#C8D4E3\"}, \"line\": {\"color\": \"white\"}}, \"type\": \"table\"}]}, \"layout\": {\"annotationdefaults\": {\"arrowcolor\": \"#2a3f5f\", \"arrowhead\": 0, \"arrowwidth\": 1}, \"autotypenumbers\": \"strict\", \"coloraxis\": {\"colorbar\": {\"outlinewidth\": 0, \"ticks\": \"\"}}, \"colorscale\": {\"diverging\": [[0, \"#8e0152\"], [0.1, \"#c51b7d\"], [0.2, \"#de77ae\"], [0.3, \"#f1b6da\"], [0.4, \"#fde0ef\"], [0.5, \"#f7f7f7\"], [0.6, \"#e6f5d0\"], [0.7, \"#b8e186\"], [0.8, \"#7fbc41\"], [0.9, \"#4d9221\"], [1, \"#276419\"]], \"sequential\": [[0.0, \"#0d0887\"], [0.1111111111111111, \"#46039f\"], [0.2222222222222222, \"#7201a8\"], [0.3333333333333333, \"#9c179e\"], [0.4444444444444444, \"#bd3786\"], [0.5555555555555556, \"#d8576b\"], [0.6666666666666666, \"#ed7953\"], [0.7777777777777778, \"#fb9f3a\"], [0.8888888888888888, \"#fdca26\"], [1.0, \"#f0f921\"]], \"sequentialminus\": [[0.0, \"#0d0887\"], [0.1111111111111111, \"#46039f\"], [0.2222222222222222, \"#7201a8\"], [0.3333333333333333, \"#9c179e\"], [0.4444444444444444, \"#bd3786\"], [0.5555555555555556, \"#d8576b\"], [0.6666666666666666, \"#ed7953\"], [0.7777777777777778, \"#fb9f3a\"], [0.8888888888888888, \"#fdca26\"], [1.0, \"#f0f921\"]]}, \"colorway\": [\"#636efa\", \"#EF553B\", \"#00cc96\", \"#ab63fa\", \"#FFA15A\", \"#19d3f3\", \"#FF6692\", \"#B6E880\", \"#FF97FF\", \"#FECB52\"], \"font\": {\"color\": \"#2a3f5f\"}, \"geo\": {\"bgcolor\": \"white\", \"lakecolor\": \"white\", \"landcolor\": \"white\", \"showlakes\": true, \"showland\": true, \"subunitcolor\": \"#C8D4E3\"}, \"hoverlabel\": {\"align\": \"left\"}, \"hovermode\": \"closest\", \"mapbox\": {\"style\": \"light\"}, \"paper_bgcolor\": \"white\", \"plot_bgcolor\": \"white\", \"polar\": {\"angularaxis\": {\"gridcolor\": \"#EBF0F8\", \"linecolor\": \"#EBF0F8\", \"ticks\": \"\"}, \"bgcolor\": \"white\", \"radialaxis\": {\"gridcolor\": \"#EBF0F8\", \"linecolor\": \"#EBF0F8\", \"ticks\": \"\"}}, \"scene\": {\"xaxis\": {\"backgroundcolor\": \"white\", \"gridcolor\": \"#DFE8F3\", \"gridwidth\": 2, \"linecolor\": \"#EBF0F8\", \"showbackground\": true, \"ticks\": \"\", \"zerolinecolor\": \"#EBF0F8\"}, \"yaxis\": {\"backgroundcolor\": \"white\", \"gridcolor\": \"#DFE8F3\", \"gridwidth\": 2, \"linecolor\": \"#EBF0F8\", \"showbackground\": true, \"ticks\": \"\", \"zerolinecolor\": \"#EBF0F8\"}, \"zaxis\": {\"backgroundcolor\": \"white\", \"gridcolor\": \"#DFE8F3\", \"gridwidth\": 2, \"linecolor\": \"#EBF0F8\", \"showbackground\": true, \"ticks\": \"\", \"zerolinecolor\": \"#EBF0F8\"}}, \"shapedefaults\": {\"line\": {\"color\": \"#2a3f5f\"}}, \"ternary\": {\"aaxis\": {\"gridcolor\": \"#DFE8F3\", \"linecolor\": \"#A2B1C6\", \"ticks\": \"\"}, \"baxis\": {\"gridcolor\": \"#DFE8F3\", \"linecolor\": \"#A2B1C6\", \"ticks\": \"\"}, \"bgcolor\": \"white\", \"caxis\": {\"gridcolor\": \"#DFE8F3\", \"linecolor\": \"#A2B1C6\", \"ticks\": \"\"}}, \"title\": {\"x\": 0.05}, \"xaxis\": {\"automargin\": true, \"gridcolor\": \"#EBF0F8\", \"linecolor\": \"#EBF0F8\", \"ticks\": \"\", \"title\": {\"standoff\": 15}, \"zerolinecolor\": \"#EBF0F8\", \"zerolinewidth\": 2}, \"yaxis\": {\"automargin\": true, \"gridcolor\": \"#EBF0F8\", \"linecolor\": \"#EBF0F8\", \"ticks\": \"\", \"title\": {\"standoff\": 15}, \"zerolinecolor\": \"#EBF0F8\", \"zerolinewidth\": 2}}}, \"title\": {\"text\": \"Number of trials per subject (n_subjects=33)\"}, \"width\": 1400, \"xaxis\": {\"anchor\": \"y\", \"domain\": [0.0, 1.0], \"title\": {\"text\": \"subject\"}}, \"yaxis\": {\"anchor\": \"x\", \"domain\": [0.0, 1.0], \"title\": {\"text\": \"# trials\"}}},                        {\"responsive\": true}                    ).then(function(){\n",
       "                            \n",
       "var gd = document.getElementById('8267609b-698d-400a-91ad-7765da9b5e2c');\n",
       "var x = new MutationObserver(function (mutations, observer) {{\n",
       "        var display = window.getComputedStyle(gd).display;\n",
       "        if (!display || display === 'none') {{\n",
       "            console.log([gd, 'removed!']);\n",
       "            Plotly.purge(gd);\n",
       "            observer.disconnect();\n",
       "        }}\n",
       "}});\n",
       "\n",
       "// Listen for the removal of the full notebook cells\n",
       "var notebookContainer = gd.closest('#notebook-container');\n",
       "if (notebookContainer) {{\n",
       "    x.observe(notebookContainer, {childList: true});\n",
       "}}\n",
       "\n",
       "// Listen for the clearing of the current output cell\n",
       "var outputEl = gd.closest('.output');\n",
       "if (outputEl) {{\n",
       "    x.observe(outputEl, {childList: true});\n",
       "}}\n",
       "\n",
       "                        })                };                });            </script>        </div>"
      ]
     },
     "metadata": {},
     "output_type": "display_data"
    }
   ],
   "source": [
    "df_simple_trials = df_nb_trials.copy()\n",
    "df_simple_trials.replace({'HID-Sub-0': ''}, inplace=True, regex=True)\n",
    "\n",
    "px.bar(df_simple_trials, x='subject', y='# trials', color='difficulty', title=f'Number of trials per subject (n_subjects={n_subjects})',\n",
    "       template='plotly_white', width=1400, height=600, barmode='group')"
   ]
  },
  {
   "cell_type": "markdown",
   "metadata": {},
   "source": [
    "# Proportion of correct answers"
   ]
  },
  {
   "cell_type": "code",
   "execution_count": 18,
   "metadata": {},
   "outputs": [
    {
     "data": {
      "text/html": [
       "<div>\n",
       "<style scoped>\n",
       "    .dataframe tbody tr th:only-of-type {\n",
       "        vertical-align: middle;\n",
       "    }\n",
       "\n",
       "    .dataframe tbody tr th {\n",
       "        vertical-align: top;\n",
       "    }\n",
       "\n",
       "    .dataframe thead th {\n",
       "        text-align: right;\n",
       "    }\n",
       "</style>\n",
       "<table border=\"1\" class=\"dataframe\">\n",
       "  <thead>\n",
       "    <tr style=\"text-align: right;\">\n",
       "      <th></th>\n",
       "      <th>subject</th>\n",
       "      <th>difficulty</th>\n",
       "      <th>correct (%)</th>\n",
       "    </tr>\n",
       "  </thead>\n",
       "  <tbody>\n",
       "    <tr>\n",
       "      <th>0</th>\n",
       "      <td>HID-Sub-001</td>\n",
       "      <td>easy</td>\n",
       "      <td>26.666667</td>\n",
       "    </tr>\n",
       "    <tr>\n",
       "      <th>1</th>\n",
       "      <td>HID-Sub-001</td>\n",
       "      <td>hard</td>\n",
       "      <td>30.769231</td>\n",
       "    </tr>\n",
       "    <tr>\n",
       "      <th>2</th>\n",
       "      <td>HID-Sub-002</td>\n",
       "      <td>easy</td>\n",
       "      <td>97.872340</td>\n",
       "    </tr>\n",
       "    <tr>\n",
       "      <th>3</th>\n",
       "      <td>HID-Sub-002</td>\n",
       "      <td>hard</td>\n",
       "      <td>87.500000</td>\n",
       "    </tr>\n",
       "    <tr>\n",
       "      <th>4</th>\n",
       "      <td>HID-Sub-003</td>\n",
       "      <td>easy</td>\n",
       "      <td>97.916667</td>\n",
       "    </tr>\n",
       "    <tr>\n",
       "      <th>...</th>\n",
       "      <td>...</td>\n",
       "      <td>...</td>\n",
       "      <td>...</td>\n",
       "    </tr>\n",
       "    <tr>\n",
       "      <th>61</th>\n",
       "      <td>HID-Sub-035</td>\n",
       "      <td>hard</td>\n",
       "      <td>82.926829</td>\n",
       "    </tr>\n",
       "    <tr>\n",
       "      <th>62</th>\n",
       "      <td>HID-Sub-036</td>\n",
       "      <td>easy</td>\n",
       "      <td>47.619048</td>\n",
       "    </tr>\n",
       "    <tr>\n",
       "      <th>63</th>\n",
       "      <td>HID-Sub-036</td>\n",
       "      <td>hard</td>\n",
       "      <td>57.894737</td>\n",
       "    </tr>\n",
       "    <tr>\n",
       "      <th>64</th>\n",
       "      <td>HID-Sub-037</td>\n",
       "      <td>easy</td>\n",
       "      <td>93.333333</td>\n",
       "    </tr>\n",
       "    <tr>\n",
       "      <th>65</th>\n",
       "      <td>HID-Sub-037</td>\n",
       "      <td>hard</td>\n",
       "      <td>89.655172</td>\n",
       "    </tr>\n",
       "  </tbody>\n",
       "</table>\n",
       "<p>66 rows × 3 columns</p>\n",
       "</div>"
      ],
      "text/plain": [
       "        subject difficulty  correct (%)\n",
       "0   HID-Sub-001       easy    26.666667\n",
       "1   HID-Sub-001       hard    30.769231\n",
       "2   HID-Sub-002       easy    97.872340\n",
       "3   HID-Sub-002       hard    87.500000\n",
       "4   HID-Sub-003       easy    97.916667\n",
       "..          ...        ...          ...\n",
       "61  HID-Sub-035       hard    82.926829\n",
       "62  HID-Sub-036       easy    47.619048\n",
       "63  HID-Sub-036       hard    57.894737\n",
       "64  HID-Sub-037       easy    93.333333\n",
       "65  HID-Sub-037       hard    89.655172\n",
       "\n",
       "[66 rows x 3 columns]"
      ]
     },
     "execution_count": 18,
     "metadata": {},
     "output_type": "execute_result"
    }
   ],
   "source": [
    "def percent_correct(series):\n",
    "    return 100 * series.sum() / len(series)\n",
    "\n",
    "df_correct_prop = gp_suj_dif.agg({'correct': percent_correct}).reset_index().rename(columns={'correct': 'correct (%)'})\n",
    "df_correct_prop"
   ]
  },
  {
   "cell_type": "code",
   "execution_count": 19,
   "metadata": {},
   "outputs": [
    {
     "data": {
      "application/vnd.plotly.v1+json": {
       "config": {
        "plotlyServerURL": "https://plot.ly"
       },
       "data": [
        {
         "alignmentgroup": "True",
         "hovertemplate": "difficulty=easy<br>subject=%{x}<br>correct (%)=%{y}<extra></extra>",
         "legendgroup": "easy",
         "marker": {
          "color": "#636efa"
         },
         "name": "easy",
         "offsetgroup": "easy",
         "orientation": "v",
         "showlegend": true,
         "textposition": "auto",
         "type": "bar",
         "x": [
          "01",
          "02",
          "03",
          "04",
          "05",
          "08",
          "09",
          "10",
          "11",
          "12",
          "13",
          "14",
          "15",
          "16",
          "17",
          "18",
          "19",
          "20",
          "21",
          "22",
          "23",
          "24",
          "25",
          "26",
          "27",
          "29",
          "30",
          "31",
          "32",
          "33",
          "35",
          "36",
          "37"
         ],
         "xaxis": "x",
         "y": [
          26.666666666666668,
          97.87234042553192,
          97.91666666666667,
          95.83333333333333,
          100,
          100,
          97.91666666666667,
          97.91666666666667,
          88.37209302325581,
          100,
          95.83333333333333,
          93.75,
          23.91304347826087,
          97.91666666666667,
          93.75,
          100,
          97.91666666666667,
          93.75,
          97.91666666666667,
          97.91666666666667,
          100,
          97.87234042553192,
          95.83333333333333,
          100,
          2.0833333333333335,
          0,
          2.1739130434782608,
          95.83333333333333,
          97.91666666666667,
          100,
          100,
          47.61904761904762,
          93.33333333333333
         ],
         "yaxis": "y"
        },
        {
         "alignmentgroup": "True",
         "hovertemplate": "difficulty=hard<br>subject=%{x}<br>correct (%)=%{y}<extra></extra>",
         "legendgroup": "hard",
         "marker": {
          "color": "#EF553B"
         },
         "name": "hard",
         "offsetgroup": "hard",
         "orientation": "v",
         "showlegend": true,
         "textposition": "auto",
         "type": "bar",
         "x": [
          "01",
          "02",
          "03",
          "04",
          "05",
          "08",
          "09",
          "10",
          "11",
          "12",
          "13",
          "14",
          "15",
          "16",
          "17",
          "18",
          "19",
          "20",
          "21",
          "22",
          "23",
          "24",
          "25",
          "26",
          "27",
          "29",
          "30",
          "31",
          "32",
          "33",
          "35",
          "36",
          "37"
         ],
         "xaxis": "x",
         "y": [
          30.76923076923077,
          87.5,
          97.91666666666667,
          97.87234042553192,
          91.66666666666667,
          95.1219512195122,
          91.66666666666667,
          87.5,
          92.85714285714286,
          100,
          91.48936170212765,
          93.61702127659575,
          25,
          97.91666666666667,
          80.43478260869566,
          82.3529411764706,
          93.47826086956522,
          95.34883720930233,
          97.91666666666667,
          82.97872340425532,
          95.34883720930233,
          90.2439024390244,
          88.0952380952381,
          94.87179487179488,
          12.820512820512821,
          4.166666666666667,
          8.51063829787234,
          91.48936170212765,
          97.77777777777777,
          87.5,
          82.92682926829268,
          57.89473684210526,
          89.65517241379311
         ],
         "yaxis": "y"
        }
       ],
       "layout": {
        "barmode": "group",
        "height": 600,
        "legend": {
         "title": {
          "text": "difficulty"
         },
         "tracegroupgap": 0
        },
        "template": {
         "data": {
          "bar": [
           {
            "error_x": {
             "color": "#2a3f5f"
            },
            "error_y": {
             "color": "#2a3f5f"
            },
            "marker": {
             "line": {
              "color": "white",
              "width": 0.5
             }
            },
            "type": "bar"
           }
          ],
          "barpolar": [
           {
            "marker": {
             "line": {
              "color": "white",
              "width": 0.5
             }
            },
            "type": "barpolar"
           }
          ],
          "carpet": [
           {
            "aaxis": {
             "endlinecolor": "#2a3f5f",
             "gridcolor": "#C8D4E3",
             "linecolor": "#C8D4E3",
             "minorgridcolor": "#C8D4E3",
             "startlinecolor": "#2a3f5f"
            },
            "baxis": {
             "endlinecolor": "#2a3f5f",
             "gridcolor": "#C8D4E3",
             "linecolor": "#C8D4E3",
             "minorgridcolor": "#C8D4E3",
             "startlinecolor": "#2a3f5f"
            },
            "type": "carpet"
           }
          ],
          "choropleth": [
           {
            "colorbar": {
             "outlinewidth": 0,
             "ticks": ""
            },
            "type": "choropleth"
           }
          ],
          "contour": [
           {
            "colorbar": {
             "outlinewidth": 0,
             "ticks": ""
            },
            "colorscale": [
             [
              0,
              "#0d0887"
             ],
             [
              0.1111111111111111,
              "#46039f"
             ],
             [
              0.2222222222222222,
              "#7201a8"
             ],
             [
              0.3333333333333333,
              "#9c179e"
             ],
             [
              0.4444444444444444,
              "#bd3786"
             ],
             [
              0.5555555555555556,
              "#d8576b"
             ],
             [
              0.6666666666666666,
              "#ed7953"
             ],
             [
              0.7777777777777778,
              "#fb9f3a"
             ],
             [
              0.8888888888888888,
              "#fdca26"
             ],
             [
              1,
              "#f0f921"
             ]
            ],
            "type": "contour"
           }
          ],
          "contourcarpet": [
           {
            "colorbar": {
             "outlinewidth": 0,
             "ticks": ""
            },
            "type": "contourcarpet"
           }
          ],
          "heatmap": [
           {
            "colorbar": {
             "outlinewidth": 0,
             "ticks": ""
            },
            "colorscale": [
             [
              0,
              "#0d0887"
             ],
             [
              0.1111111111111111,
              "#46039f"
             ],
             [
              0.2222222222222222,
              "#7201a8"
             ],
             [
              0.3333333333333333,
              "#9c179e"
             ],
             [
              0.4444444444444444,
              "#bd3786"
             ],
             [
              0.5555555555555556,
              "#d8576b"
             ],
             [
              0.6666666666666666,
              "#ed7953"
             ],
             [
              0.7777777777777778,
              "#fb9f3a"
             ],
             [
              0.8888888888888888,
              "#fdca26"
             ],
             [
              1,
              "#f0f921"
             ]
            ],
            "type": "heatmap"
           }
          ],
          "heatmapgl": [
           {
            "colorbar": {
             "outlinewidth": 0,
             "ticks": ""
            },
            "colorscale": [
             [
              0,
              "#0d0887"
             ],
             [
              0.1111111111111111,
              "#46039f"
             ],
             [
              0.2222222222222222,
              "#7201a8"
             ],
             [
              0.3333333333333333,
              "#9c179e"
             ],
             [
              0.4444444444444444,
              "#bd3786"
             ],
             [
              0.5555555555555556,
              "#d8576b"
             ],
             [
              0.6666666666666666,
              "#ed7953"
             ],
             [
              0.7777777777777778,
              "#fb9f3a"
             ],
             [
              0.8888888888888888,
              "#fdca26"
             ],
             [
              1,
              "#f0f921"
             ]
            ],
            "type": "heatmapgl"
           }
          ],
          "histogram": [
           {
            "marker": {
             "colorbar": {
              "outlinewidth": 0,
              "ticks": ""
             }
            },
            "type": "histogram"
           }
          ],
          "histogram2d": [
           {
            "colorbar": {
             "outlinewidth": 0,
             "ticks": ""
            },
            "colorscale": [
             [
              0,
              "#0d0887"
             ],
             [
              0.1111111111111111,
              "#46039f"
             ],
             [
              0.2222222222222222,
              "#7201a8"
             ],
             [
              0.3333333333333333,
              "#9c179e"
             ],
             [
              0.4444444444444444,
              "#bd3786"
             ],
             [
              0.5555555555555556,
              "#d8576b"
             ],
             [
              0.6666666666666666,
              "#ed7953"
             ],
             [
              0.7777777777777778,
              "#fb9f3a"
             ],
             [
              0.8888888888888888,
              "#fdca26"
             ],
             [
              1,
              "#f0f921"
             ]
            ],
            "type": "histogram2d"
           }
          ],
          "histogram2dcontour": [
           {
            "colorbar": {
             "outlinewidth": 0,
             "ticks": ""
            },
            "colorscale": [
             [
              0,
              "#0d0887"
             ],
             [
              0.1111111111111111,
              "#46039f"
             ],
             [
              0.2222222222222222,
              "#7201a8"
             ],
             [
              0.3333333333333333,
              "#9c179e"
             ],
             [
              0.4444444444444444,
              "#bd3786"
             ],
             [
              0.5555555555555556,
              "#d8576b"
             ],
             [
              0.6666666666666666,
              "#ed7953"
             ],
             [
              0.7777777777777778,
              "#fb9f3a"
             ],
             [
              0.8888888888888888,
              "#fdca26"
             ],
             [
              1,
              "#f0f921"
             ]
            ],
            "type": "histogram2dcontour"
           }
          ],
          "mesh3d": [
           {
            "colorbar": {
             "outlinewidth": 0,
             "ticks": ""
            },
            "type": "mesh3d"
           }
          ],
          "parcoords": [
           {
            "line": {
             "colorbar": {
              "outlinewidth": 0,
              "ticks": ""
             }
            },
            "type": "parcoords"
           }
          ],
          "pie": [
           {
            "automargin": true,
            "type": "pie"
           }
          ],
          "scatter": [
           {
            "marker": {
             "colorbar": {
              "outlinewidth": 0,
              "ticks": ""
             }
            },
            "type": "scatter"
           }
          ],
          "scatter3d": [
           {
            "line": {
             "colorbar": {
              "outlinewidth": 0,
              "ticks": ""
             }
            },
            "marker": {
             "colorbar": {
              "outlinewidth": 0,
              "ticks": ""
             }
            },
            "type": "scatter3d"
           }
          ],
          "scattercarpet": [
           {
            "marker": {
             "colorbar": {
              "outlinewidth": 0,
              "ticks": ""
             }
            },
            "type": "scattercarpet"
           }
          ],
          "scattergeo": [
           {
            "marker": {
             "colorbar": {
              "outlinewidth": 0,
              "ticks": ""
             }
            },
            "type": "scattergeo"
           }
          ],
          "scattergl": [
           {
            "marker": {
             "colorbar": {
              "outlinewidth": 0,
              "ticks": ""
             }
            },
            "type": "scattergl"
           }
          ],
          "scattermapbox": [
           {
            "marker": {
             "colorbar": {
              "outlinewidth": 0,
              "ticks": ""
             }
            },
            "type": "scattermapbox"
           }
          ],
          "scatterpolar": [
           {
            "marker": {
             "colorbar": {
              "outlinewidth": 0,
              "ticks": ""
             }
            },
            "type": "scatterpolar"
           }
          ],
          "scatterpolargl": [
           {
            "marker": {
             "colorbar": {
              "outlinewidth": 0,
              "ticks": ""
             }
            },
            "type": "scatterpolargl"
           }
          ],
          "scatterternary": [
           {
            "marker": {
             "colorbar": {
              "outlinewidth": 0,
              "ticks": ""
             }
            },
            "type": "scatterternary"
           }
          ],
          "surface": [
           {
            "colorbar": {
             "outlinewidth": 0,
             "ticks": ""
            },
            "colorscale": [
             [
              0,
              "#0d0887"
             ],
             [
              0.1111111111111111,
              "#46039f"
             ],
             [
              0.2222222222222222,
              "#7201a8"
             ],
             [
              0.3333333333333333,
              "#9c179e"
             ],
             [
              0.4444444444444444,
              "#bd3786"
             ],
             [
              0.5555555555555556,
              "#d8576b"
             ],
             [
              0.6666666666666666,
              "#ed7953"
             ],
             [
              0.7777777777777778,
              "#fb9f3a"
             ],
             [
              0.8888888888888888,
              "#fdca26"
             ],
             [
              1,
              "#f0f921"
             ]
            ],
            "type": "surface"
           }
          ],
          "table": [
           {
            "cells": {
             "fill": {
              "color": "#EBF0F8"
             },
             "line": {
              "color": "white"
             }
            },
            "header": {
             "fill": {
              "color": "#C8D4E3"
             },
             "line": {
              "color": "white"
             }
            },
            "type": "table"
           }
          ]
         },
         "layout": {
          "annotationdefaults": {
           "arrowcolor": "#2a3f5f",
           "arrowhead": 0,
           "arrowwidth": 1
          },
          "autotypenumbers": "strict",
          "coloraxis": {
           "colorbar": {
            "outlinewidth": 0,
            "ticks": ""
           }
          },
          "colorscale": {
           "diverging": [
            [
             0,
             "#8e0152"
            ],
            [
             0.1,
             "#c51b7d"
            ],
            [
             0.2,
             "#de77ae"
            ],
            [
             0.3,
             "#f1b6da"
            ],
            [
             0.4,
             "#fde0ef"
            ],
            [
             0.5,
             "#f7f7f7"
            ],
            [
             0.6,
             "#e6f5d0"
            ],
            [
             0.7,
             "#b8e186"
            ],
            [
             0.8,
             "#7fbc41"
            ],
            [
             0.9,
             "#4d9221"
            ],
            [
             1,
             "#276419"
            ]
           ],
           "sequential": [
            [
             0,
             "#0d0887"
            ],
            [
             0.1111111111111111,
             "#46039f"
            ],
            [
             0.2222222222222222,
             "#7201a8"
            ],
            [
             0.3333333333333333,
             "#9c179e"
            ],
            [
             0.4444444444444444,
             "#bd3786"
            ],
            [
             0.5555555555555556,
             "#d8576b"
            ],
            [
             0.6666666666666666,
             "#ed7953"
            ],
            [
             0.7777777777777778,
             "#fb9f3a"
            ],
            [
             0.8888888888888888,
             "#fdca26"
            ],
            [
             1,
             "#f0f921"
            ]
           ],
           "sequentialminus": [
            [
             0,
             "#0d0887"
            ],
            [
             0.1111111111111111,
             "#46039f"
            ],
            [
             0.2222222222222222,
             "#7201a8"
            ],
            [
             0.3333333333333333,
             "#9c179e"
            ],
            [
             0.4444444444444444,
             "#bd3786"
            ],
            [
             0.5555555555555556,
             "#d8576b"
            ],
            [
             0.6666666666666666,
             "#ed7953"
            ],
            [
             0.7777777777777778,
             "#fb9f3a"
            ],
            [
             0.8888888888888888,
             "#fdca26"
            ],
            [
             1,
             "#f0f921"
            ]
           ]
          },
          "colorway": [
           "#636efa",
           "#EF553B",
           "#00cc96",
           "#ab63fa",
           "#FFA15A",
           "#19d3f3",
           "#FF6692",
           "#B6E880",
           "#FF97FF",
           "#FECB52"
          ],
          "font": {
           "color": "#2a3f5f"
          },
          "geo": {
           "bgcolor": "white",
           "lakecolor": "white",
           "landcolor": "white",
           "showlakes": true,
           "showland": true,
           "subunitcolor": "#C8D4E3"
          },
          "hoverlabel": {
           "align": "left"
          },
          "hovermode": "closest",
          "mapbox": {
           "style": "light"
          },
          "paper_bgcolor": "white",
          "plot_bgcolor": "white",
          "polar": {
           "angularaxis": {
            "gridcolor": "#EBF0F8",
            "linecolor": "#EBF0F8",
            "ticks": ""
           },
           "bgcolor": "white",
           "radialaxis": {
            "gridcolor": "#EBF0F8",
            "linecolor": "#EBF0F8",
            "ticks": ""
           }
          },
          "scene": {
           "xaxis": {
            "backgroundcolor": "white",
            "gridcolor": "#DFE8F3",
            "gridwidth": 2,
            "linecolor": "#EBF0F8",
            "showbackground": true,
            "ticks": "",
            "zerolinecolor": "#EBF0F8"
           },
           "yaxis": {
            "backgroundcolor": "white",
            "gridcolor": "#DFE8F3",
            "gridwidth": 2,
            "linecolor": "#EBF0F8",
            "showbackground": true,
            "ticks": "",
            "zerolinecolor": "#EBF0F8"
           },
           "zaxis": {
            "backgroundcolor": "white",
            "gridcolor": "#DFE8F3",
            "gridwidth": 2,
            "linecolor": "#EBF0F8",
            "showbackground": true,
            "ticks": "",
            "zerolinecolor": "#EBF0F8"
           }
          },
          "shapedefaults": {
           "line": {
            "color": "#2a3f5f"
           }
          },
          "ternary": {
           "aaxis": {
            "gridcolor": "#DFE8F3",
            "linecolor": "#A2B1C6",
            "ticks": ""
           },
           "baxis": {
            "gridcolor": "#DFE8F3",
            "linecolor": "#A2B1C6",
            "ticks": ""
           },
           "bgcolor": "white",
           "caxis": {
            "gridcolor": "#DFE8F3",
            "linecolor": "#A2B1C6",
            "ticks": ""
           }
          },
          "title": {
           "x": 0.05
          },
          "xaxis": {
           "automargin": true,
           "gridcolor": "#EBF0F8",
           "linecolor": "#EBF0F8",
           "ticks": "",
           "title": {
            "standoff": 15
           },
           "zerolinecolor": "#EBF0F8",
           "zerolinewidth": 2
          },
          "yaxis": {
           "automargin": true,
           "gridcolor": "#EBF0F8",
           "linecolor": "#EBF0F8",
           "ticks": "",
           "title": {
            "standoff": 15
           },
           "zerolinecolor": "#EBF0F8",
           "zerolinewidth": 2
          }
         }
        },
        "title": {
         "text": "Proportion of correct answers (n_subjects=33)"
        },
        "width": 1400,
        "xaxis": {
         "anchor": "y",
         "autorange": true,
         "domain": [
          0,
          1
         ],
         "range": [
          -0.5,
          32.5
         ],
         "title": {
          "text": "subject"
         },
         "type": "category"
        },
        "yaxis": {
         "anchor": "x",
         "autorange": true,
         "domain": [
          0,
          1
         ],
         "range": [
          0,
          105.26315789473684
         ],
         "title": {
          "text": "correct (%)"
         },
         "type": "linear"
        }
       }
      },
      "image/png": "[encoded data removed]",
      "text/html": [
       "<div>                            <div id=\"4ac029ff-e442-41ce-8319-61a10e7d1244\" class=\"plotly-graph-div\" style=\"height:600px; width:1400px;\"></div>            <script type=\"text/javascript\">                require([\"plotly\"], function(Plotly) {                    window.PLOTLYENV=window.PLOTLYENV || {};                                    if (document.getElementById(\"4ac029ff-e442-41ce-8319-61a10e7d1244\")) {                    Plotly.newPlot(                        \"4ac029ff-e442-41ce-8319-61a10e7d1244\",                        [{\"alignmentgroup\": \"True\", \"hovertemplate\": \"difficulty=easy<br>subject=%{x}<br>correct (%)=%{y}<extra></extra>\", \"legendgroup\": \"easy\", \"marker\": {\"color\": \"#636efa\"}, \"name\": \"easy\", \"offsetgroup\": \"easy\", \"orientation\": \"v\", \"showlegend\": true, \"textposition\": \"auto\", \"type\": \"bar\", \"x\": [\"01\", \"02\", \"03\", \"04\", \"05\", \"08\", \"09\", \"10\", \"11\", \"12\", \"13\", \"14\", \"15\", \"16\", \"17\", \"18\", \"19\", \"20\", \"21\", \"22\", \"23\", \"24\", \"25\", \"26\", \"27\", \"29\", \"30\", \"31\", \"32\", \"33\", \"35\", \"36\", \"37\"], \"xaxis\": \"x\", \"y\": [26.666666666666668, 97.87234042553192, 97.91666666666667, 95.83333333333333, 100.0, 100.0, 97.91666666666667, 97.91666666666667, 88.37209302325581, 100.0, 95.83333333333333, 93.75, 23.91304347826087, 97.91666666666667, 93.75, 100.0, 97.91666666666667, 93.75, 97.91666666666667, 97.91666666666667, 100.0, 97.87234042553192, 95.83333333333333, 100.0, 2.0833333333333335, 0.0, 2.1739130434782608, 95.83333333333333, 97.91666666666667, 100.0, 100.0, 47.61904761904762, 93.33333333333333], \"yaxis\": \"y\"}, {\"alignmentgroup\": \"True\", \"hovertemplate\": \"difficulty=hard<br>subject=%{x}<br>correct (%)=%{y}<extra></extra>\", \"legendgroup\": \"hard\", \"marker\": {\"color\": \"#EF553B\"}, \"name\": \"hard\", \"offsetgroup\": \"hard\", \"orientation\": \"v\", \"showlegend\": true, \"textposition\": \"auto\", \"type\": \"bar\", \"x\": [\"01\", \"02\", \"03\", \"04\", \"05\", \"08\", \"09\", \"10\", \"11\", \"12\", \"13\", \"14\", \"15\", \"16\", \"17\", \"18\", \"19\", \"20\", \"21\", \"22\", \"23\", \"24\", \"25\", \"26\", \"27\", \"29\", \"30\", \"31\", \"32\", \"33\", \"35\", \"36\", \"37\"], \"xaxis\": \"x\", \"y\": [30.76923076923077, 87.5, 97.91666666666667, 97.87234042553192, 91.66666666666667, 95.1219512195122, 91.66666666666667, 87.5, 92.85714285714286, 100.0, 91.48936170212765, 93.61702127659575, 25.0, 97.91666666666667, 80.43478260869566, 82.3529411764706, 93.47826086956522, 95.34883720930233, 97.91666666666667, 82.97872340425532, 95.34883720930233, 90.2439024390244, 88.0952380952381, 94.87179487179488, 12.820512820512821, 4.166666666666667, 8.51063829787234, 91.48936170212765, 97.77777777777777, 87.5, 82.92682926829268, 57.89473684210526, 89.65517241379311], \"yaxis\": \"y\"}],                        {\"barmode\": \"group\", \"height\": 600, \"legend\": {\"title\": {\"text\": \"difficulty\"}, \"tracegroupgap\": 0}, \"template\": {\"data\": {\"bar\": [{\"error_x\": {\"color\": \"#2a3f5f\"}, \"error_y\": {\"color\": \"#2a3f5f\"}, \"marker\": {\"line\": {\"color\": \"white\", \"width\": 0.5}}, \"type\": \"bar\"}], \"barpolar\": [{\"marker\": {\"line\": {\"color\": \"white\", \"width\": 0.5}}, \"type\": \"barpolar\"}], \"carpet\": [{\"aaxis\": {\"endlinecolor\": \"#2a3f5f\", \"gridcolor\": \"#C8D4E3\", \"linecolor\": \"#C8D4E3\", \"minorgridcolor\": \"#C8D4E3\", \"startlinecolor\": \"#2a3f5f\"}, \"baxis\": {\"endlinecolor\": \"#2a3f5f\", \"gridcolor\": \"#C8D4E3\", \"linecolor\": \"#C8D4E3\", \"minorgridcolor\": \"#C8D4E3\", \"startlinecolor\": \"#2a3f5f\"}, \"type\": \"carpet\"}], \"choropleth\": [{\"colorbar\": {\"outlinewidth\": 0, \"ticks\": \"\"}, \"type\": \"choropleth\"}], \"contour\": [{\"colorbar\": {\"outlinewidth\": 0, \"ticks\": \"\"}, \"colorscale\": [[0.0, \"#0d0887\"], [0.1111111111111111, \"#46039f\"], [0.2222222222222222, \"#7201a8\"], [0.3333333333333333, \"#9c179e\"], [0.4444444444444444, \"#bd3786\"], [0.5555555555555556, \"#d8576b\"], [0.6666666666666666, \"#ed7953\"], [0.7777777777777778, \"#fb9f3a\"], [0.8888888888888888, \"#fdca26\"], [1.0, \"#f0f921\"]], \"type\": \"contour\"}], \"contourcarpet\": [{\"colorbar\": {\"outlinewidth\": 0, \"ticks\": \"\"}, \"type\": \"contourcarpet\"}], \"heatmap\": [{\"colorbar\": {\"outlinewidth\": 0, \"ticks\": \"\"}, \"colorscale\": [[0.0, \"#0d0887\"], [0.1111111111111111, \"#46039f\"], [0.2222222222222222, \"#7201a8\"], [0.3333333333333333, \"#9c179e\"], [0.4444444444444444, \"#bd3786\"], [0.5555555555555556, \"#d8576b\"], [0.6666666666666666, \"#ed7953\"], [0.7777777777777778, \"#fb9f3a\"], [0.8888888888888888, \"#fdca26\"], [1.0, \"#f0f921\"]], \"type\": \"heatmap\"}], \"heatmapgl\": [{\"colorbar\": {\"outlinewidth\": 0, \"ticks\": \"\"}, \"colorscale\": [[0.0, \"#0d0887\"], [0.1111111111111111, \"#46039f\"], [0.2222222222222222, \"#7201a8\"], [0.3333333333333333, \"#9c179e\"], [0.4444444444444444, \"#bd3786\"], [0.5555555555555556, \"#d8576b\"], [0.6666666666666666, \"#ed7953\"], [0.7777777777777778, \"#fb9f3a\"], [0.8888888888888888, \"#fdca26\"], [1.0, \"#f0f921\"]], \"type\": \"heatmapgl\"}], \"histogram\": [{\"marker\": {\"colorbar\": {\"outlinewidth\": 0, \"ticks\": \"\"}}, \"type\": \"histogram\"}], \"histogram2d\": [{\"colorbar\": {\"outlinewidth\": 0, \"ticks\": \"\"}, \"colorscale\": [[0.0, \"#0d0887\"], [0.1111111111111111, \"#46039f\"], [0.2222222222222222, \"#7201a8\"], [0.3333333333333333, \"#9c179e\"], [0.4444444444444444, \"#bd3786\"], [0.5555555555555556, \"#d8576b\"], [0.6666666666666666, \"#ed7953\"], [0.7777777777777778, \"#fb9f3a\"], [0.8888888888888888, \"#fdca26\"], [1.0, \"#f0f921\"]], \"type\": \"histogram2d\"}], \"histogram2dcontour\": [{\"colorbar\": {\"outlinewidth\": 0, \"ticks\": \"\"}, \"colorscale\": [[0.0, \"#0d0887\"], [0.1111111111111111, \"#46039f\"], [0.2222222222222222, \"#7201a8\"], [0.3333333333333333, \"#9c179e\"], [0.4444444444444444, \"#bd3786\"], [0.5555555555555556, \"#d8576b\"], [0.6666666666666666, \"#ed7953\"], [0.7777777777777778, \"#fb9f3a\"], [0.8888888888888888, \"#fdca26\"], [1.0, \"#f0f921\"]], \"type\": \"histogram2dcontour\"}], \"mesh3d\": [{\"colorbar\": {\"outlinewidth\": 0, \"ticks\": \"\"}, \"type\": \"mesh3d\"}], \"parcoords\": [{\"line\": {\"colorbar\": {\"outlinewidth\": 0, \"ticks\": \"\"}}, \"type\": \"parcoords\"}], \"pie\": [{\"automargin\": true, \"type\": \"pie\"}], \"scatter\": [{\"marker\": {\"colorbar\": {\"outlinewidth\": 0, \"ticks\": \"\"}}, \"type\": \"scatter\"}], \"scatter3d\": [{\"line\": {\"colorbar\": {\"outlinewidth\": 0, \"ticks\": \"\"}}, \"marker\": {\"colorbar\": {\"outlinewidth\": 0, \"ticks\": \"\"}}, \"type\": \"scatter3d\"}], \"scattercarpet\": [{\"marker\": {\"colorbar\": {\"outlinewidth\": 0, \"ticks\": \"\"}}, \"type\": \"scattercarpet\"}], \"scattergeo\": [{\"marker\": {\"colorbar\": {\"outlinewidth\": 0, \"ticks\": \"\"}}, \"type\": \"scattergeo\"}], \"scattergl\": [{\"marker\": {\"colorbar\": {\"outlinewidth\": 0, \"ticks\": \"\"}}, \"type\": \"scattergl\"}], \"scattermapbox\": [{\"marker\": {\"colorbar\": {\"outlinewidth\": 0, \"ticks\": \"\"}}, \"type\": \"scattermapbox\"}], \"scatterpolar\": [{\"marker\": {\"colorbar\": {\"outlinewidth\": 0, \"ticks\": \"\"}}, \"type\": \"scatterpolar\"}], \"scatterpolargl\": [{\"marker\": {\"colorbar\": {\"outlinewidth\": 0, \"ticks\": \"\"}}, \"type\": \"scatterpolargl\"}], \"scatterternary\": [{\"marker\": {\"colorbar\": {\"outlinewidth\": 0, \"ticks\": \"\"}}, \"type\": \"scatterternary\"}], \"surface\": [{\"colorbar\": {\"outlinewidth\": 0, \"ticks\": \"\"}, \"colorscale\": [[0.0, \"#0d0887\"], [0.1111111111111111, \"#46039f\"], [0.2222222222222222, \"#7201a8\"], [0.3333333333333333, \"#9c179e\"], [0.4444444444444444, \"#bd3786\"], [0.5555555555555556, \"#d8576b\"], [0.6666666666666666, \"#ed7953\"], [0.7777777777777778, \"#fb9f3a\"], [0.8888888888888888, \"#fdca26\"], [1.0, \"#f0f921\"]], \"type\": \"surface\"}], \"table\": [{\"cells\": {\"fill\": {\"color\": \"#EBF0F8\"}, \"line\": {\"color\": \"white\"}}, \"header\": {\"fill\": {\"color\": \"#C8D4E3\"}, \"line\": {\"color\": \"white\"}}, \"type\": \"table\"}]}, \"layout\": {\"annotationdefaults\": {\"arrowcolor\": \"#2a3f5f\", \"arrowhead\": 0, \"arrowwidth\": 1}, \"autotypenumbers\": \"strict\", \"coloraxis\": {\"colorbar\": {\"outlinewidth\": 0, \"ticks\": \"\"}}, \"colorscale\": {\"diverging\": [[0, \"#8e0152\"], [0.1, \"#c51b7d\"], [0.2, \"#de77ae\"], [0.3, \"#f1b6da\"], [0.4, \"#fde0ef\"], [0.5, \"#f7f7f7\"], [0.6, \"#e6f5d0\"], [0.7, \"#b8e186\"], [0.8, \"#7fbc41\"], [0.9, \"#4d9221\"], [1, \"#276419\"]], \"sequential\": [[0.0, \"#0d0887\"], [0.1111111111111111, \"#46039f\"], [0.2222222222222222, \"#7201a8\"], [0.3333333333333333, \"#9c179e\"], [0.4444444444444444, \"#bd3786\"], [0.5555555555555556, \"#d8576b\"], [0.6666666666666666, \"#ed7953\"], [0.7777777777777778, \"#fb9f3a\"], [0.8888888888888888, \"#fdca26\"], [1.0, \"#f0f921\"]], \"sequentialminus\": [[0.0, \"#0d0887\"], [0.1111111111111111, \"#46039f\"], [0.2222222222222222, \"#7201a8\"], [0.3333333333333333, \"#9c179e\"], [0.4444444444444444, \"#bd3786\"], [0.5555555555555556, \"#d8576b\"], [0.6666666666666666, \"#ed7953\"], [0.7777777777777778, \"#fb9f3a\"], [0.8888888888888888, \"#fdca26\"], [1.0, \"#f0f921\"]]}, \"colorway\": [\"#636efa\", \"#EF553B\", \"#00cc96\", \"#ab63fa\", \"#FFA15A\", \"#19d3f3\", \"#FF6692\", \"#B6E880\", \"#FF97FF\", \"#FECB52\"], \"font\": {\"color\": \"#2a3f5f\"}, \"geo\": {\"bgcolor\": \"white\", \"lakecolor\": \"white\", \"landcolor\": \"white\", \"showlakes\": true, \"showland\": true, \"subunitcolor\": \"#C8D4E3\"}, \"hoverlabel\": {\"align\": \"left\"}, \"hovermode\": \"closest\", \"mapbox\": {\"style\": \"light\"}, \"paper_bgcolor\": \"white\", \"plot_bgcolor\": \"white\", \"polar\": {\"angularaxis\": {\"gridcolor\": \"#EBF0F8\", \"linecolor\": \"#EBF0F8\", \"ticks\": \"\"}, \"bgcolor\": \"white\", \"radialaxis\": {\"gridcolor\": \"#EBF0F8\", \"linecolor\": \"#EBF0F8\", \"ticks\": \"\"}}, \"scene\": {\"xaxis\": {\"backgroundcolor\": \"white\", \"gridcolor\": \"#DFE8F3\", \"gridwidth\": 2, \"linecolor\": \"#EBF0F8\", \"showbackground\": true, \"ticks\": \"\", \"zerolinecolor\": \"#EBF0F8\"}, \"yaxis\": {\"backgroundcolor\": \"white\", \"gridcolor\": \"#DFE8F3\", \"gridwidth\": 2, \"linecolor\": \"#EBF0F8\", \"showbackground\": true, \"ticks\": \"\", \"zerolinecolor\": \"#EBF0F8\"}, \"zaxis\": {\"backgroundcolor\": \"white\", \"gridcolor\": \"#DFE8F3\", \"gridwidth\": 2, \"linecolor\": \"#EBF0F8\", \"showbackground\": true, \"ticks\": \"\", \"zerolinecolor\": \"#EBF0F8\"}}, \"shapedefaults\": {\"line\": {\"color\": \"#2a3f5f\"}}, \"ternary\": {\"aaxis\": {\"gridcolor\": \"#DFE8F3\", \"linecolor\": \"#A2B1C6\", \"ticks\": \"\"}, \"baxis\": {\"gridcolor\": \"#DFE8F3\", \"linecolor\": \"#A2B1C6\", \"ticks\": \"\"}, \"bgcolor\": \"white\", \"caxis\": {\"gridcolor\": \"#DFE8F3\", \"linecolor\": \"#A2B1C6\", \"ticks\": \"\"}}, \"title\": {\"x\": 0.05}, \"xaxis\": {\"automargin\": true, \"gridcolor\": \"#EBF0F8\", \"linecolor\": \"#EBF0F8\", \"ticks\": \"\", \"title\": {\"standoff\": 15}, \"zerolinecolor\": \"#EBF0F8\", \"zerolinewidth\": 2}, \"yaxis\": {\"automargin\": true, \"gridcolor\": \"#EBF0F8\", \"linecolor\": \"#EBF0F8\", \"ticks\": \"\", \"title\": {\"standoff\": 15}, \"zerolinecolor\": \"#EBF0F8\", \"zerolinewidth\": 2}}}, \"title\": {\"text\": \"Proportion of correct answers (n_subjects=33)\"}, \"width\": 1400, \"xaxis\": {\"anchor\": \"y\", \"domain\": [0.0, 1.0], \"title\": {\"text\": \"subject\"}}, \"yaxis\": {\"anchor\": \"x\", \"domain\": [0.0, 1.0], \"title\": {\"text\": \"correct (%)\"}}},                        {\"responsive\": true}                    ).then(function(){\n",
       "                            \n",
       "var gd = document.getElementById('4ac029ff-e442-41ce-8319-61a10e7d1244');\n",
       "var x = new MutationObserver(function (mutations, observer) {{\n",
       "        var display = window.getComputedStyle(gd).display;\n",
       "        if (!display || display === 'none') {{\n",
       "            console.log([gd, 'removed!']);\n",
       "            Plotly.purge(gd);\n",
       "            observer.disconnect();\n",
       "        }}\n",
       "}});\n",
       "\n",
       "// Listen for the removal of the full notebook cells\n",
       "var notebookContainer = gd.closest('#notebook-container');\n",
       "if (notebookContainer) {{\n",
       "    x.observe(notebookContainer, {childList: true});\n",
       "}}\n",
       "\n",
       "// Listen for the clearing of the current output cell\n",
       "var outputEl = gd.closest('.output');\n",
       "if (outputEl) {{\n",
       "    x.observe(outputEl, {childList: true});\n",
       "}}\n",
       "\n",
       "                        })                };                });            </script>        </div>"
      ]
     },
     "metadata": {},
     "output_type": "display_data"
    }
   ],
   "source": [
    "df_simple_prop = df_correct_prop.copy()\n",
    "df_simple_prop.replace({'HID-Sub-0': ''}, inplace=True, regex=True)\n",
    "\n",
    "px.bar(df_simple_prop, x='subject', y='correct (%)', color='difficulty', title=f'Proportion of correct answers (n_subjects={n_subjects})',\n",
    "       template='plotly_white', width=1400, height=600, barmode='group')"
   ]
  },
  {
   "cell_type": "markdown",
   "metadata": {},
   "source": [
    "---\n",
    "# Results across population of subjects\n",
    "## Distribution of response time"
   ]
  },
  {
   "cell_type": "code",
   "execution_count": 58,
   "metadata": {},
   "outputs": [
    {
     "data": {
      "application/vnd.plotly.v1+json": {
       "config": {
        "plotlyServerURL": "https://plot.ly"
       },
       "data": [
        {
         "alignmentgroup": "True",
         "bingroup": "x",
         "hovertemplate": "difficulty=easy<br>response_time=%{x}<br>count=%{y}<extra></extra>",
         "legendgroup": "easy",
         "marker": {
          "color": "#636efa",
          "opacity": 0.5
         },
         "name": "easy",
         "offsetgroup": "easy",
         "orientation": "v",
         "showlegend": true,
         "type": "histogram",
         "x": [
          1.890625,
          1.515625,
          2.640625,
          0.953125,
          2.6875,
          1.984375,
          1.265625,
          2.0625,
          2.140625,
          0.984375,
          2.46875,
          1.09375,
          1.421875,
          1.421875,
          2.390625,
          1.71875,
          1.984375,
          2.828125,
          2.40625,
          2.765625,
          1.484375,
          1.34375,
          1.734375,
          1.484375,
          0.96875,
          1.75,
          2.828125,
          2.734375,
          0.875,
          0.78125,
          1.25,
          0.921875,
          2,
          1.171875,
          1.109375,
          2.40625,
          1.0625,
          2.0625,
          1.359375,
          1.53125,
          0.71875,
          0.984375,
          2.0625,
          2.796875,
          1.359375,
          1.03125,
          2.484375,
          1.859375,
          1.71875,
          2.75,
          1.34375,
          1.171875,
          3,
          2.640625,
          1.171875,
          1.03125,
          1.765625,
          0.921875,
          2.96875,
          2.609375,
          1.203125,
          0.6875,
          0.859375,
          0.640625,
          0.8125,
          0.640625,
          0.578125,
          0.5625,
          0.5625,
          0.8125,
          0.578125,
          0.515625,
          0.671875,
          0.6875,
          1.640625,
          0.71875,
          0.90625,
          0.6875,
          0.734375,
          1,
          0.609375,
          1.734375,
          0.984375,
          0.765625,
          0.734375,
          1.015625,
          0.625,
          0.828125,
          0.65625,
          0.6875,
          0.71875,
          0.828125,
          0.65625,
          0.515625,
          1.015625,
          0.609375,
          0.703125,
          0.703125,
          0.640625,
          0.625,
          0.78125,
          0.859375,
          0.921875,
          1.34375,
          0.53125,
          0.671875,
          1.015625,
          1.90625,
          0.84375,
          2.046875,
          1.1875,
          1.5625,
          2.109375,
          0.953125,
          1.953125,
          1.40625,
          1.4375,
          2.078125,
          1.046875,
          1.421875,
          1.03125,
          1.46875,
          0.71875,
          0.9375,
          0.703125,
          1.03125,
          0.9375,
          1,
          0.859375,
          0.9375,
          0.953125,
          0.90625,
          1.453125,
          1.296875,
          1.3125,
          1.125,
          1.09375,
          1.0625,
          0.78125,
          1.0625,
          1.1875,
          1.921875,
          1.28125,
          1.75,
          1.21875,
          1,
          1.484375,
          1.5,
          1.125,
          1.34375,
          0.984375,
          2.09375,
          1.1875,
          1.671875,
          1.140625,
          0.6875,
          0.96875,
          0.96875,
          1.28125,
          0.640625,
          0.796875,
          0.609375,
          0.6875,
          0.625,
          1.15625,
          0.671875,
          1.359375,
          1.28125,
          0.671875,
          0.8125,
          0.953125,
          0.765625,
          0.65625,
          1.1875,
          0.796875,
          0.796875,
          0.84375,
          0.890625,
          2.125,
          0.671875,
          0.84375,
          0.828125,
          0.8125,
          0.71875,
          0.59375,
          1.015625,
          0.703125,
          0.953125,
          0.640625,
          0.703125,
          1.125,
          0.953125,
          1.15625,
          0.671875,
          1.03125,
          0.8125,
          1.59375,
          0.953125,
          0.921875,
          1.125,
          1.046875,
          1.109375,
          0.59375,
          0.953125,
          0.578125,
          0.640625,
          0.796875,
          0.671875,
          0.796875,
          0.765625,
          0.5625,
          0.453125,
          0.671875,
          0.484375,
          0.578125,
          0.59375,
          0.703125,
          0.65625,
          0.671875,
          0.640625,
          0.609375,
          0.609375,
          0.796875,
          0.71875,
          0.625,
          0.765625,
          0.5625,
          0.828125,
          0.53125,
          0.796875,
          0.5,
          0.625,
          0.8125,
          0.703125,
          0.703125,
          0.578125,
          0.578125,
          0.578125,
          0.8125,
          0.90625,
          0.671875,
          0.796875,
          0.953125,
          0.5625,
          0.625,
          0.765625,
          0.765625,
          0.875,
          0.671875,
          1.078125,
          0.71875,
          1.09375,
          1.59375,
          0.78125,
          1.140625,
          1.328125,
          0.921875,
          1.296875,
          1.15625,
          0.921875,
          1.15625,
          1.703125,
          1.09375,
          2.390625,
          0.75,
          1.609375,
          0.78125,
          2.15625,
          1.03125,
          0.859375,
          1.046875,
          1.875,
          1.015625,
          1.1875,
          1.453125,
          1.03125,
          1.578125,
          2.25,
          2.125,
          1.359375,
          2.1875,
          0.8125,
          0.78125,
          0.96875,
          1.625,
          0.828125,
          0.65625,
          1.78125,
          1.46875,
          0.96875,
          1.6875,
          1.09375,
          2.078125,
          1.203125,
          1.78125,
          1.28125,
          1.09375,
          1.125,
          1.640625,
          1.234375,
          0.96875,
          0.890625,
          1.609375,
          1.140625,
          0.75,
          1.171875,
          1.421875,
          0.6875,
          0.84375,
          1.34375,
          1.296875,
          1.40625,
          0.84375,
          1.375,
          0.71875,
          1.359375,
          0.578125,
          0.625,
          1.09375,
          1.546875,
          0.796875,
          1.25,
          1.90625,
          1.59375,
          0.828125,
          0.890625,
          0.6875,
          2.046875,
          1.46875,
          1.515625,
          2.125,
          1.3125,
          1.015625,
          1.046875,
          0.890625,
          1.234375,
          1.4375,
          0.84375,
          0.78125,
          0.671875,
          2.078125,
          1.421875,
          1.125,
          0.859375,
          1.421875,
          1,
          1.234375,
          1.59375,
          0.859375,
          1.03125,
          1.015625,
          0.9375,
          2.03125,
          2.046875,
          0.734375,
          0.71875,
          0.65625,
          1.046875,
          1.046875,
          1.265625,
          1.25,
          1.234375,
          1.046875,
          0.84375,
          0.765625,
          1.453125,
          1.125,
          0.875,
          0.859375,
          1,
          0.796875,
          0.78125,
          0.765625,
          0.84375,
          0.9375,
          0.875,
          0.71875,
          1.09375,
          1.25,
          0.75,
          0.859375,
          1.078125,
          1,
          0.78125,
          0.671875,
          1.28125,
          0.828125,
          1,
          1.265625,
          1.25,
          0.859375,
          0.796875,
          0.953125,
          1.078125,
          1.109375,
          1.4375,
          2,
          2.5,
          2.21875,
          1.875,
          1.25,
          1.328125,
          1.203125,
          0.921875,
          1.90625,
          0.703125,
          2.234375,
          1.78125,
          1.609375,
          1.15625,
          1.734375,
          1.890625,
          1.328125,
          1.265625,
          1.15625,
          1.890625,
          1.15625,
          2.171875,
          0.8125,
          1.0625,
          2.125,
          1.75,
          1.375,
          1.78125,
          1.828125,
          2.328125,
          1.734375,
          1.625,
          1.890625,
          2.03125,
          1.21875,
          2.09375,
          1.8125,
          2.109375,
          1.234375,
          1.796875,
          1.046875,
          1.671875,
          0.109375,
          1.875,
          1.375,
          1.1875,
          1.015625,
          0.90625,
          0.96875,
          1.046875,
          1.796875,
          1.078125,
          0.59375,
          1.21875,
          0.984375,
          1.140625,
          0.640625,
          0.640625,
          2.28125,
          2.171875,
          1.28125,
          1.40625,
          0.921875,
          0.78125,
          0.828125,
          0.6875,
          0.765625,
          0.796875,
          1.421875,
          1.640625,
          0.6875,
          1.796875,
          1.328125,
          1.015625,
          0.921875,
          1.5,
          1.109375,
          1.296875,
          1.375,
          1.171875,
          1.0625,
          1.71875,
          0.828125,
          0.71875,
          0.828125,
          1.984375,
          1.4375,
          1.109375,
          1.84375,
          0.84375,
          0.15625,
          1.5625,
          1.703125,
          0.8125,
          0.75,
          0.703125,
          1,
          0.953125,
          0.984375,
          0.71875,
          0.8125,
          1.71875,
          1,
          0.609375,
          1.390625,
          2.203125,
          1.484375,
          0.890625,
          1,
          1.171875,
          1.0625,
          0.90625,
          1.671875,
          1.34375,
          0.8125,
          1.296875,
          1.09375,
          0.59375,
          0.796875,
          1.59375,
          1.171875,
          0.921875,
          1.671875,
          1.734375,
          0.8125,
          0.75,
          0.9375,
          0.65625,
          2.015625,
          0.59375,
          0.59375,
          1.28125,
          1.1875,
          0.84375,
          1.171875,
          0.859375,
          0.625,
          1.8125,
          1.4375,
          1.140625,
          0.828125,
          0.640625,
          0.953125,
          0.984375,
          0.6875,
          0.65625,
          1.109375,
          1.078125,
          0.828125,
          0.609375,
          0.578125,
          0.609375,
          0.78125,
          0.890625,
          0.640625,
          0.921875,
          0.59375,
          0.484375,
          1.203125,
          0.640625,
          1.578125,
          0.671875,
          0.703125,
          0.5625,
          0.703125,
          0.625,
          0.796875,
          0.828125,
          0.609375,
          0.671875,
          0.625,
          0.890625,
          0.609375,
          0.5625,
          0.609375,
          0.734375,
          0.609375,
          0.453125,
          0.609375,
          0.703125,
          0.59375,
          0.578125,
          0.5625,
          0.640625,
          0.703125,
          0.578125,
          1.953125,
          1.15625,
          2.546875,
          1.734375,
          1.328125,
          2.234375,
          1.609375,
          1.34375,
          2.015625,
          2.921875,
          2.78125,
          2.296875,
          2.125,
          2.65625,
          1.65625,
          2.5,
          1.5625,
          1.890625,
          2.109375,
          2.65625,
          2.546875,
          1.015625,
          2.125,
          1.78125,
          2.609375,
          2.875,
          2.34375,
          2.828125,
          1.234375,
          1.625,
          1.046875,
          1.921875,
          1.59375,
          2.546875,
          1.296875,
          2.4375,
          2.21875,
          2.390625,
          2.375,
          1.796875,
          0.171875,
          1.0625,
          1.84375,
          2.578125,
          2.453125,
          1.46875,
          0.6875,
          0.546875,
          0.65625,
          0.84375,
          0.84375,
          0.609375,
          2.359375,
          0.65625,
          0.59375,
          1.203125,
          0.6875,
          1.234375,
          0.734375,
          0.640625,
          2,
          0.625,
          0.65625,
          0.75,
          0.796875,
          0.8125,
          0.671875,
          0.53125,
          0.765625,
          0.546875,
          0.734375,
          1.21875,
          0.53125,
          0.859375,
          0.671875,
          1.125,
          0.765625,
          0.640625,
          0.65625,
          0.71875,
          0.5625,
          0.6875,
          1.296875,
          0.8125,
          0.5625,
          0.859375,
          0.859375,
          0.859375,
          0.65625,
          0.703125,
          0.828125,
          0.78125,
          0.609375,
          0.84375,
          1.015625,
          1.203125,
          0.671875,
          1.109375,
          0.71875,
          0.546875,
          0.9375,
          0.75,
          0.5,
          0.796875,
          0.609375,
          0.640625,
          0.875,
          1.828125,
          0.796875,
          0.671875,
          0.59375,
          1.28125,
          0.75,
          1.046875,
          0.609375,
          0.640625,
          0.90625,
          1.078125,
          0.5625,
          0.625,
          0.671875,
          0.953125,
          0.53125,
          0.75,
          0.984375,
          0.578125,
          0.796875,
          0.78125,
          0.828125,
          0.59375,
          0.640625,
          0.625,
          0.578125,
          0.796875,
          0.828125,
          0.71875,
          0.78125,
          0.765625,
          0.75,
          0.96875,
          1.21875,
          0.796875,
          1.96875,
          0.96875,
          1.078125,
          1.15625,
          1.21875,
          2.890625,
          1.375,
          0.6875,
          0.859375,
          0.984375,
          0.890625,
          1.015625,
          0.6875,
          1.1875,
          0.984375,
          1.21875,
          1.03125,
          0.875,
          0.640625,
          0.859375,
          0.734375,
          1.359375,
          0.84375,
          1.078125,
          0.578125,
          0.890625,
          1.328125,
          1.34375,
          0.859375,
          1.796875,
          0.9375,
          0.796875,
          0.65625,
          0.703125,
          0.734375,
          0.609375,
          0.796875,
          0.59375,
          1.546875,
          0.8125,
          0.9375,
          1.5,
          0.59375,
          0.609375,
          0.9375,
          1.53125,
          0.875,
          0.765625,
          1.578125,
          1.609375,
          0.671875,
          0.71875,
          1.6875,
          0.984375,
          0.65625,
          0.765625,
          0.65625,
          1.140625,
          0.515625,
          0.625,
          0.546875,
          1.4375,
          0.71875,
          1.359375,
          0.546875,
          0.65625,
          0.796875,
          0.515625,
          0.546875,
          0.453125,
          0.609375,
          0.640625,
          0.484375,
          0.5625,
          0.515625,
          1.25,
          0.484375,
          0.515625,
          0.640625,
          0.609375,
          0.6875,
          0.5625,
          0.484375,
          1.15625,
          0.640625,
          0.5,
          0.5,
          0.59375,
          0.578125,
          0.59375,
          0.5625,
          0.765625,
          0.53125,
          0.484375,
          0.65625,
          0.46875,
          1.265625,
          1.140625,
          1.71875,
          1.03125,
          0.625,
          1.796875,
          0.78125,
          1,
          1.015625,
          0.796875,
          0.75,
          1.171875,
          0.75,
          1.078125,
          0.578125,
          0.671875,
          0.6875,
          1.03125,
          1.390625,
          0.671875,
          0.484375,
          0.546875,
          0.65625,
          0.59375,
          1.28125,
          0.5,
          0.46875,
          0.734375,
          0.453125,
          0.859375,
          0.625,
          0.59375,
          1.453125,
          1.09375,
          0.859375,
          0.75,
          0.984375,
          0.734375,
          0.640625,
          1.03125,
          0.640625,
          0.578125,
          0.96875,
          0.703125,
          0.765625,
          0.796875,
          0.84375,
          0.5625,
          1.34375,
          0.59375,
          0.875,
          0.6875,
          0.71875,
          0.515625,
          1.0625,
          0.890625,
          0.53125,
          0.96875,
          0.578125,
          0.53125,
          0.59375,
          0.546875,
          0.78125,
          0.9375,
          0.703125,
          0.890625,
          0.59375,
          0.765625,
          0.8125,
          0.828125,
          0.46875,
          1.515625,
          0.578125,
          0.53125,
          0.640625,
          1,
          0.796875,
          0.8125,
          0.625,
          0.5,
          1.1875,
          0.796875,
          0.625,
          0.75,
          0.609375,
          0.5,
          0.640625,
          0.734375,
          0.78125,
          0.71875,
          0.625,
          0.578125,
          0.578125,
          0.59375,
          0.765625,
          0.546875,
          1.453125,
          1.015625,
          0.859375,
          0.984375,
          0.75,
          0.78125,
          0.890625,
          2.25,
          1.546875,
          0.90625,
          0.984375,
          2.171875,
          1.921875,
          2.671875,
          0.609375,
          0.921875,
          1,
          1.609375,
          1.40625,
          0.6875,
          1.125,
          1.4375,
          0.75,
          1.921875,
          2.203125,
          1.53125,
          0.640625,
          1.484375,
          0.6875,
          1.75,
          2.125,
          1.1875,
          1.28125,
          1.890625,
          1,
          1.296875,
          3.703125,
          0.578125,
          0.609375,
          1.234375,
          0.671875,
          0.71875,
          0.78125,
          2.1875,
          1.796875,
          1.5625,
          1.65625,
          1.5,
          0.875,
          0.890625,
          1,
          0.859375,
          1.515625,
          1.296875,
          0.8125,
          1.28125,
          1.21875,
          1.078125,
          0.828125,
          1.171875,
          0.984375,
          0.90625,
          1.0625,
          0.859375,
          0.8125,
          0.71875,
          0.703125,
          1.25,
          0.984375,
          0.828125,
          0.828125,
          0.90625,
          1.046875,
          0.75,
          0.859375,
          0.703125,
          0.765625,
          0.796875,
          0.9375,
          0.828125,
          0.9375,
          0.859375,
          1.25,
          0.671875,
          0.796875,
          2.078125,
          0.796875,
          1.09375,
          0.984375,
          0.953125,
          0.75,
          0.796875,
          1,
          0.8125,
          1.625,
          0.9375,
          2.390625,
          2.171875,
          0.75,
          0.875,
          0.5,
          1.125,
          0.90625,
          1.703125,
          0.84375,
          0.703125,
          1.03125,
          1.234375,
          2.421875,
          1.1875,
          0.734375,
          0.671875,
          1.78125,
          1.453125,
          1.53125,
          0.90625,
          0.71875,
          1.421875,
          0.765625,
          0.765625,
          0.796875,
          0.609375,
          0.59375,
          0.53125,
          1.25,
          2.125,
          0.90625,
          0.921875,
          0.59375,
          0.796875,
          0.859375,
          0.5625,
          0.765625,
          0.890625,
          0.890625,
          0.859375,
          0.5,
          0.859375,
          1,
          1.015625,
          1.109375,
          0.609375,
          1.984375,
          0.671875,
          1.015625,
          1.328125,
          0.984375,
          0.828125,
          0.515625,
          1.734375,
          0.75,
          0.515625,
          0.796875,
          0.515625,
          1.0625,
          2.28125,
          0.6875,
          1.390625,
          0.78125,
          1.046875,
          0.734375,
          0.75,
          0.65625,
          0.734375,
          0.625,
          1.28125,
          0.8125,
          0.53125,
          0.546875,
          0.625,
          0.609375,
          0.625,
          1.203125,
          0.65625,
          2.015625,
          0.515625,
          0.703125,
          0.65625,
          0.5625,
          1.578125,
          0.578125,
          1.28125,
          0.484375,
          0.90625,
          0.953125,
          1.8125,
          0.578125,
          1.265625,
          0.921875,
          1.0625,
          0.859375,
          1.390625,
          1.171875,
          0.96875,
          1.828125,
          0.78125,
          0.75,
          0.90625,
          1.125,
          1.515625,
          0.671875,
          0.765625,
          1.453125,
          1.359375,
          0.671875,
          0.828125,
          0.859375,
          0.765625,
          0.984375,
          1.1875,
          1.625,
          0.78125,
          1.5,
          1.09375,
          0.828125,
          0.71875,
          0.640625,
          1.046875,
          1,
          0.6875,
          0.9375,
          0.75,
          0.75,
          0.96875,
          0.84375,
          1.265625,
          0.734375,
          0.59375,
          0.671875,
          1.09375,
          1.453125,
          0.84375,
          0.734375,
          0.828125,
          1.046875,
          0.84375,
          1.09375,
          1.234375,
          1.09375,
          1.09375,
          1.15625,
          1.140625,
          0.84375,
          0.6875,
          0.765625,
          0.796875,
          0.734375,
          0.6875,
          0.71875,
          0.59375,
          0.828125,
          0.609375,
          0.765625,
          0.8125,
          0.703125,
          0.75,
          1.03125,
          0.6875,
          0.59375,
          0.703125,
          0.75,
          0.5625,
          0.75,
          0.875,
          0.90625,
          1.71875,
          0.5625,
          0.734375,
          0.703125,
          0.640625,
          0.6875,
          0.8125,
          0.640625,
          0.625,
          0.734375,
          0.65625,
          0.859375,
          0.671875,
          1.421875,
          0.921875,
          0.546875,
          0.671875,
          0.703125,
          0.75,
          0.65625,
          0.859375,
          0.5625,
          1.203125,
          1.0625,
          1.1875,
          0.9375,
          0.828125,
          0.703125,
          1.28125,
          1.140625,
          0.84375,
          1.046875,
          0.640625,
          1.078125,
          0.953125,
          0.875,
          1.296875,
          1.21875,
          0.90625,
          1.09375,
          0.875,
          1.09375,
          1.1875,
          0.96875,
          0.84375,
          0.84375,
          0.9375,
          0.84375,
          0.828125,
          0.828125,
          0.8125,
          0.890625,
          0.953125,
          1.09375,
          1.25,
          1.0625,
          1.140625,
          0.953125,
          1.453125,
          1.25,
          1.109375,
          1.015625,
          0.84375,
          0.890625,
          1.03125,
          1.203125,
          1.0625,
          1,
          1.265625,
          0.734375,
          2.328125,
          1.953125,
          2.390625,
          2.390625,
          0.8125,
          1.109375,
          1.671875,
          1.125,
          0.8125,
          1.5,
          0.65625,
          0.90625,
          0.78125,
          1.984375,
          0.765625,
          1.046875,
          0.703125,
          0.828125,
          0.78125,
          0.75,
          0.828125,
          0.71875,
          1.71875,
          0.828125,
          0.84375,
          1.625,
          0.671875,
          0.84375,
          0.625,
          0.640625,
          0.9375,
          0.84375,
          0.765625,
          0.9375,
          0.671875,
          1.796875,
          0.71875,
          1.46875,
          1.21875,
          1.203125,
          0.609375,
          0.71875,
          0.890625,
          1.890625,
          0.765625,
          2.109375,
          1.34375,
          2.609375,
          2.015625,
          0.6875,
          1.96875,
          1.421875,
          2.03125,
          1.453125,
          1.015625,
          1.015625,
          0.828125,
          1.484375,
          0.890625,
          1.21875,
          0.890625,
          0.84375,
          0.984375,
          0.890625,
          1.484375,
          1.71875,
          0.9375,
          1.03125,
          1.5625,
          0.828125,
          1.328125,
          1.46875,
          1.8125,
          0.765625,
          0.96875,
          0.890625,
          2.34375,
          1.09375,
          1.5625,
          1.3125,
          1.5,
          0.9375,
          0.96875,
          0.78125,
          1.53125,
          2.390625,
          2.25,
          1.21875,
          2.078125,
          1.109375,
          2.078125,
          2.125,
          0.9375,
          2.046875,
          1.125,
          0.796875,
          0.90625,
          1.09375,
          0.984375,
          1.296875,
          1.21875,
          1.265625,
          0.953125,
          0.734375,
          0.65625,
          1.265625,
          1,
          0.640625,
          0.609375,
          0.546875,
          1.046875,
          0.890625,
          0.59375,
          0.65625,
          0.546875,
          0.53125,
          0.859375,
          0.5,
          0.5625,
          0.96875,
          0.625,
          1.03125,
          0.75,
          0.9375,
          0.65625,
          0.859375,
          0.703125,
          0.796875,
          0.703125,
          0.703125,
          0.90625,
          0.578125,
          0.890625,
          1.140625,
          0.765625,
          0.84375,
          0.796875,
          0.71875,
          0.96875,
          0.6875,
          1,
          0.828125,
          2.5,
          0.734375,
          1.0625,
          0.796875,
          0.859375,
          1.109375,
          1,
          0.671875,
          0.8125,
          1.421875,
          0.703125,
          0.546875,
          0.90625,
          0.90625,
          0.65625,
          0.609375,
          0.625,
          0.9375,
          0.65625,
          0.515625,
          0.65625,
          1.203125,
          0.6875,
          0.859375,
          0.96875,
          0.53125,
          0.71875,
          1.078125,
          0.671875,
          0.84375,
          0.734375,
          0.921875,
          0.703125,
          0.546875,
          0.515625,
          0.578125,
          0.5,
          1.3125,
          1.296875,
          0.5625,
          1.65625,
          0.5625,
          0.84375,
          0.71875,
          0.53125,
          0.75,
          0.625,
          0.5,
          1.296875,
          2.8125,
          1.609375,
          1.390625,
          0.703125,
          0.84375,
          0.9375,
          1.328125,
          0.78125,
          1.390625,
          1.390625,
          1.59375,
          2,
          1.296875,
          1.015625,
          0.875,
          2,
          1.75,
          1.421875,
          1.734375,
          1.640625,
          0.796875,
          0.953125,
          0.78125,
          0.84375,
          1.71875,
          0.828125,
          0.890625,
          1.34375,
          0.890625,
          1.25,
          1.171875,
          1.40625,
          1.796875,
          1.640625,
          1.609375,
          0.875,
          1.34375,
          0.78125,
          0.984375,
          0.859375,
          0.84375,
          0.84375,
          1.28125,
          0.984375,
          0.921875,
          1.46875,
          1.234375,
          2.21875,
          2.796875,
          0.921875,
          2.234375,
          1.59375,
          2.5625,
          2.453125,
          2.703125,
          2.53125,
          1.328125,
          2.609375,
          2.671875,
          1.3125,
          2.28125,
          1.828125,
          2.296875,
          1.875,
          2.296875,
          1.703125,
          1.25,
          2.390625,
          1.78125,
          2.625,
          1.96875,
          0.109375,
          1.4375,
          1.15625,
          1.046875,
          1.6875,
          2.1875,
          1.421875,
          1.609375,
          1.4375,
          0.890625,
          1.59375,
          1.40625,
          1.609375,
          1.765625,
          1.921875,
          1.53125,
          1.953125,
          1.359375,
          1.421875,
          1.25,
          1.421875,
          1.90625,
          1.453125,
          2,
          1.578125,
          0.984375,
          1.453125,
          1.171875,
          1.59375,
          1,
          1.125,
          1.734375,
          1,
          1,
          1.84375,
          0.90625,
          1.3125,
          0.953125,
          1.265625,
          1.078125,
          1.25
         ],
         "xaxis": "x",
         "yaxis": "y"
        },
        {
         "alignmentgroup": "True",
         "bingroup": "x",
         "hovertemplate": "difficulty=hard<br>response_time=%{x}<br>count=%{y}<extra></extra>",
         "legendgroup": "hard",
         "marker": {
          "color": "#EF553B",
          "opacity": 0.5
         },
         "name": "hard",
         "offsetgroup": "hard",
         "orientation": "v",
         "showlegend": true,
         "type": "histogram",
         "x": [
          0.71875,
          3.046875,
          2.5,
          0.96875,
          0.875,
          1.375,
          0.875,
          0.6875,
          2.875,
          3.25,
          1.03125,
          1.859375,
          2.625,
          2.375,
          1.3125,
          1.59375,
          2.1875,
          2.09375,
          2.546875,
          1.234375,
          2.1875,
          1.515625,
          3.09375,
          2.359375,
          2.734375,
          1.328125,
          3,
          2.171875,
          2.984375,
          1.34375,
          1.1875,
          2.296875,
          2.8125,
          2.453125,
          0.765625,
          0.796875,
          2.3125,
          2.78125,
          2.640625,
          2.375,
          2.390625,
          0.8125,
          0.96875,
          1,
          0.859375,
          0.703125,
          1.1875,
          1.34375,
          1.328125,
          2.59375,
          1.625,
          2.140625,
          1.5625,
          1.5625,
          1.078125,
          1.015625,
          0.703125,
          1.46875,
          1.375,
          2.15625,
          1.21875,
          0.90625,
          0.796875,
          1.109375,
          1.453125,
          1.078125,
          0.984375,
          2.234375,
          2.390625,
          1.71875,
          1.28125,
          1.15625,
          0.8125,
          1.375,
          1.46875,
          1.4375,
          0.890625,
          0.9375,
          1.171875,
          1.328125,
          1.234375,
          0.921875,
          0.8125,
          1.390625,
          1.375,
          1.46875,
          1.8125,
          1.40625,
          1.15625,
          0.828125,
          0.984375,
          1.078125,
          1.484375,
          1.015625,
          1.609375,
          1.15625,
          1.875,
          1.890625,
          1.609375,
          1.015625,
          2.453125,
          1.984375,
          2.578125,
          2.28125,
          1.609375,
          2.046875,
          1.65625,
          0.921875,
          1.703125,
          1.046875,
          1.546875,
          1.78125,
          1.484375,
          1.578125,
          2.234375,
          1.234375,
          1.53125,
          2.75,
          0.875,
          1.453125,
          2,
          1.265625,
          1.546875,
          1.828125,
          1.640625,
          2.5625,
          1.125,
          0.96875,
          1.859375,
          1.015625,
          2.109375,
          1.46875,
          1.15625,
          1,
          2.046875,
          1,
          1.453125,
          1.375,
          1.5,
          1.765625,
          1.9375,
          1.984375,
          1.796875,
          1.96875,
          2.03125,
          1.8125,
          1.359375,
          0.96875,
          1.09375,
          1.578125,
          1.78125,
          1.1875,
          2.25,
          1.5625,
          0.734375,
          1.015625,
          1.265625,
          1.359375,
          1.25,
          1.078125,
          2.578125,
          1.09375,
          1.046875,
          2.421875,
          1.140625,
          1.46875,
          0.734375,
          1.34375,
          0.796875,
          1.140625,
          1.234375,
          0.8125,
          1.390625,
          1.8125,
          1.015625,
          0.921875,
          1.140625,
          1.890625,
          0.65625,
          1.515625,
          1.59375,
          1.015625,
          0.71875,
          1.28125,
          0.921875,
          1.9375,
          1.875,
          0.71875,
          1.796875,
          2.03125,
          0.9375,
          0.59375,
          1.484375,
          0.671875,
          0.703125,
          0.890625,
          1.9375,
          1.265625,
          0.84375,
          2.59375,
          0.625,
          1.03125,
          0.609375,
          1.171875,
          0.6875,
          0.65625,
          1.203125,
          1.046875,
          0.5625,
          1.203125,
          0.921875,
          1.609375,
          1.625,
          1.34375,
          0.671875,
          0.6875,
          0.9375,
          1.8125,
          1.03125,
          2.21875,
          0.875,
          0.765625,
          0.828125,
          0.828125,
          0.765625,
          1.859375,
          1.328125,
          0.890625,
          0.953125,
          1.234375,
          0.765625,
          1.28125,
          0.640625,
          1.1875,
          1.640625,
          0.75,
          2.109375,
          1.125,
          2.046875,
          1.953125,
          0.84375,
          2.078125,
          1.40625,
          2.6875,
          1.234375,
          1.25,
          1.203125,
          1.984375,
          2.125,
          2.03125,
          1.140625,
          1.109375,
          2.5625,
          1.875,
          1.0625,
          1.84375,
          0.8125,
          1.21875,
          0.59375,
          1.015625,
          1.90625,
          2.015625,
          2.21875,
          2.4375,
          2.5,
          1.359375,
          0.8125,
          0.9375,
          1.890625,
          2.25,
          0.765625,
          1.578125,
          1.328125,
          1.890625,
          1.25,
          1.25,
          1.890625,
          2.09375,
          1.765625,
          1.125,
          1.75,
          1.890625,
          1.8125,
          1.765625,
          2.109375,
          1.40625,
          1.1875,
          2.71875,
          2.421875,
          1.734375,
          2,
          0.90625,
          1.765625,
          1.234375,
          1.21875,
          1.59375,
          1.515625,
          1.078125,
          2.015625,
          2.203125,
          1.703125,
          2.046875,
          1.359375,
          1.828125,
          0.78125,
          1.09375,
          2.734375,
          1.796875,
          2.625,
          1.15625,
          2.171875,
          1.90625,
          2.625,
          2.78125,
          2.171875,
          1.046875,
          2.265625,
          0.921875,
          1.453125,
          0.90625,
          0.640625,
          0.46875,
          1.4375,
          1.046875,
          1.640625,
          1.3125,
          1.046875,
          0.828125,
          1.125,
          1.171875,
          0.953125,
          1.359375,
          1.765625,
          1.171875,
          1.328125,
          0.890625,
          1,
          1.3125,
          1.609375,
          0.90625,
          1.09375,
          1.28125,
          1.296875,
          1.046875,
          0.953125,
          0.96875,
          0.9375,
          1.03125,
          1.15625,
          1.015625,
          0.9375,
          1.078125,
          1.03125,
          0.921875,
          1.109375,
          0.953125,
          0.953125,
          1.25,
          0.796875,
          0.984375,
          1.078125,
          1,
          0.765625,
          1,
          1.484375,
          0.78125,
          0.796875,
          0.96875,
          2.765625,
          2.03125,
          1.625,
          2.375,
          1.59375,
          1.21875,
          2.46875,
          0.8125,
          1.140625,
          2.90625,
          2.875,
          2.0625,
          2.125,
          2.4375,
          2.75,
          1.28125,
          2.609375,
          1.125,
          2.359375,
          2.734375,
          1.609375,
          1.453125,
          1.703125,
          2.375,
          1.78125,
          2.703125,
          2.234375,
          2.046875,
          2.046875,
          2.3125,
          1.796875,
          1.859375,
          1.9375,
          2.109375,
          1.140625,
          2.09375,
          1.71875,
          1.046875,
          1.953125,
          0.671875,
          1.359375,
          0.9375,
          0.859375,
          2.71875,
          1.765625,
          0.96875,
          1.6875,
          1.453125,
          1.53125,
          0.75,
          1.28125,
          1.734375,
          1.8125,
          1.890625,
          2.28125,
          1.515625,
          1.40625,
          1.96875,
          1.484375,
          0.90625,
          1.109375,
          1.421875,
          1.40625,
          1.234375,
          1.625,
          1.046875,
          0.640625,
          1.265625,
          0.953125,
          1.25,
          2.859375,
          1.34375,
          1.78125,
          1.90625,
          0.71875,
          2.40625,
          3.140625,
          1.890625,
          1.484375,
          2.265625,
          1.3125,
          2.015625,
          1.765625,
          1.09375,
          0.890625,
          1.671875,
          2.671875,
          0.671875,
          2.34375,
          1.40625,
          1.578125,
          1.625,
          0.6875,
          1.28125,
          1.3125,
          1.5,
          1.109375,
          1.515625,
          0.890625,
          0.953125,
          1.390625,
          0.890625,
          1.921875,
          1.75,
          1.65625,
          1.71875,
          1.390625,
          1.609375,
          1.703125,
          0.875,
          2.140625,
          2.15625,
          2.0625,
          1.09375,
          1.375,
          0.96875,
          1.359375,
          2.140625,
          1.734375,
          1.75,
          2.03125,
          0.78125,
          1.75,
          0.859375,
          1.359375,
          1.453125,
          1.78125,
          1.625,
          1.640625,
          1.53125,
          1.515625,
          1.09375,
          2.375,
          2.078125,
          1.5,
          0.625,
          1.796875,
          1.78125,
          1.09375,
          2.3125,
          2.015625,
          0.90625,
          1.140625,
          1.171875,
          0.890625,
          1.609375,
          1.265625,
          2.015625,
          2.34375,
          0.6875,
          1.890625,
          2.71875,
          2.71875,
          0.90625,
          1.140625,
          0.921875,
          0.96875,
          2.140625,
          1.390625,
          0.671875,
          0.671875,
          1.859375,
          0.484375,
          1.34375,
          1.578125,
          2.578125,
          0.75,
          1.328125,
          1.484375,
          1.53125,
          1.859375,
          0.6875,
          1.921875,
          0.578125,
          1.34375,
          2.46875,
          0.796875,
          0.734375,
          0.515625,
          1.734375,
          1.21875,
          2.0625,
          2.84375,
          2.890625,
          1.09375,
          2.75,
          2.75,
          2.75,
          2.125,
          3.09375,
          2.21875,
          2.6875,
          2.234375,
          2.4375,
          1.640625,
          1.734375,
          2.546875,
          1.34375,
          1.3125,
          2.8125,
          2.3125,
          2.296875,
          2.296875,
          2.796875,
          2.859375,
          2.5625,
          2.5625,
          2.65625,
          3.09375,
          1.53125,
          1.953125,
          2.359375,
          2.3125,
          1.890625,
          2.71875,
          2.296875,
          1.96875,
          2.203125,
          1.671875,
          1.609375,
          1.671875,
          3.375,
          1.546875,
          1.671875,
          2.125,
          1.21875,
          1.78125,
          2.421875,
          1.078125,
          0.6875,
          1.375,
          0.734375,
          1.234375,
          0.734375,
          1.09375,
          1.328125,
          0.78125,
          2.5625,
          1.8125,
          0.65625,
          1.515625,
          0.8125,
          1.296875,
          1.328125,
          1.140625,
          1.015625,
          0.71875,
          1.21875,
          2.546875,
          1.1875,
          1.015625,
          0.96875,
          1.953125,
          1.046875,
          0.78125,
          0.78125,
          1.171875,
          2.546875,
          0.640625,
          1.21875,
          1.359375,
          0.59375,
          1.109375,
          1.828125,
          1.140625,
          1.640625,
          1.078125,
          0.703125,
          1.453125,
          1.03125,
          1.3125,
          0.84375,
          0.703125,
          0.9375,
          1.515625,
          2.234375,
          2.1875,
          0.71875,
          1.109375,
          1.09375,
          0.6875,
          1.71875,
          2.671875,
          1.421875,
          2,
          2.921875,
          2.109375,
          1.859375,
          2.296875,
          1.59375,
          1.90625,
          1.078125,
          0.859375,
          1.3125,
          0.625,
          1.875,
          1.09375,
          1.078125,
          1.28125,
          0.984375,
          2.5625,
          1.390625,
          1,
          0.765625,
          1.0625,
          1.890625,
          1.40625,
          0.984375,
          1.875,
          1.234375,
          1.9375,
          0.96875,
          1,
          1.59375,
          1.390625,
          2.109375,
          1.5,
          2.5625,
          2.984375,
          1.5,
          1.21875,
          1.375,
          1.5,
          2.234375,
          1.21875,
          0.78125,
          2.46875,
          0.65625,
          1.484375,
          1.203125,
          1.296875,
          0.96875,
          1.359375,
          0.78125,
          0.9375,
          1.5,
          1.203125,
          0.28125,
          0.875,
          1.828125,
          2.21875,
          1.515625,
          1.484375,
          2.109375,
          1.671875,
          2.21875,
          1.359375,
          0.8125,
          2.359375,
          1,
          1.828125,
          1.546875,
          1.359375,
          1.71875,
          0.984375,
          1.421875,
          1.203125,
          2.71875,
          1.25,
          1.125,
          1.390625,
          0.765625,
          0.71875,
          1.140625,
          0.828125,
          1.234375,
          2.03125,
          1.71875,
          1.765625,
          1.265625,
          0.6875,
          0.734375,
          0.5625,
          0.65625,
          1.65625,
          0.84375,
          0.984375,
          2,
          1.875,
          1.65625,
          0.765625,
          1.34375,
          0.78125,
          0.6875,
          0.484375,
          0.96875,
          1.3125,
          1.375,
          0.90625,
          1.3125,
          0.984375,
          1.234375,
          0.65625,
          0.65625,
          0.921875,
          0.84375,
          0.59375,
          1.3125,
          0.65625,
          0.640625,
          2.421875,
          1.765625,
          1.765625,
          1.171875,
          0.84375,
          1.09375,
          2.078125,
          0.671875,
          1.8125,
          0.765625,
          1.453125,
          0.5625,
          1.546875,
          2.4375,
          1.265625,
          2.21875,
          0.796875,
          0.640625,
          0.625,
          2.46875,
          1.703125,
          0.828125,
          2.046875,
          0.5,
          2.125,
          1.15625,
          1.46875,
          0.59375,
          1.1875,
          2.296875,
          1.859375,
          1.421875,
          1.375,
          1.375,
          1.640625,
          2.15625,
          1.78125,
          2.265625,
          0.796875,
          1.484375,
          1.6875,
          2.375,
          0.953125,
          1.359375,
          0.59375,
          0.625,
          1.359375,
          1.875,
          1.84375,
          0.59375,
          1.4375,
          1.09375,
          1.109375,
          1.703125,
          1.8125,
          1,
          1.453125,
          1.78125,
          1.359375,
          1.21875,
          0.609375,
          0.609375,
          1.234375,
          0.671875,
          1.296875,
          0.6875,
          1.453125,
          0.6875,
          1.234375,
          0.5625,
          0.90625,
          1.375,
          0.671875,
          1.046875,
          1.28125,
          1.140625,
          1.03125,
          0.828125,
          0.578125,
          1.03125,
          0.875,
          0.953125,
          1.03125,
          0.734375,
          0.703125,
          1.46875,
          0.546875,
          0.609375,
          1.046875,
          0.640625,
          0.640625,
          2.265625,
          1.34375,
          2.3125,
          2.65625,
          2.296875,
          1.515625,
          0.90625,
          1.046875,
          2.15625,
          1.453125,
          1.78125,
          2.703125,
          1.453125,
          1.671875,
          1.296875,
          2.546875,
          1.671875,
          2.046875,
          2.015625,
          1.96875,
          2.453125,
          0.8125,
          1.078125,
          2.421875,
          2.546875,
          2.046875,
          1.828125,
          1.484375,
          1.9375,
          2.265625,
          1.328125,
          2.171875,
          0.78125,
          2.453125,
          1.28125,
          2.078125,
          2.3125,
          2.453125,
          1.546875,
          1.4375,
          0.953125,
          1.71875,
          2.734375,
          0.6875,
          0.5625,
          1.8125,
          0.6875,
          2.25,
          2.6875,
          0.640625,
          1.75,
          1.359375,
          2.625,
          0.796875,
          1.203125,
          1.9375,
          1.1875,
          2.796875,
          1.21875,
          2.15625,
          1.921875,
          2.296875,
          2.390625,
          1.328125,
          2.421875,
          1.0625,
          1.859375,
          1.140625,
          2,
          1.390625,
          1.53125,
          1.140625,
          1.65625,
          1.21875,
          1.390625,
          1.828125,
          1.921875,
          1.125,
          1.53125,
          1.890625,
          1.25,
          2.140625,
          2.5625,
          1.359375,
          1.390625,
          1.34375,
          0.96875,
          0.9375,
          0.96875,
          1.6875,
          1.109375,
          2.84375,
          2.25,
          1.046875,
          1.8125,
          0.9375,
          1.75,
          0.8125,
          1.734375,
          0.859375,
          2.03125,
          2.390625,
          2.171875,
          1.578125,
          0.96875,
          1.234375,
          1.84375,
          1.515625,
          2.3125,
          0.984375,
          2.390625,
          3.09375,
          2.609375,
          2.484375,
          2.625,
          0.84375,
          1.609375,
          0.734375,
          1.71875,
          1.421875,
          1.765625,
          0.6875,
          1.5625,
          2.34375,
          2.046875,
          1.421875,
          1.90625,
          1.203125,
          1.421875,
          2.21875,
          1.078125,
          3.546875,
          1.90625,
          1.234375,
          1.15625,
          2.890625,
          2.296875,
          1.234375,
          3.296875,
          0.828125,
          1.265625,
          2.578125,
          1.78125,
          2.359375,
          0.75,
          0.75,
          1.640625,
          1.265625,
          0.53125,
          0.734375,
          2.65625,
          2.140625,
          0.734375,
          1.90625,
          1.734375,
          0.640625,
          1.484375,
          1.46875,
          2.40625,
          1.21875,
          1.953125,
          1.96875,
          2.046875,
          1.5625,
          2.671875,
          2.5,
          0.953125,
          1,
          0.953125,
          0.546875,
          2.234375,
          1.796875,
          1.15625,
          1.546875,
          0.796875,
          2.359375,
          1.703125,
          1.625,
          1.46875,
          2.171875,
          1.859375,
          2.4375,
          2.390625,
          1.484375,
          1.203125,
          1.34375,
          1.8125,
          1.53125,
          1.921875,
          0.71875,
          2.375,
          1.578125,
          2.625,
          1.421875,
          2,
          1.453125,
          1.046875,
          1.921875,
          1.921875,
          1.296875,
          1.296875,
          1.75,
          2.015625,
          1.625,
          2.65625,
          1.28125,
          2.46875,
          2.296875,
          1.3125,
          2.421875,
          1.40625,
          0.5625,
          1.953125,
          2.28125,
          1.515625,
          2.015625,
          2.15625,
          1.96875,
          2.71875,
          2.40625,
          1.59375,
          1.484375,
          1.796875,
          2.359375,
          1.40625,
          1.5,
          0.828125,
          1.28125,
          2.15625,
          1.40625,
          1.40625,
          1.203125,
          2.6875,
          1.75,
          2.015625,
          1.90625,
          2.5,
          0.96875,
          1.671875,
          1.59375,
          1.625,
          2.046875,
          2.125,
          2.703125,
          1.828125,
          0.890625,
          1.515625,
          1.015625,
          1.734375,
          1.265625,
          0.71875,
          2.15625,
          1.265625,
          1.21875,
          1.25,
          2.453125,
          2.140625,
          1.765625,
          2.5625,
          2.125,
          1.125,
          1.84375,
          1.390625,
          1.1875,
          2.34375,
          1.125,
          1.453125,
          2.15625,
          1.453125,
          2.234375,
          1.234375,
          1.25,
          1.5,
          1.203125,
          1.484375,
          1.78125,
          1.265625,
          2.21875,
          2.609375,
          0.984375,
          1.109375,
          2.265625,
          1.40625,
          1.09375,
          2.078125,
          1.765625,
          1.421875,
          1.203125,
          1.625,
          1.515625,
          1.171875,
          2.171875,
          0.96875,
          2.078125,
          2.015625,
          1.640625,
          1.234375,
          0.796875,
          1.75,
          2.625,
          1.71875,
          1.75,
          1.828125,
          2.640625,
          2.203125,
          2.328125,
          2.5,
          2.03125,
          2.171875,
          1.71875,
          1.59375,
          2.390625,
          0.921875,
          1.953125,
          1.84375,
          0.78125,
          1.234375,
          0.71875,
          1.953125,
          1.328125,
          1.4375,
          1.203125,
          1.953125,
          1.953125,
          1.265625,
          0.734375,
          1.34375,
          0.578125,
          1.09375,
          1.5625,
          0.875,
          2.078125,
          1.359375,
          1.875,
          1.28125,
          1.4375,
          2.328125,
          0.734375,
          0.796875,
          1.34375,
          1.9375,
          1.015625,
          1.859375,
          0.765625,
          0.96875,
          1,
          2.140625,
          1.4375,
          1.765625,
          2.546875,
          1.421875,
          2.40625,
          2.203125,
          2.203125,
          1.421875,
          1.515625,
          2.0625,
          1.03125,
          1.28125,
          1.234375,
          2.125,
          1.9375,
          2.015625,
          1.65625,
          1.484375,
          1.515625,
          1.484375,
          1.40625,
          1.984375,
          0.765625,
          1.40625,
          2.40625,
          1.703125,
          1.6875,
          1.71875,
          1.546875,
          1.375,
          1.453125,
          1.5625,
          1.546875,
          1.859375,
          1.203125,
          1.828125,
          2.015625,
          1.046875,
          1.15625,
          2.390625,
          1.84375,
          0.859375,
          1.140625,
          1.671875,
          1.765625,
          1.203125,
          2.234375,
          1.8125,
          1.03125,
          2.203125,
          2.53125,
          2.625,
          2.484375,
          0.703125,
          0.953125,
          0.78125,
          1.15625,
          1.0625,
          1.59375,
          1.375,
          0.75,
          2.71875,
          1.546875,
          1.34375,
          1.359375,
          1.15625,
          0.640625,
          2.28125,
          1.78125,
          2.8125,
          1.015625,
          1.0625,
          1.25,
          2.578125,
          0.828125,
          1.34375,
          1.15625,
          2.734375,
          2.25,
          1.296875,
          1.59375,
          1.375,
          1.171875,
          0.90625,
          2.453125,
          1.171875,
          0.75,
          2.265625,
          2.109375,
          1.203125,
          1.15625,
          0.84375,
          1.828125,
          1.15625,
          2.6875,
          1.4375,
          1.40625,
          0.75,
          0.671875,
          2.3125,
          2.046875,
          1,
          0.96875,
          1.15625,
          1.453125,
          1.890625,
          1.5625,
          1.328125,
          1.28125,
          0.5625,
          0.796875,
          1.140625,
          1.28125,
          0.890625,
          0.859375,
          1.71875,
          1.234375,
          1.15625,
          1.234375,
          0.78125,
          1.171875,
          1.140625,
          1.046875,
          1.09375,
          1.1875,
          1.328125,
          1.203125,
          0.921875,
          0.5,
          0.8125,
          0.828125,
          0.234375,
          2.125,
          2.75,
          0.453125,
          2,
          1.140625,
          1.546875,
          2.640625,
          2.421875,
          2.484375,
          1.40625,
          1.28125,
          2.6875,
          1.390625,
          2.296875,
          1.796875,
          1.421875,
          1.65625,
          1.328125,
          1.4375,
          1.53125,
          0.953125,
          1.703125,
          1.265625,
          2.765625,
          2.046875,
          1.921875,
          1.578125,
          1.625,
          1.9375,
          2.75,
          1.546875,
          1.359375,
          1.765625,
          2.734375,
          2.65625,
          3.34375,
          1.5,
          1.921875,
          1.828125,
          0.921875,
          1.25,
          2.203125,
          2.421875,
          2.03125,
          1.8125,
          1.8125,
          1.59375,
          3.09375,
          1.765625,
          1.75,
          1.109375,
          1.953125,
          2.828125,
          2.125,
          2.03125,
          1.703125,
          2.53125,
          2.28125,
          1.65625,
          3.390625,
          0.96875,
          2.15625,
          1.9375,
          2.546875,
          3,
          2.359375,
          1.5625,
          2.359375,
          2.59375,
          2.8125,
          2.703125,
          1.421875,
          2.125,
          1.296875,
          1.125,
          2.125,
          2.8125,
          2.515625,
          1.5,
          1.59375,
          1.703125,
          1.203125,
          1.28125,
          2.15625,
          2.203125,
          2.171875,
          1.21875,
          2.984375
         ],
         "xaxis": "x",
         "yaxis": "y"
        }
       ],
       "layout": {
        "annotations": [
         {
          "font": {
           "color": "blue",
           "size": 16
          },
          "showarrow": false,
          "text": "$Easy = 1.09s \\pm 0.52$",
          "x": 1.0948359073359073,
          "xanchor": "right",
          "xref": "x",
          "xshift": -10,
          "y": 1,
          "yanchor": "top",
          "yref": "y domain"
         },
         {
          "font": {
           "color": "red",
           "size": 16
          },
          "showarrow": false,
          "text": "$Hard = 1.56s \\pm 0.61$",
          "x": 1.5550052594670407,
          "xanchor": "left",
          "xref": "x",
          "xshift": 10,
          "y": 1,
          "yanchor": "top",
          "yref": "y domain"
         }
        ],
        "barmode": "overlay",
        "height": 600,
        "legend": {
         "title": {
          "text": "difficulty"
         },
         "tracegroupgap": 0
        },
        "shapes": [
         {
          "line": {
           "color": "blue"
          },
          "type": "line",
          "x0": 1.0948359073359073,
          "x1": 1.0948359073359073,
          "xref": "x",
          "y0": 0,
          "y1": 1,
          "yref": "y domain"
         },
         {
          "line": {
           "color": "red"
          },
          "type": "line",
          "x0": 1.5550052594670407,
          "x1": 1.5550052594670407,
          "xref": "x",
          "y0": 0,
          "y1": 1,
          "yref": "y domain"
         }
        ],
        "template": {
         "data": {
          "bar": [
           {
            "error_x": {
             "color": "#2a3f5f"
            },
            "error_y": {
             "color": "#2a3f5f"
            },
            "marker": {
             "line": {
              "color": "white",
              "width": 0.5
             }
            },
            "type": "bar"
           }
          ],
          "barpolar": [
           {
            "marker": {
             "line": {
              "color": "white",
              "width": 0.5
             }
            },
            "type": "barpolar"
           }
          ],
          "carpet": [
           {
            "aaxis": {
             "endlinecolor": "#2a3f5f",
             "gridcolor": "#C8D4E3",
             "linecolor": "#C8D4E3",
             "minorgridcolor": "#C8D4E3",
             "startlinecolor": "#2a3f5f"
            },
            "baxis": {
             "endlinecolor": "#2a3f5f",
             "gridcolor": "#C8D4E3",
             "linecolor": "#C8D4E3",
             "minorgridcolor": "#C8D4E3",
             "startlinecolor": "#2a3f5f"
            },
            "type": "carpet"
           }
          ],
          "choropleth": [
           {
            "colorbar": {
             "outlinewidth": 0,
             "ticks": ""
            },
            "type": "choropleth"
           }
          ],
          "contour": [
           {
            "colorbar": {
             "outlinewidth": 0,
             "ticks": ""
            },
            "colorscale": [
             [
              0,
              "#0d0887"
             ],
             [
              0.1111111111111111,
              "#46039f"
             ],
             [
              0.2222222222222222,
              "#7201a8"
             ],
             [
              0.3333333333333333,
              "#9c179e"
             ],
             [
              0.4444444444444444,
              "#bd3786"
             ],
             [
              0.5555555555555556,
              "#d8576b"
             ],
             [
              0.6666666666666666,
              "#ed7953"
             ],
             [
              0.7777777777777778,
              "#fb9f3a"
             ],
             [
              0.8888888888888888,
              "#fdca26"
             ],
             [
              1,
              "#f0f921"
             ]
            ],
            "type": "contour"
           }
          ],
          "contourcarpet": [
           {
            "colorbar": {
             "outlinewidth": 0,
             "ticks": ""
            },
            "type": "contourcarpet"
           }
          ],
          "heatmap": [
           {
            "colorbar": {
             "outlinewidth": 0,
             "ticks": ""
            },
            "colorscale": [
             [
              0,
              "#0d0887"
             ],
             [
              0.1111111111111111,
              "#46039f"
             ],
             [
              0.2222222222222222,
              "#7201a8"
             ],
             [
              0.3333333333333333,
              "#9c179e"
             ],
             [
              0.4444444444444444,
              "#bd3786"
             ],
             [
              0.5555555555555556,
              "#d8576b"
             ],
             [
              0.6666666666666666,
              "#ed7953"
             ],
             [
              0.7777777777777778,
              "#fb9f3a"
             ],
             [
              0.8888888888888888,
              "#fdca26"
             ],
             [
              1,
              "#f0f921"
             ]
            ],
            "type": "heatmap"
           }
          ],
          "heatmapgl": [
           {
            "colorbar": {
             "outlinewidth": 0,
             "ticks": ""
            },
            "colorscale": [
             [
              0,
              "#0d0887"
             ],
             [
              0.1111111111111111,
              "#46039f"
             ],
             [
              0.2222222222222222,
              "#7201a8"
             ],
             [
              0.3333333333333333,
              "#9c179e"
             ],
             [
              0.4444444444444444,
              "#bd3786"
             ],
             [
              0.5555555555555556,
              "#d8576b"
             ],
             [
              0.6666666666666666,
              "#ed7953"
             ],
             [
              0.7777777777777778,
              "#fb9f3a"
             ],
             [
              0.8888888888888888,
              "#fdca26"
             ],
             [
              1,
              "#f0f921"
             ]
            ],
            "type": "heatmapgl"
           }
          ],
          "histogram": [
           {
            "marker": {
             "colorbar": {
              "outlinewidth": 0,
              "ticks": ""
             }
            },
            "type": "histogram"
           }
          ],
          "histogram2d": [
           {
            "colorbar": {
             "outlinewidth": 0,
             "ticks": ""
            },
            "colorscale": [
             [
              0,
              "#0d0887"
             ],
             [
              0.1111111111111111,
              "#46039f"
             ],
             [
              0.2222222222222222,
              "#7201a8"
             ],
             [
              0.3333333333333333,
              "#9c179e"
             ],
             [
              0.4444444444444444,
              "#bd3786"
             ],
             [
              0.5555555555555556,
              "#d8576b"
             ],
             [
              0.6666666666666666,
              "#ed7953"
             ],
             [
              0.7777777777777778,
              "#fb9f3a"
             ],
             [
              0.8888888888888888,
              "#fdca26"
             ],
             [
              1,
              "#f0f921"
             ]
            ],
            "type": "histogram2d"
           }
          ],
          "histogram2dcontour": [
           {
            "colorbar": {
             "outlinewidth": 0,
             "ticks": ""
            },
            "colorscale": [
             [
              0,
              "#0d0887"
             ],
             [
              0.1111111111111111,
              "#46039f"
             ],
             [
              0.2222222222222222,
              "#7201a8"
             ],
             [
              0.3333333333333333,
              "#9c179e"
             ],
             [
              0.4444444444444444,
              "#bd3786"
             ],
             [
              0.5555555555555556,
              "#d8576b"
             ],
             [
              0.6666666666666666,
              "#ed7953"
             ],
             [
              0.7777777777777778,
              "#fb9f3a"
             ],
             [
              0.8888888888888888,
              "#fdca26"
             ],
             [
              1,
              "#f0f921"
             ]
            ],
            "type": "histogram2dcontour"
           }
          ],
          "mesh3d": [
           {
            "colorbar": {
             "outlinewidth": 0,
             "ticks": ""
            },
            "type": "mesh3d"
           }
          ],
          "parcoords": [
           {
            "line": {
             "colorbar": {
              "outlinewidth": 0,
              "ticks": ""
             }
            },
            "type": "parcoords"
           }
          ],
          "pie": [
           {
            "automargin": true,
            "type": "pie"
           }
          ],
          "scatter": [
           {
            "marker": {
             "colorbar": {
              "outlinewidth": 0,
              "ticks": ""
             }
            },
            "type": "scatter"
           }
          ],
          "scatter3d": [
           {
            "line": {
             "colorbar": {
              "outlinewidth": 0,
              "ticks": ""
             }
            },
            "marker": {
             "colorbar": {
              "outlinewidth": 0,
              "ticks": ""
             }
            },
            "type": "scatter3d"
           }
          ],
          "scattercarpet": [
           {
            "marker": {
             "colorbar": {
              "outlinewidth": 0,
              "ticks": ""
             }
            },
            "type": "scattercarpet"
           }
          ],
          "scattergeo": [
           {
            "marker": {
             "colorbar": {
              "outlinewidth": 0,
              "ticks": ""
             }
            },
            "type": "scattergeo"
           }
          ],
          "scattergl": [
           {
            "marker": {
             "colorbar": {
              "outlinewidth": 0,
              "ticks": ""
             }
            },
            "type": "scattergl"
           }
          ],
          "scattermapbox": [
           {
            "marker": {
             "colorbar": {
              "outlinewidth": 0,
              "ticks": ""
             }
            },
            "type": "scattermapbox"
           }
          ],
          "scatterpolar": [
           {
            "marker": {
             "colorbar": {
              "outlinewidth": 0,
              "ticks": ""
             }
            },
            "type": "scatterpolar"
           }
          ],
          "scatterpolargl": [
           {
            "marker": {
             "colorbar": {
              "outlinewidth": 0,
              "ticks": ""
             }
            },
            "type": "scatterpolargl"
           }
          ],
          "scatterternary": [
           {
            "marker": {
             "colorbar": {
              "outlinewidth": 0,
              "ticks": ""
             }
            },
            "type": "scatterternary"
           }
          ],
          "surface": [
           {
            "colorbar": {
             "outlinewidth": 0,
             "ticks": ""
            },
            "colorscale": [
             [
              0,
              "#0d0887"
             ],
             [
              0.1111111111111111,
              "#46039f"
             ],
             [
              0.2222222222222222,
              "#7201a8"
             ],
             [
              0.3333333333333333,
              "#9c179e"
             ],
             [
              0.4444444444444444,
              "#bd3786"
             ],
             [
              0.5555555555555556,
              "#d8576b"
             ],
             [
              0.6666666666666666,
              "#ed7953"
             ],
             [
              0.7777777777777778,
              "#fb9f3a"
             ],
             [
              0.8888888888888888,
              "#fdca26"
             ],
             [
              1,
              "#f0f921"
             ]
            ],
            "type": "surface"
           }
          ],
          "table": [
           {
            "cells": {
             "fill": {
              "color": "#EBF0F8"
             },
             "line": {
              "color": "white"
             }
            },
            "header": {
             "fill": {
              "color": "#C8D4E3"
             },
             "line": {
              "color": "white"
             }
            },
            "type": "table"
           }
          ]
         },
         "layout": {
          "annotationdefaults": {
           "arrowcolor": "#2a3f5f",
           "arrowhead": 0,
           "arrowwidth": 1
          },
          "autotypenumbers": "strict",
          "coloraxis": {
           "colorbar": {
            "outlinewidth": 0,
            "ticks": ""
           }
          },
          "colorscale": {
           "diverging": [
            [
             0,
             "#8e0152"
            ],
            [
             0.1,
             "#c51b7d"
            ],
            [
             0.2,
             "#de77ae"
            ],
            [
             0.3,
             "#f1b6da"
            ],
            [
             0.4,
             "#fde0ef"
            ],
            [
             0.5,
             "#f7f7f7"
            ],
            [
             0.6,
             "#e6f5d0"
            ],
            [
             0.7,
             "#b8e186"
            ],
            [
             0.8,
             "#7fbc41"
            ],
            [
             0.9,
             "#4d9221"
            ],
            [
             1,
             "#276419"
            ]
           ],
           "sequential": [
            [
             0,
             "#0d0887"
            ],
            [
             0.1111111111111111,
             "#46039f"
            ],
            [
             0.2222222222222222,
             "#7201a8"
            ],
            [
             0.3333333333333333,
             "#9c179e"
            ],
            [
             0.4444444444444444,
             "#bd3786"
            ],
            [
             0.5555555555555556,
             "#d8576b"
            ],
            [
             0.6666666666666666,
             "#ed7953"
            ],
            [
             0.7777777777777778,
             "#fb9f3a"
            ],
            [
             0.8888888888888888,
             "#fdca26"
            ],
            [
             1,
             "#f0f921"
            ]
           ],
           "sequentialminus": [
            [
             0,
             "#0d0887"
            ],
            [
             0.1111111111111111,
             "#46039f"
            ],
            [
             0.2222222222222222,
             "#7201a8"
            ],
            [
             0.3333333333333333,
             "#9c179e"
            ],
            [
             0.4444444444444444,
             "#bd3786"
            ],
            [
             0.5555555555555556,
             "#d8576b"
            ],
            [
             0.6666666666666666,
             "#ed7953"
            ],
            [
             0.7777777777777778,
             "#fb9f3a"
            ],
            [
             0.8888888888888888,
             "#fdca26"
            ],
            [
             1,
             "#f0f921"
            ]
           ]
          },
          "colorway": [
           "#636efa",
           "#EF553B",
           "#00cc96",
           "#ab63fa",
           "#FFA15A",
           "#19d3f3",
           "#FF6692",
           "#B6E880",
           "#FF97FF",
           "#FECB52"
          ],
          "font": {
           "color": "#2a3f5f"
          },
          "geo": {
           "bgcolor": "white",
           "lakecolor": "white",
           "landcolor": "white",
           "showlakes": true,
           "showland": true,
           "subunitcolor": "#C8D4E3"
          },
          "hoverlabel": {
           "align": "left"
          },
          "hovermode": "closest",
          "mapbox": {
           "style": "light"
          },
          "paper_bgcolor": "white",
          "plot_bgcolor": "white",
          "polar": {
           "angularaxis": {
            "gridcolor": "#EBF0F8",
            "linecolor": "#EBF0F8",
            "ticks": ""
           },
           "bgcolor": "white",
           "radialaxis": {
            "gridcolor": "#EBF0F8",
            "linecolor": "#EBF0F8",
            "ticks": ""
           }
          },
          "scene": {
           "xaxis": {
            "backgroundcolor": "white",
            "gridcolor": "#DFE8F3",
            "gridwidth": 2,
            "linecolor": "#EBF0F8",
            "showbackground": true,
            "ticks": "",
            "zerolinecolor": "#EBF0F8"
           },
           "yaxis": {
            "backgroundcolor": "white",
            "gridcolor": "#DFE8F3",
            "gridwidth": 2,
            "linecolor": "#EBF0F8",
            "showbackground": true,
            "ticks": "",
            "zerolinecolor": "#EBF0F8"
           },
           "zaxis": {
            "backgroundcolor": "white",
            "gridcolor": "#DFE8F3",
            "gridwidth": 2,
            "linecolor": "#EBF0F8",
            "showbackground": true,
            "ticks": "",
            "zerolinecolor": "#EBF0F8"
           }
          },
          "shapedefaults": {
           "line": {
            "color": "#2a3f5f"
           }
          },
          "ternary": {
           "aaxis": {
            "gridcolor": "#DFE8F3",
            "linecolor": "#A2B1C6",
            "ticks": ""
           },
           "baxis": {
            "gridcolor": "#DFE8F3",
            "linecolor": "#A2B1C6",
            "ticks": ""
           },
           "bgcolor": "white",
           "caxis": {
            "gridcolor": "#DFE8F3",
            "linecolor": "#A2B1C6",
            "ticks": ""
           }
          },
          "title": {
           "x": 0.05
          },
          "xaxis": {
           "automargin": true,
           "gridcolor": "#EBF0F8",
           "linecolor": "#EBF0F8",
           "ticks": "",
           "title": {
            "standoff": 15
           },
           "zerolinecolor": "#EBF0F8",
           "zerolinewidth": 2
          },
          "yaxis": {
           "automargin": true,
           "gridcolor": "#EBF0F8",
           "linecolor": "#EBF0F8",
           "ticks": "",
           "title": {
            "standoff": 15
           },
           "zerolinecolor": "#EBF0F8",
           "zerolinewidth": 2
          }
         }
        },
        "title": {
         "text": "Response time over subjects (n_subjects=33)"
        },
        "width": 800,
        "xaxis": {
         "anchor": "y",
         "autorange": true,
         "domain": [
          0,
          1
         ],
         "range": [
          0.10000000000000012,
          3.75
         ],
         "title": {
          "text": "response_time"
         },
         "type": "linear"
        },
        "yaxis": {
         "anchor": "x",
         "autorange": true,
         "domain": [
          0,
          1
         ],
         "range": [
          0,
          136.8421052631579
         ],
         "title": {
          "text": "count"
         }
        }
       }
      },
      "image/png": "[encoded data removed]",
      "text/html": [
       "<div>                            <div id=\"818e9c9c-c836-4e14-be67-bed406f4ed17\" class=\"plotly-graph-div\" style=\"height:600px; width:800px;\"></div>            <script type=\"text/javascript\">                require([\"plotly\"], function(Plotly) {                    window.PLOTLYENV=window.PLOTLYENV || {};                                    if (document.getElementById(\"818e9c9c-c836-4e14-be67-bed406f4ed17\")) {                    Plotly.newPlot(                        \"818e9c9c-c836-4e14-be67-bed406f4ed17\",                        [{\"alignmentgroup\": \"True\", \"bingroup\": \"x\", \"hovertemplate\": \"difficulty=easy<br>response_time=%{x}<br>count=%{y}<extra></extra>\", \"legendgroup\": \"easy\", \"marker\": {\"color\": \"#636efa\", \"opacity\": 0.5}, \"name\": \"easy\", \"offsetgroup\": \"easy\", \"orientation\": \"v\", \"showlegend\": true, \"type\": \"histogram\", \"x\": [1.890625, 1.515625, 2.640625, 0.953125, 2.6875, 1.984375, 1.265625, 2.0625, 2.140625, 0.984375, 2.46875, 1.09375, 1.421875, 1.421875, 2.390625, 1.71875, 1.984375, 2.828125, 2.40625, 2.765625, 1.484375, 1.34375, 1.734375, 1.484375, 0.96875, 1.75, 2.828125, 2.734375, 0.875, 0.78125, 1.25, 0.921875, 2.0, 1.171875, 1.109375, 2.40625, 1.0625, 2.0625, 1.359375, 1.53125, 0.71875, 0.984375, 2.0625, 2.796875, 1.359375, 1.03125, 2.484375, 1.859375, 1.71875, 2.75, 1.34375, 1.171875, 3.0, 2.640625, 1.171875, 1.03125, 1.765625, 0.921875, 2.96875, 2.609375, 1.203125, 0.6875, 0.859375, 0.640625, 0.8125, 0.640625, 0.578125, 0.5625, 0.5625, 0.8125, 0.578125, 0.515625, 0.671875, 0.6875, 1.640625, 0.71875, 0.90625, 0.6875, 0.734375, 1.0, 0.609375, 1.734375, 0.984375, 0.765625, 0.734375, 1.015625, 0.625, 0.828125, 0.65625, 0.6875, 0.71875, 0.828125, 0.65625, 0.515625, 1.015625, 0.609375, 0.703125, 0.703125, 0.640625, 0.625, 0.78125, 0.859375, 0.921875, 1.34375, 0.53125, 0.671875, 1.015625, 1.90625, 0.84375, 2.046875, 1.1875, 1.5625, 2.109375, 0.953125, 1.953125, 1.40625, 1.4375, 2.078125, 1.046875, 1.421875, 1.03125, 1.46875, 0.71875, 0.9375, 0.703125, 1.03125, 0.9375, 1.0, 0.859375, 0.9375, 0.953125, 0.90625, 1.453125, 1.296875, 1.3125, 1.125, 1.09375, 1.0625, 0.78125, 1.0625, 1.1875, 1.921875, 1.28125, 1.75, 1.21875, 1.0, 1.484375, 1.5, 1.125, 1.34375, 0.984375, 2.09375, 1.1875, 1.671875, 1.140625, 0.6875, 0.96875, 0.96875, 1.28125, 0.640625, 0.796875, 0.609375, 0.6875, 0.625, 1.15625, 0.671875, 1.359375, 1.28125, 0.671875, 0.8125, 0.953125, 0.765625, 0.65625, 1.1875, 0.796875, 0.796875, 0.84375, 0.890625, 2.125, 0.671875, 0.84375, 0.828125, 0.8125, 0.71875, 0.59375, 1.015625, 0.703125, 0.953125, 0.640625, 0.703125, 1.125, 0.953125, 1.15625, 0.671875, 1.03125, 0.8125, 1.59375, 0.953125, 0.921875, 1.125, 1.046875, 1.109375, 0.59375, 0.953125, 0.578125, 0.640625, 0.796875, 0.671875, 0.796875, 0.765625, 0.5625, 0.453125, 0.671875, 0.484375, 0.578125, 0.59375, 0.703125, 0.65625, 0.671875, 0.640625, 0.609375, 0.609375, 0.796875, 0.71875, 0.625, 0.765625, 0.5625, 0.828125, 0.53125, 0.796875, 0.5, 0.625, 0.8125, 0.703125, 0.703125, 0.578125, 0.578125, 0.578125, 0.8125, 0.90625, 0.671875, 0.796875, 0.953125, 0.5625, 0.625, 0.765625, 0.765625, 0.875, 0.671875, 1.078125, 0.71875, 1.09375, 1.59375, 0.78125, 1.140625, 1.328125, 0.921875, 1.296875, 1.15625, 0.921875, 1.15625, 1.703125, 1.09375, 2.390625, 0.75, 1.609375, 0.78125, 2.15625, 1.03125, 0.859375, 1.046875, 1.875, 1.015625, 1.1875, 1.453125, 1.03125, 1.578125, 2.25, 2.125, 1.359375, 2.1875, 0.8125, 0.78125, 0.96875, 1.625, 0.828125, 0.65625, 1.78125, 1.46875, 0.96875, 1.6875, 1.09375, 2.078125, 1.203125, 1.78125, 1.28125, 1.09375, 1.125, 1.640625, 1.234375, 0.96875, 0.890625, 1.609375, 1.140625, 0.75, 1.171875, 1.421875, 0.6875, 0.84375, 1.34375, 1.296875, 1.40625, 0.84375, 1.375, 0.71875, 1.359375, 0.578125, 0.625, 1.09375, 1.546875, 0.796875, 1.25, 1.90625, 1.59375, 0.828125, 0.890625, 0.6875, 2.046875, 1.46875, 1.515625, 2.125, 1.3125, 1.015625, 1.046875, 0.890625, 1.234375, 1.4375, 0.84375, 0.78125, 0.671875, 2.078125, 1.421875, 1.125, 0.859375, 1.421875, 1.0, 1.234375, 1.59375, 0.859375, 1.03125, 1.015625, 0.9375, 2.03125, 2.046875, 0.734375, 0.71875, 0.65625, 1.046875, 1.046875, 1.265625, 1.25, 1.234375, 1.046875, 0.84375, 0.765625, 1.453125, 1.125, 0.875, 0.859375, 1.0, 0.796875, 0.78125, 0.765625, 0.84375, 0.9375, 0.875, 0.71875, 1.09375, 1.25, 0.75, 0.859375, 1.078125, 1.0, 0.78125, 0.671875, 1.28125, 0.828125, 1.0, 1.265625, 1.25, 0.859375, 0.796875, 0.953125, 1.078125, 1.109375, 1.4375, 2.0, 2.5, 2.21875, 1.875, 1.25, 1.328125, 1.203125, 0.921875, 1.90625, 0.703125, 2.234375, 1.78125, 1.609375, 1.15625, 1.734375, 1.890625, 1.328125, 1.265625, 1.15625, 1.890625, 1.15625, 2.171875, 0.8125, 1.0625, 2.125, 1.75, 1.375, 1.78125, 1.828125, 2.328125, 1.734375, 1.625, 1.890625, 2.03125, 1.21875, 2.09375, 1.8125, 2.109375, 1.234375, 1.796875, 1.046875, 1.671875, 0.109375, 1.875, 1.375, 1.1875, 1.015625, 0.90625, 0.96875, 1.046875, 1.796875, 1.078125, 0.59375, 1.21875, 0.984375, 1.140625, 0.640625, 0.640625, 2.28125, 2.171875, 1.28125, 1.40625, 0.921875, 0.78125, 0.828125, 0.6875, 0.765625, 0.796875, 1.421875, 1.640625, 0.6875, 1.796875, 1.328125, 1.015625, 0.921875, 1.5, 1.109375, 1.296875, 1.375, 1.171875, 1.0625, 1.71875, 0.828125, 0.71875, 0.828125, 1.984375, 1.4375, 1.109375, 1.84375, 0.84375, 0.15625, 1.5625, 1.703125, 0.8125, 0.75, 0.703125, 1.0, 0.953125, 0.984375, 0.71875, 0.8125, 1.71875, 1.0, 0.609375, 1.390625, 2.203125, 1.484375, 0.890625, 1.0, 1.171875, 1.0625, 0.90625, 1.671875, 1.34375, 0.8125, 1.296875, 1.09375, 0.59375, 0.796875, 1.59375, 1.171875, 0.921875, 1.671875, 1.734375, 0.8125, 0.75, 0.9375, 0.65625, 2.015625, 0.59375, 0.59375, 1.28125, 1.1875, 0.84375, 1.171875, 0.859375, 0.625, 1.8125, 1.4375, 1.140625, 0.828125, 0.640625, 0.953125, 0.984375, 0.6875, 0.65625, 1.109375, 1.078125, 0.828125, 0.609375, 0.578125, 0.609375, 0.78125, 0.890625, 0.640625, 0.921875, 0.59375, 0.484375, 1.203125, 0.640625, 1.578125, 0.671875, 0.703125, 0.5625, 0.703125, 0.625, 0.796875, 0.828125, 0.609375, 0.671875, 0.625, 0.890625, 0.609375, 0.5625, 0.609375, 0.734375, 0.609375, 0.453125, 0.609375, 0.703125, 0.59375, 0.578125, 0.5625, 0.640625, 0.703125, 0.578125, 1.953125, 1.15625, 2.546875, 1.734375, 1.328125, 2.234375, 1.609375, 1.34375, 2.015625, 2.921875, 2.78125, 2.296875, 2.125, 2.65625, 1.65625, 2.5, 1.5625, 1.890625, 2.109375, 2.65625, 2.546875, 1.015625, 2.125, 1.78125, 2.609375, 2.875, 2.34375, 2.828125, 1.234375, 1.625, 1.046875, 1.921875, 1.59375, 2.546875, 1.296875, 2.4375, 2.21875, 2.390625, 2.375, 1.796875, 0.171875, 1.0625, 1.84375, 2.578125, 2.453125, 1.46875, 0.6875, 0.546875, 0.65625, 0.84375, 0.84375, 0.609375, 2.359375, 0.65625, 0.59375, 1.203125, 0.6875, 1.234375, 0.734375, 0.640625, 2.0, 0.625, 0.65625, 0.75, 0.796875, 0.8125, 0.671875, 0.53125, 0.765625, 0.546875, 0.734375, 1.21875, 0.53125, 0.859375, 0.671875, 1.125, 0.765625, 0.640625, 0.65625, 0.71875, 0.5625, 0.6875, 1.296875, 0.8125, 0.5625, 0.859375, 0.859375, 0.859375, 0.65625, 0.703125, 0.828125, 0.78125, 0.609375, 0.84375, 1.015625, 1.203125, 0.671875, 1.109375, 0.71875, 0.546875, 0.9375, 0.75, 0.5, 0.796875, 0.609375, 0.640625, 0.875, 1.828125, 0.796875, 0.671875, 0.59375, 1.28125, 0.75, 1.046875, 0.609375, 0.640625, 0.90625, 1.078125, 0.5625, 0.625, 0.671875, 0.953125, 0.53125, 0.75, 0.984375, 0.578125, 0.796875, 0.78125, 0.828125, 0.59375, 0.640625, 0.625, 0.578125, 0.796875, 0.828125, 0.71875, 0.78125, 0.765625, 0.75, 0.96875, 1.21875, 0.796875, 1.96875, 0.96875, 1.078125, 1.15625, 1.21875, 2.890625, 1.375, 0.6875, 0.859375, 0.984375, 0.890625, 1.015625, 0.6875, 1.1875, 0.984375, 1.21875, 1.03125, 0.875, 0.640625, 0.859375, 0.734375, 1.359375, 0.84375, 1.078125, 0.578125, 0.890625, 1.328125, 1.34375, 0.859375, 1.796875, 0.9375, 0.796875, 0.65625, 0.703125, 0.734375, 0.609375, 0.796875, 0.59375, 1.546875, 0.8125, 0.9375, 1.5, 0.59375, 0.609375, 0.9375, 1.53125, 0.875, 0.765625, 1.578125, 1.609375, 0.671875, 0.71875, 1.6875, 0.984375, 0.65625, 0.765625, 0.65625, 1.140625, 0.515625, 0.625, 0.546875, 1.4375, 0.71875, 1.359375, 0.546875, 0.65625, 0.796875, 0.515625, 0.546875, 0.453125, 0.609375, 0.640625, 0.484375, 0.5625, 0.515625, 1.25, 0.484375, 0.515625, 0.640625, 0.609375, 0.6875, 0.5625, 0.484375, 1.15625, 0.640625, 0.5, 0.5, 0.59375, 0.578125, 0.59375, 0.5625, 0.765625, 0.53125, 0.484375, 0.65625, 0.46875, 1.265625, 1.140625, 1.71875, 1.03125, 0.625, 1.796875, 0.78125, 1.0, 1.015625, 0.796875, 0.75, 1.171875, 0.75, 1.078125, 0.578125, 0.671875, 0.6875, 1.03125, 1.390625, 0.671875, 0.484375, 0.546875, 0.65625, 0.59375, 1.28125, 0.5, 0.46875, 0.734375, 0.453125, 0.859375, 0.625, 0.59375, 1.453125, 1.09375, 0.859375, 0.75, 0.984375, 0.734375, 0.640625, 1.03125, 0.640625, 0.578125, 0.96875, 0.703125, 0.765625, 0.796875, 0.84375, 0.5625, 1.34375, 0.59375, 0.875, 0.6875, 0.71875, 0.515625, 1.0625, 0.890625, 0.53125, 0.96875, 0.578125, 0.53125, 0.59375, 0.546875, 0.78125, 0.9375, 0.703125, 0.890625, 0.59375, 0.765625, 0.8125, 0.828125, 0.46875, 1.515625, 0.578125, 0.53125, 0.640625, 1.0, 0.796875, 0.8125, 0.625, 0.5, 1.1875, 0.796875, 0.625, 0.75, 0.609375, 0.5, 0.640625, 0.734375, 0.78125, 0.71875, 0.625, 0.578125, 0.578125, 0.59375, 0.765625, 0.546875, 1.453125, 1.015625, 0.859375, 0.984375, 0.75, 0.78125, 0.890625, 2.25, 1.546875, 0.90625, 0.984375, 2.171875, 1.921875, 2.671875, 0.609375, 0.921875, 1.0, 1.609375, 1.40625, 0.6875, 1.125, 1.4375, 0.75, 1.921875, 2.203125, 1.53125, 0.640625, 1.484375, 0.6875, 1.75, 2.125, 1.1875, 1.28125, 1.890625, 1.0, 1.296875, 3.703125, 0.578125, 0.609375, 1.234375, 0.671875, 0.71875, 0.78125, 2.1875, 1.796875, 1.5625, 1.65625, 1.5, 0.875, 0.890625, 1.0, 0.859375, 1.515625, 1.296875, 0.8125, 1.28125, 1.21875, 1.078125, 0.828125, 1.171875, 0.984375, 0.90625, 1.0625, 0.859375, 0.8125, 0.71875, 0.703125, 1.25, 0.984375, 0.828125, 0.828125, 0.90625, 1.046875, 0.75, 0.859375, 0.703125, 0.765625, 0.796875, 0.9375, 0.828125, 0.9375, 0.859375, 1.25, 0.671875, 0.796875, 2.078125, 0.796875, 1.09375, 0.984375, 0.953125, 0.75, 0.796875, 1.0, 0.8125, 1.625, 0.9375, 2.390625, 2.171875, 0.75, 0.875, 0.5, 1.125, 0.90625, 1.703125, 0.84375, 0.703125, 1.03125, 1.234375, 2.421875, 1.1875, 0.734375, 0.671875, 1.78125, 1.453125, 1.53125, 0.90625, 0.71875, 1.421875, 0.765625, 0.765625, 0.796875, 0.609375, 0.59375, 0.53125, 1.25, 2.125, 0.90625, 0.921875, 0.59375, 0.796875, 0.859375, 0.5625, 0.765625, 0.890625, 0.890625, 0.859375, 0.5, 0.859375, 1.0, 1.015625, 1.109375, 0.609375, 1.984375, 0.671875, 1.015625, 1.328125, 0.984375, 0.828125, 0.515625, 1.734375, 0.75, 0.515625, 0.796875, 0.515625, 1.0625, 2.28125, 0.6875, 1.390625, 0.78125, 1.046875, 0.734375, 0.75, 0.65625, 0.734375, 0.625, 1.28125, 0.8125, 0.53125, 0.546875, 0.625, 0.609375, 0.625, 1.203125, 0.65625, 2.015625, 0.515625, 0.703125, 0.65625, 0.5625, 1.578125, 0.578125, 1.28125, 0.484375, 0.90625, 0.953125, 1.8125, 0.578125, 1.265625, 0.921875, 1.0625, 0.859375, 1.390625, 1.171875, 0.96875, 1.828125, 0.78125, 0.75, 0.90625, 1.125, 1.515625, 0.671875, 0.765625, 1.453125, 1.359375, 0.671875, 0.828125, 0.859375, 0.765625, 0.984375, 1.1875, 1.625, 0.78125, 1.5, 1.09375, 0.828125, 0.71875, 0.640625, 1.046875, 1.0, 0.6875, 0.9375, 0.75, 0.75, 0.96875, 0.84375, 1.265625, 0.734375, 0.59375, 0.671875, 1.09375, 1.453125, 0.84375, 0.734375, 0.828125, 1.046875, 0.84375, 1.09375, 1.234375, 1.09375, 1.09375, 1.15625, 1.140625, 0.84375, 0.6875, 0.765625, 0.796875, 0.734375, 0.6875, 0.71875, 0.59375, 0.828125, 0.609375, 0.765625, 0.8125, 0.703125, 0.75, 1.03125, 0.6875, 0.59375, 0.703125, 0.75, 0.5625, 0.75, 0.875, 0.90625, 1.71875, 0.5625, 0.734375, 0.703125, 0.640625, 0.6875, 0.8125, 0.640625, 0.625, 0.734375, 0.65625, 0.859375, 0.671875, 1.421875, 0.921875, 0.546875, 0.671875, 0.703125, 0.75, 0.65625, 0.859375, 0.5625, 1.203125, 1.0625, 1.1875, 0.9375, 0.828125, 0.703125, 1.28125, 1.140625, 0.84375, 1.046875, 0.640625, 1.078125, 0.953125, 0.875, 1.296875, 1.21875, 0.90625, 1.09375, 0.875, 1.09375, 1.1875, 0.96875, 0.84375, 0.84375, 0.9375, 0.84375, 0.828125, 0.828125, 0.8125, 0.890625, 0.953125, 1.09375, 1.25, 1.0625, 1.140625, 0.953125, 1.453125, 1.25, 1.109375, 1.015625, 0.84375, 0.890625, 1.03125, 1.203125, 1.0625, 1.0, 1.265625, 0.734375, 2.328125, 1.953125, 2.390625, 2.390625, 0.8125, 1.109375, 1.671875, 1.125, 0.8125, 1.5, 0.65625, 0.90625, 0.78125, 1.984375, 0.765625, 1.046875, 0.703125, 0.828125, 0.78125, 0.75, 0.828125, 0.71875, 1.71875, 0.828125, 0.84375, 1.625, 0.671875, 0.84375, 0.625, 0.640625, 0.9375, 0.84375, 0.765625, 0.9375, 0.671875, 1.796875, 0.71875, 1.46875, 1.21875, 1.203125, 0.609375, 0.71875, 0.890625, 1.890625, 0.765625, 2.109375, 1.34375, 2.609375, 2.015625, 0.6875, 1.96875, 1.421875, 2.03125, 1.453125, 1.015625, 1.015625, 0.828125, 1.484375, 0.890625, 1.21875, 0.890625, 0.84375, 0.984375, 0.890625, 1.484375, 1.71875, 0.9375, 1.03125, 1.5625, 0.828125, 1.328125, 1.46875, 1.8125, 0.765625, 0.96875, 0.890625, 2.34375, 1.09375, 1.5625, 1.3125, 1.5, 0.9375, 0.96875, 0.78125, 1.53125, 2.390625, 2.25, 1.21875, 2.078125, 1.109375, 2.078125, 2.125, 0.9375, 2.046875, 1.125, 0.796875, 0.90625, 1.09375, 0.984375, 1.296875, 1.21875, 1.265625, 0.953125, 0.734375, 0.65625, 1.265625, 1.0, 0.640625, 0.609375, 0.546875, 1.046875, 0.890625, 0.59375, 0.65625, 0.546875, 0.53125, 0.859375, 0.5, 0.5625, 0.96875, 0.625, 1.03125, 0.75, 0.9375, 0.65625, 0.859375, 0.703125, 0.796875, 0.703125, 0.703125, 0.90625, 0.578125, 0.890625, 1.140625, 0.765625, 0.84375, 0.796875, 0.71875, 0.96875, 0.6875, 1.0, 0.828125, 2.5, 0.734375, 1.0625, 0.796875, 0.859375, 1.109375, 1.0, 0.671875, 0.8125, 1.421875, 0.703125, 0.546875, 0.90625, 0.90625, 0.65625, 0.609375, 0.625, 0.9375, 0.65625, 0.515625, 0.65625, 1.203125, 0.6875, 0.859375, 0.96875, 0.53125, 0.71875, 1.078125, 0.671875, 0.84375, 0.734375, 0.921875, 0.703125, 0.546875, 0.515625, 0.578125, 0.5, 1.3125, 1.296875, 0.5625, 1.65625, 0.5625, 0.84375, 0.71875, 0.53125, 0.75, 0.625, 0.5, 1.296875, 2.8125, 1.609375, 1.390625, 0.703125, 0.84375, 0.9375, 1.328125, 0.78125, 1.390625, 1.390625, 1.59375, 2.0, 1.296875, 1.015625, 0.875, 2.0, 1.75, 1.421875, 1.734375, 1.640625, 0.796875, 0.953125, 0.78125, 0.84375, 1.71875, 0.828125, 0.890625, 1.34375, 0.890625, 1.25, 1.171875, 1.40625, 1.796875, 1.640625, 1.609375, 0.875, 1.34375, 0.78125, 0.984375, 0.859375, 0.84375, 0.84375, 1.28125, 0.984375, 0.921875, 1.46875, 1.234375, 2.21875, 2.796875, 0.921875, 2.234375, 1.59375, 2.5625, 2.453125, 2.703125, 2.53125, 1.328125, 2.609375, 2.671875, 1.3125, 2.28125, 1.828125, 2.296875, 1.875, 2.296875, 1.703125, 1.25, 2.390625, 1.78125, 2.625, 1.96875, 0.109375, 1.4375, 1.15625, 1.046875, 1.6875, 2.1875, 1.421875, 1.609375, 1.4375, 0.890625, 1.59375, 1.40625, 1.609375, 1.765625, 1.921875, 1.53125, 1.953125, 1.359375, 1.421875, 1.25, 1.421875, 1.90625, 1.453125, 2.0, 1.578125, 0.984375, 1.453125, 1.171875, 1.59375, 1.0, 1.125, 1.734375, 1.0, 1.0, 1.84375, 0.90625, 1.3125, 0.953125, 1.265625, 1.078125, 1.25], \"xaxis\": \"x\", \"yaxis\": \"y\"}, {\"alignmentgroup\": \"True\", \"bingroup\": \"x\", \"hovertemplate\": \"difficulty=hard<br>response_time=%{x}<br>count=%{y}<extra></extra>\", \"legendgroup\": \"hard\", \"marker\": {\"color\": \"#EF553B\", \"opacity\": 0.5}, \"name\": \"hard\", \"offsetgroup\": \"hard\", \"orientation\": \"v\", \"showlegend\": true, \"type\": \"histogram\", \"x\": [0.71875, 3.046875, 2.5, 0.96875, 0.875, 1.375, 0.875, 0.6875, 2.875, 3.25, 1.03125, 1.859375, 2.625, 2.375, 1.3125, 1.59375, 2.1875, 2.09375, 2.546875, 1.234375, 2.1875, 1.515625, 3.09375, 2.359375, 2.734375, 1.328125, 3.0, 2.171875, 2.984375, 1.34375, 1.1875, 2.296875, 2.8125, 2.453125, 0.765625, 0.796875, 2.3125, 2.78125, 2.640625, 2.375, 2.390625, 0.8125, 0.96875, 1.0, 0.859375, 0.703125, 1.1875, 1.34375, 1.328125, 2.59375, 1.625, 2.140625, 1.5625, 1.5625, 1.078125, 1.015625, 0.703125, 1.46875, 1.375, 2.15625, 1.21875, 0.90625, 0.796875, 1.109375, 1.453125, 1.078125, 0.984375, 2.234375, 2.390625, 1.71875, 1.28125, 1.15625, 0.8125, 1.375, 1.46875, 1.4375, 0.890625, 0.9375, 1.171875, 1.328125, 1.234375, 0.921875, 0.8125, 1.390625, 1.375, 1.46875, 1.8125, 1.40625, 1.15625, 0.828125, 0.984375, 1.078125, 1.484375, 1.015625, 1.609375, 1.15625, 1.875, 1.890625, 1.609375, 1.015625, 2.453125, 1.984375, 2.578125, 2.28125, 1.609375, 2.046875, 1.65625, 0.921875, 1.703125, 1.046875, 1.546875, 1.78125, 1.484375, 1.578125, 2.234375, 1.234375, 1.53125, 2.75, 0.875, 1.453125, 2.0, 1.265625, 1.546875, 1.828125, 1.640625, 2.5625, 1.125, 0.96875, 1.859375, 1.015625, 2.109375, 1.46875, 1.15625, 1.0, 2.046875, 1.0, 1.453125, 1.375, 1.5, 1.765625, 1.9375, 1.984375, 1.796875, 1.96875, 2.03125, 1.8125, 1.359375, 0.96875, 1.09375, 1.578125, 1.78125, 1.1875, 2.25, 1.5625, 0.734375, 1.015625, 1.265625, 1.359375, 1.25, 1.078125, 2.578125, 1.09375, 1.046875, 2.421875, 1.140625, 1.46875, 0.734375, 1.34375, 0.796875, 1.140625, 1.234375, 0.8125, 1.390625, 1.8125, 1.015625, 0.921875, 1.140625, 1.890625, 0.65625, 1.515625, 1.59375, 1.015625, 0.71875, 1.28125, 0.921875, 1.9375, 1.875, 0.71875, 1.796875, 2.03125, 0.9375, 0.59375, 1.484375, 0.671875, 0.703125, 0.890625, 1.9375, 1.265625, 0.84375, 2.59375, 0.625, 1.03125, 0.609375, 1.171875, 0.6875, 0.65625, 1.203125, 1.046875, 0.5625, 1.203125, 0.921875, 1.609375, 1.625, 1.34375, 0.671875, 0.6875, 0.9375, 1.8125, 1.03125, 2.21875, 0.875, 0.765625, 0.828125, 0.828125, 0.765625, 1.859375, 1.328125, 0.890625, 0.953125, 1.234375, 0.765625, 1.28125, 0.640625, 1.1875, 1.640625, 0.75, 2.109375, 1.125, 2.046875, 1.953125, 0.84375, 2.078125, 1.40625, 2.6875, 1.234375, 1.25, 1.203125, 1.984375, 2.125, 2.03125, 1.140625, 1.109375, 2.5625, 1.875, 1.0625, 1.84375, 0.8125, 1.21875, 0.59375, 1.015625, 1.90625, 2.015625, 2.21875, 2.4375, 2.5, 1.359375, 0.8125, 0.9375, 1.890625, 2.25, 0.765625, 1.578125, 1.328125, 1.890625, 1.25, 1.25, 1.890625, 2.09375, 1.765625, 1.125, 1.75, 1.890625, 1.8125, 1.765625, 2.109375, 1.40625, 1.1875, 2.71875, 2.421875, 1.734375, 2.0, 0.90625, 1.765625, 1.234375, 1.21875, 1.59375, 1.515625, 1.078125, 2.015625, 2.203125, 1.703125, 2.046875, 1.359375, 1.828125, 0.78125, 1.09375, 2.734375, 1.796875, 2.625, 1.15625, 2.171875, 1.90625, 2.625, 2.78125, 2.171875, 1.046875, 2.265625, 0.921875, 1.453125, 0.90625, 0.640625, 0.46875, 1.4375, 1.046875, 1.640625, 1.3125, 1.046875, 0.828125, 1.125, 1.171875, 0.953125, 1.359375, 1.765625, 1.171875, 1.328125, 0.890625, 1.0, 1.3125, 1.609375, 0.90625, 1.09375, 1.28125, 1.296875, 1.046875, 0.953125, 0.96875, 0.9375, 1.03125, 1.15625, 1.015625, 0.9375, 1.078125, 1.03125, 0.921875, 1.109375, 0.953125, 0.953125, 1.25, 0.796875, 0.984375, 1.078125, 1.0, 0.765625, 1.0, 1.484375, 0.78125, 0.796875, 0.96875, 2.765625, 2.03125, 1.625, 2.375, 1.59375, 1.21875, 2.46875, 0.8125, 1.140625, 2.90625, 2.875, 2.0625, 2.125, 2.4375, 2.75, 1.28125, 2.609375, 1.125, 2.359375, 2.734375, 1.609375, 1.453125, 1.703125, 2.375, 1.78125, 2.703125, 2.234375, 2.046875, 2.046875, 2.3125, 1.796875, 1.859375, 1.9375, 2.109375, 1.140625, 2.09375, 1.71875, 1.046875, 1.953125, 0.671875, 1.359375, 0.9375, 0.859375, 2.71875, 1.765625, 0.96875, 1.6875, 1.453125, 1.53125, 0.75, 1.28125, 1.734375, 1.8125, 1.890625, 2.28125, 1.515625, 1.40625, 1.96875, 1.484375, 0.90625, 1.109375, 1.421875, 1.40625, 1.234375, 1.625, 1.046875, 0.640625, 1.265625, 0.953125, 1.25, 2.859375, 1.34375, 1.78125, 1.90625, 0.71875, 2.40625, 3.140625, 1.890625, 1.484375, 2.265625, 1.3125, 2.015625, 1.765625, 1.09375, 0.890625, 1.671875, 2.671875, 0.671875, 2.34375, 1.40625, 1.578125, 1.625, 0.6875, 1.28125, 1.3125, 1.5, 1.109375, 1.515625, 0.890625, 0.953125, 1.390625, 0.890625, 1.921875, 1.75, 1.65625, 1.71875, 1.390625, 1.609375, 1.703125, 0.875, 2.140625, 2.15625, 2.0625, 1.09375, 1.375, 0.96875, 1.359375, 2.140625, 1.734375, 1.75, 2.03125, 0.78125, 1.75, 0.859375, 1.359375, 1.453125, 1.78125, 1.625, 1.640625, 1.53125, 1.515625, 1.09375, 2.375, 2.078125, 1.5, 0.625, 1.796875, 1.78125, 1.09375, 2.3125, 2.015625, 0.90625, 1.140625, 1.171875, 0.890625, 1.609375, 1.265625, 2.015625, 2.34375, 0.6875, 1.890625, 2.71875, 2.71875, 0.90625, 1.140625, 0.921875, 0.96875, 2.140625, 1.390625, 0.671875, 0.671875, 1.859375, 0.484375, 1.34375, 1.578125, 2.578125, 0.75, 1.328125, 1.484375, 1.53125, 1.859375, 0.6875, 1.921875, 0.578125, 1.34375, 2.46875, 0.796875, 0.734375, 0.515625, 1.734375, 1.21875, 2.0625, 2.84375, 2.890625, 1.09375, 2.75, 2.75, 2.75, 2.125, 3.09375, 2.21875, 2.6875, 2.234375, 2.4375, 1.640625, 1.734375, 2.546875, 1.34375, 1.3125, 2.8125, 2.3125, 2.296875, 2.296875, 2.796875, 2.859375, 2.5625, 2.5625, 2.65625, 3.09375, 1.53125, 1.953125, 2.359375, 2.3125, 1.890625, 2.71875, 2.296875, 1.96875, 2.203125, 1.671875, 1.609375, 1.671875, 3.375, 1.546875, 1.671875, 2.125, 1.21875, 1.78125, 2.421875, 1.078125, 0.6875, 1.375, 0.734375, 1.234375, 0.734375, 1.09375, 1.328125, 0.78125, 2.5625, 1.8125, 0.65625, 1.515625, 0.8125, 1.296875, 1.328125, 1.140625, 1.015625, 0.71875, 1.21875, 2.546875, 1.1875, 1.015625, 0.96875, 1.953125, 1.046875, 0.78125, 0.78125, 1.171875, 2.546875, 0.640625, 1.21875, 1.359375, 0.59375, 1.109375, 1.828125, 1.140625, 1.640625, 1.078125, 0.703125, 1.453125, 1.03125, 1.3125, 0.84375, 0.703125, 0.9375, 1.515625, 2.234375, 2.1875, 0.71875, 1.109375, 1.09375, 0.6875, 1.71875, 2.671875, 1.421875, 2.0, 2.921875, 2.109375, 1.859375, 2.296875, 1.59375, 1.90625, 1.078125, 0.859375, 1.3125, 0.625, 1.875, 1.09375, 1.078125, 1.28125, 0.984375, 2.5625, 1.390625, 1.0, 0.765625, 1.0625, 1.890625, 1.40625, 0.984375, 1.875, 1.234375, 1.9375, 0.96875, 1.0, 1.59375, 1.390625, 2.109375, 1.5, 2.5625, 2.984375, 1.5, 1.21875, 1.375, 1.5, 2.234375, 1.21875, 0.78125, 2.46875, 0.65625, 1.484375, 1.203125, 1.296875, 0.96875, 1.359375, 0.78125, 0.9375, 1.5, 1.203125, 0.28125, 0.875, 1.828125, 2.21875, 1.515625, 1.484375, 2.109375, 1.671875, 2.21875, 1.359375, 0.8125, 2.359375, 1.0, 1.828125, 1.546875, 1.359375, 1.71875, 0.984375, 1.421875, 1.203125, 2.71875, 1.25, 1.125, 1.390625, 0.765625, 0.71875, 1.140625, 0.828125, 1.234375, 2.03125, 1.71875, 1.765625, 1.265625, 0.6875, 0.734375, 0.5625, 0.65625, 1.65625, 0.84375, 0.984375, 2.0, 1.875, 1.65625, 0.765625, 1.34375, 0.78125, 0.6875, 0.484375, 0.96875, 1.3125, 1.375, 0.90625, 1.3125, 0.984375, 1.234375, 0.65625, 0.65625, 0.921875, 0.84375, 0.59375, 1.3125, 0.65625, 0.640625, 2.421875, 1.765625, 1.765625, 1.171875, 0.84375, 1.09375, 2.078125, 0.671875, 1.8125, 0.765625, 1.453125, 0.5625, 1.546875, 2.4375, 1.265625, 2.21875, 0.796875, 0.640625, 0.625, 2.46875, 1.703125, 0.828125, 2.046875, 0.5, 2.125, 1.15625, 1.46875, 0.59375, 1.1875, 2.296875, 1.859375, 1.421875, 1.375, 1.375, 1.640625, 2.15625, 1.78125, 2.265625, 0.796875, 1.484375, 1.6875, 2.375, 0.953125, 1.359375, 0.59375, 0.625, 1.359375, 1.875, 1.84375, 0.59375, 1.4375, 1.09375, 1.109375, 1.703125, 1.8125, 1.0, 1.453125, 1.78125, 1.359375, 1.21875, 0.609375, 0.609375, 1.234375, 0.671875, 1.296875, 0.6875, 1.453125, 0.6875, 1.234375, 0.5625, 0.90625, 1.375, 0.671875, 1.046875, 1.28125, 1.140625, 1.03125, 0.828125, 0.578125, 1.03125, 0.875, 0.953125, 1.03125, 0.734375, 0.703125, 1.46875, 0.546875, 0.609375, 1.046875, 0.640625, 0.640625, 2.265625, 1.34375, 2.3125, 2.65625, 2.296875, 1.515625, 0.90625, 1.046875, 2.15625, 1.453125, 1.78125, 2.703125, 1.453125, 1.671875, 1.296875, 2.546875, 1.671875, 2.046875, 2.015625, 1.96875, 2.453125, 0.8125, 1.078125, 2.421875, 2.546875, 2.046875, 1.828125, 1.484375, 1.9375, 2.265625, 1.328125, 2.171875, 0.78125, 2.453125, 1.28125, 2.078125, 2.3125, 2.453125, 1.546875, 1.4375, 0.953125, 1.71875, 2.734375, 0.6875, 0.5625, 1.8125, 0.6875, 2.25, 2.6875, 0.640625, 1.75, 1.359375, 2.625, 0.796875, 1.203125, 1.9375, 1.1875, 2.796875, 1.21875, 2.15625, 1.921875, 2.296875, 2.390625, 1.328125, 2.421875, 1.0625, 1.859375, 1.140625, 2.0, 1.390625, 1.53125, 1.140625, 1.65625, 1.21875, 1.390625, 1.828125, 1.921875, 1.125, 1.53125, 1.890625, 1.25, 2.140625, 2.5625, 1.359375, 1.390625, 1.34375, 0.96875, 0.9375, 0.96875, 1.6875, 1.109375, 2.84375, 2.25, 1.046875, 1.8125, 0.9375, 1.75, 0.8125, 1.734375, 0.859375, 2.03125, 2.390625, 2.171875, 1.578125, 0.96875, 1.234375, 1.84375, 1.515625, 2.3125, 0.984375, 2.390625, 3.09375, 2.609375, 2.484375, 2.625, 0.84375, 1.609375, 0.734375, 1.71875, 1.421875, 1.765625, 0.6875, 1.5625, 2.34375, 2.046875, 1.421875, 1.90625, 1.203125, 1.421875, 2.21875, 1.078125, 3.546875, 1.90625, 1.234375, 1.15625, 2.890625, 2.296875, 1.234375, 3.296875, 0.828125, 1.265625, 2.578125, 1.78125, 2.359375, 0.75, 0.75, 1.640625, 1.265625, 0.53125, 0.734375, 2.65625, 2.140625, 0.734375, 1.90625, 1.734375, 0.640625, 1.484375, 1.46875, 2.40625, 1.21875, 1.953125, 1.96875, 2.046875, 1.5625, 2.671875, 2.5, 0.953125, 1.0, 0.953125, 0.546875, 2.234375, 1.796875, 1.15625, 1.546875, 0.796875, 2.359375, 1.703125, 1.625, 1.46875, 2.171875, 1.859375, 2.4375, 2.390625, 1.484375, 1.203125, 1.34375, 1.8125, 1.53125, 1.921875, 0.71875, 2.375, 1.578125, 2.625, 1.421875, 2.0, 1.453125, 1.046875, 1.921875, 1.921875, 1.296875, 1.296875, 1.75, 2.015625, 1.625, 2.65625, 1.28125, 2.46875, 2.296875, 1.3125, 2.421875, 1.40625, 0.5625, 1.953125, 2.28125, 1.515625, 2.015625, 2.15625, 1.96875, 2.71875, 2.40625, 1.59375, 1.484375, 1.796875, 2.359375, 1.40625, 1.5, 0.828125, 1.28125, 2.15625, 1.40625, 1.40625, 1.203125, 2.6875, 1.75, 2.015625, 1.90625, 2.5, 0.96875, 1.671875, 1.59375, 1.625, 2.046875, 2.125, 2.703125, 1.828125, 0.890625, 1.515625, 1.015625, 1.734375, 1.265625, 0.71875, 2.15625, 1.265625, 1.21875, 1.25, 2.453125, 2.140625, 1.765625, 2.5625, 2.125, 1.125, 1.84375, 1.390625, 1.1875, 2.34375, 1.125, 1.453125, 2.15625, 1.453125, 2.234375, 1.234375, 1.25, 1.5, 1.203125, 1.484375, 1.78125, 1.265625, 2.21875, 2.609375, 0.984375, 1.109375, 2.265625, 1.40625, 1.09375, 2.078125, 1.765625, 1.421875, 1.203125, 1.625, 1.515625, 1.171875, 2.171875, 0.96875, 2.078125, 2.015625, 1.640625, 1.234375, 0.796875, 1.75, 2.625, 1.71875, 1.75, 1.828125, 2.640625, 2.203125, 2.328125, 2.5, 2.03125, 2.171875, 1.71875, 1.59375, 2.390625, 0.921875, 1.953125, 1.84375, 0.78125, 1.234375, 0.71875, 1.953125, 1.328125, 1.4375, 1.203125, 1.953125, 1.953125, 1.265625, 0.734375, 1.34375, 0.578125, 1.09375, 1.5625, 0.875, 2.078125, 1.359375, 1.875, 1.28125, 1.4375, 2.328125, 0.734375, 0.796875, 1.34375, 1.9375, 1.015625, 1.859375, 0.765625, 0.96875, 1.0, 2.140625, 1.4375, 1.765625, 2.546875, 1.421875, 2.40625, 2.203125, 2.203125, 1.421875, 1.515625, 2.0625, 1.03125, 1.28125, 1.234375, 2.125, 1.9375, 2.015625, 1.65625, 1.484375, 1.515625, 1.484375, 1.40625, 1.984375, 0.765625, 1.40625, 2.40625, 1.703125, 1.6875, 1.71875, 1.546875, 1.375, 1.453125, 1.5625, 1.546875, 1.859375, 1.203125, 1.828125, 2.015625, 1.046875, 1.15625, 2.390625, 1.84375, 0.859375, 1.140625, 1.671875, 1.765625, 1.203125, 2.234375, 1.8125, 1.03125, 2.203125, 2.53125, 2.625, 2.484375, 0.703125, 0.953125, 0.78125, 1.15625, 1.0625, 1.59375, 1.375, 0.75, 2.71875, 1.546875, 1.34375, 1.359375, 1.15625, 0.640625, 2.28125, 1.78125, 2.8125, 1.015625, 1.0625, 1.25, 2.578125, 0.828125, 1.34375, 1.15625, 2.734375, 2.25, 1.296875, 1.59375, 1.375, 1.171875, 0.90625, 2.453125, 1.171875, 0.75, 2.265625, 2.109375, 1.203125, 1.15625, 0.84375, 1.828125, 1.15625, 2.6875, 1.4375, 1.40625, 0.75, 0.671875, 2.3125, 2.046875, 1.0, 0.96875, 1.15625, 1.453125, 1.890625, 1.5625, 1.328125, 1.28125, 0.5625, 0.796875, 1.140625, 1.28125, 0.890625, 0.859375, 1.71875, 1.234375, 1.15625, 1.234375, 0.78125, 1.171875, 1.140625, 1.046875, 1.09375, 1.1875, 1.328125, 1.203125, 0.921875, 0.5, 0.8125, 0.828125, 0.234375, 2.125, 2.75, 0.453125, 2.0, 1.140625, 1.546875, 2.640625, 2.421875, 2.484375, 1.40625, 1.28125, 2.6875, 1.390625, 2.296875, 1.796875, 1.421875, 1.65625, 1.328125, 1.4375, 1.53125, 0.953125, 1.703125, 1.265625, 2.765625, 2.046875, 1.921875, 1.578125, 1.625, 1.9375, 2.75, 1.546875, 1.359375, 1.765625, 2.734375, 2.65625, 3.34375, 1.5, 1.921875, 1.828125, 0.921875, 1.25, 2.203125, 2.421875, 2.03125, 1.8125, 1.8125, 1.59375, 3.09375, 1.765625, 1.75, 1.109375, 1.953125, 2.828125, 2.125, 2.03125, 1.703125, 2.53125, 2.28125, 1.65625, 3.390625, 0.96875, 2.15625, 1.9375, 2.546875, 3.0, 2.359375, 1.5625, 2.359375, 2.59375, 2.8125, 2.703125, 1.421875, 2.125, 1.296875, 1.125, 2.125, 2.8125, 2.515625, 1.5, 1.59375, 1.703125, 1.203125, 1.28125, 2.15625, 2.203125, 2.171875, 1.21875, 2.984375], \"xaxis\": \"x\", \"yaxis\": \"y\"}],                        {\"annotations\": [{\"font\": {\"color\": \"blue\", \"size\": 16}, \"showarrow\": false, \"text\": \"$Easy = 1.09s \\\\pm 0.52$\", \"x\": 1.0948359073359073, \"xanchor\": \"right\", \"xref\": \"x\", \"xshift\": -10, \"y\": 1, \"yanchor\": \"top\", \"yref\": \"y domain\"}, {\"font\": {\"color\": \"red\", \"size\": 16}, \"showarrow\": false, \"text\": \"$Hard = 1.56s \\\\pm 0.61$\", \"x\": 1.5550052594670407, \"xanchor\": \"left\", \"xref\": \"x\", \"xshift\": 10, \"y\": 1, \"yanchor\": \"top\", \"yref\": \"y domain\"}], \"barmode\": \"overlay\", \"height\": 600, \"legend\": {\"title\": {\"text\": \"difficulty\"}, \"tracegroupgap\": 0}, \"shapes\": [{\"line\": {\"color\": \"blue\"}, \"type\": \"line\", \"x0\": 1.0948359073359073, \"x1\": 1.0948359073359073, \"xref\": \"x\", \"y0\": 0, \"y1\": 1, \"yref\": \"y domain\"}, {\"line\": {\"color\": \"red\"}, \"type\": \"line\", \"x0\": 1.5550052594670407, \"x1\": 1.5550052594670407, \"xref\": \"x\", \"y0\": 0, \"y1\": 1, \"yref\": \"y domain\"}], \"template\": {\"data\": {\"bar\": [{\"error_x\": {\"color\": \"#2a3f5f\"}, \"error_y\": {\"color\": \"#2a3f5f\"}, \"marker\": {\"line\": {\"color\": \"white\", \"width\": 0.5}}, \"type\": \"bar\"}], \"barpolar\": [{\"marker\": {\"line\": {\"color\": \"white\", \"width\": 0.5}}, \"type\": \"barpolar\"}], \"carpet\": [{\"aaxis\": {\"endlinecolor\": \"#2a3f5f\", \"gridcolor\": \"#C8D4E3\", \"linecolor\": \"#C8D4E3\", \"minorgridcolor\": \"#C8D4E3\", \"startlinecolor\": \"#2a3f5f\"}, \"baxis\": {\"endlinecolor\": \"#2a3f5f\", \"gridcolor\": \"#C8D4E3\", \"linecolor\": \"#C8D4E3\", \"minorgridcolor\": \"#C8D4E3\", \"startlinecolor\": \"#2a3f5f\"}, \"type\": \"carpet\"}], \"choropleth\": [{\"colorbar\": {\"outlinewidth\": 0, \"ticks\": \"\"}, \"type\": \"choropleth\"}], \"contour\": [{\"colorbar\": {\"outlinewidth\": 0, \"ticks\": \"\"}, \"colorscale\": [[0.0, \"#0d0887\"], [0.1111111111111111, \"#46039f\"], [0.2222222222222222, \"#7201a8\"], [0.3333333333333333, \"#9c179e\"], [0.4444444444444444, \"#bd3786\"], [0.5555555555555556, \"#d8576b\"], [0.6666666666666666, \"#ed7953\"], [0.7777777777777778, \"#fb9f3a\"], [0.8888888888888888, \"#fdca26\"], [1.0, \"#f0f921\"]], \"type\": \"contour\"}], \"contourcarpet\": [{\"colorbar\": {\"outlinewidth\": 0, \"ticks\": \"\"}, \"type\": \"contourcarpet\"}], \"heatmap\": [{\"colorbar\": {\"outlinewidth\": 0, \"ticks\": \"\"}, \"colorscale\": [[0.0, \"#0d0887\"], [0.1111111111111111, \"#46039f\"], [0.2222222222222222, \"#7201a8\"], [0.3333333333333333, \"#9c179e\"], [0.4444444444444444, \"#bd3786\"], [0.5555555555555556, \"#d8576b\"], [0.6666666666666666, \"#ed7953\"], [0.7777777777777778, \"#fb9f3a\"], [0.8888888888888888, \"#fdca26\"], [1.0, \"#f0f921\"]], \"type\": \"heatmap\"}], \"heatmapgl\": [{\"colorbar\": {\"outlinewidth\": 0, \"ticks\": \"\"}, \"colorscale\": [[0.0, \"#0d0887\"], [0.1111111111111111, \"#46039f\"], [0.2222222222222222, \"#7201a8\"], [0.3333333333333333, \"#9c179e\"], [0.4444444444444444, \"#bd3786\"], [0.5555555555555556, \"#d8576b\"], [0.6666666666666666, \"#ed7953\"], [0.7777777777777778, \"#fb9f3a\"], [0.8888888888888888, \"#fdca26\"], [1.0, \"#f0f921\"]], \"type\": \"heatmapgl\"}], \"histogram\": [{\"marker\": {\"colorbar\": {\"outlinewidth\": 0, \"ticks\": \"\"}}, \"type\": \"histogram\"}], \"histogram2d\": [{\"colorbar\": {\"outlinewidth\": 0, \"ticks\": \"\"}, \"colorscale\": [[0.0, \"#0d0887\"], [0.1111111111111111, \"#46039f\"], [0.2222222222222222, \"#7201a8\"], [0.3333333333333333, \"#9c179e\"], [0.4444444444444444, \"#bd3786\"], [0.5555555555555556, \"#d8576b\"], [0.6666666666666666, \"#ed7953\"], [0.7777777777777778, \"#fb9f3a\"], [0.8888888888888888, \"#fdca26\"], [1.0, \"#f0f921\"]], \"type\": \"histogram2d\"}], \"histogram2dcontour\": [{\"colorbar\": {\"outlinewidth\": 0, \"ticks\": \"\"}, \"colorscale\": [[0.0, \"#0d0887\"], [0.1111111111111111, \"#46039f\"], [0.2222222222222222, \"#7201a8\"], [0.3333333333333333, \"#9c179e\"], [0.4444444444444444, \"#bd3786\"], [0.5555555555555556, \"#d8576b\"], [0.6666666666666666, \"#ed7953\"], [0.7777777777777778, \"#fb9f3a\"], [0.8888888888888888, \"#fdca26\"], [1.0, \"#f0f921\"]], \"type\": \"histogram2dcontour\"}], \"mesh3d\": [{\"colorbar\": {\"outlinewidth\": 0, \"ticks\": \"\"}, \"type\": \"mesh3d\"}], \"parcoords\": [{\"line\": {\"colorbar\": {\"outlinewidth\": 0, \"ticks\": \"\"}}, \"type\": \"parcoords\"}], \"pie\": [{\"automargin\": true, \"type\": \"pie\"}], \"scatter\": [{\"marker\": {\"colorbar\": {\"outlinewidth\": 0, \"ticks\": \"\"}}, \"type\": \"scatter\"}], \"scatter3d\": [{\"line\": {\"colorbar\": {\"outlinewidth\": 0, \"ticks\": \"\"}}, \"marker\": {\"colorbar\": {\"outlinewidth\": 0, \"ticks\": \"\"}}, \"type\": \"scatter3d\"}], \"scattercarpet\": [{\"marker\": {\"colorbar\": {\"outlinewidth\": 0, \"ticks\": \"\"}}, \"type\": \"scattercarpet\"}], \"scattergeo\": [{\"marker\": {\"colorbar\": {\"outlinewidth\": 0, \"ticks\": \"\"}}, \"type\": \"scattergeo\"}], \"scattergl\": [{\"marker\": {\"colorbar\": {\"outlinewidth\": 0, \"ticks\": \"\"}}, \"type\": \"scattergl\"}], \"scattermapbox\": [{\"marker\": {\"colorbar\": {\"outlinewidth\": 0, \"ticks\": \"\"}}, \"type\": \"scattermapbox\"}], \"scatterpolar\": [{\"marker\": {\"colorbar\": {\"outlinewidth\": 0, \"ticks\": \"\"}}, \"type\": \"scatterpolar\"}], \"scatterpolargl\": [{\"marker\": {\"colorbar\": {\"outlinewidth\": 0, \"ticks\": \"\"}}, \"type\": \"scatterpolargl\"}], \"scatterternary\": [{\"marker\": {\"colorbar\": {\"outlinewidth\": 0, \"ticks\": \"\"}}, \"type\": \"scatterternary\"}], \"surface\": [{\"colorbar\": {\"outlinewidth\": 0, \"ticks\": \"\"}, \"colorscale\": [[0.0, \"#0d0887\"], [0.1111111111111111, \"#46039f\"], [0.2222222222222222, \"#7201a8\"], [0.3333333333333333, \"#9c179e\"], [0.4444444444444444, \"#bd3786\"], [0.5555555555555556, \"#d8576b\"], [0.6666666666666666, \"#ed7953\"], [0.7777777777777778, \"#fb9f3a\"], [0.8888888888888888, \"#fdca26\"], [1.0, \"#f0f921\"]], \"type\": \"surface\"}], \"table\": [{\"cells\": {\"fill\": {\"color\": \"#EBF0F8\"}, \"line\": {\"color\": \"white\"}}, \"header\": {\"fill\": {\"color\": \"#C8D4E3\"}, \"line\": {\"color\": \"white\"}}, \"type\": \"table\"}]}, \"layout\": {\"annotationdefaults\": {\"arrowcolor\": \"#2a3f5f\", \"arrowhead\": 0, \"arrowwidth\": 1}, \"autotypenumbers\": \"strict\", \"coloraxis\": {\"colorbar\": {\"outlinewidth\": 0, \"ticks\": \"\"}}, \"colorscale\": {\"diverging\": [[0, \"#8e0152\"], [0.1, \"#c51b7d\"], [0.2, \"#de77ae\"], [0.3, \"#f1b6da\"], [0.4, \"#fde0ef\"], [0.5, \"#f7f7f7\"], [0.6, \"#e6f5d0\"], [0.7, \"#b8e186\"], [0.8, \"#7fbc41\"], [0.9, \"#4d9221\"], [1, \"#276419\"]], \"sequential\": [[0.0, \"#0d0887\"], [0.1111111111111111, \"#46039f\"], [0.2222222222222222, \"#7201a8\"], [0.3333333333333333, \"#9c179e\"], [0.4444444444444444, \"#bd3786\"], [0.5555555555555556, \"#d8576b\"], [0.6666666666666666, \"#ed7953\"], [0.7777777777777778, \"#fb9f3a\"], [0.8888888888888888, \"#fdca26\"], [1.0, \"#f0f921\"]], \"sequentialminus\": [[0.0, \"#0d0887\"], [0.1111111111111111, \"#46039f\"], [0.2222222222222222, \"#7201a8\"], [0.3333333333333333, \"#9c179e\"], [0.4444444444444444, \"#bd3786\"], [0.5555555555555556, \"#d8576b\"], [0.6666666666666666, \"#ed7953\"], [0.7777777777777778, \"#fb9f3a\"], [0.8888888888888888, \"#fdca26\"], [1.0, \"#f0f921\"]]}, \"colorway\": [\"#636efa\", \"#EF553B\", \"#00cc96\", \"#ab63fa\", \"#FFA15A\", \"#19d3f3\", \"#FF6692\", \"#B6E880\", \"#FF97FF\", \"#FECB52\"], \"font\": {\"color\": \"#2a3f5f\"}, \"geo\": {\"bgcolor\": \"white\", \"lakecolor\": \"white\", \"landcolor\": \"white\", \"showlakes\": true, \"showland\": true, \"subunitcolor\": \"#C8D4E3\"}, \"hoverlabel\": {\"align\": \"left\"}, \"hovermode\": \"closest\", \"mapbox\": {\"style\": \"light\"}, \"paper_bgcolor\": \"white\", \"plot_bgcolor\": \"white\", \"polar\": {\"angularaxis\": {\"gridcolor\": \"#EBF0F8\", \"linecolor\": \"#EBF0F8\", \"ticks\": \"\"}, \"bgcolor\": \"white\", \"radialaxis\": {\"gridcolor\": \"#EBF0F8\", \"linecolor\": \"#EBF0F8\", \"ticks\": \"\"}}, \"scene\": {\"xaxis\": {\"backgroundcolor\": \"white\", \"gridcolor\": \"#DFE8F3\", \"gridwidth\": 2, \"linecolor\": \"#EBF0F8\", \"showbackground\": true, \"ticks\": \"\", \"zerolinecolor\": \"#EBF0F8\"}, \"yaxis\": {\"backgroundcolor\": \"white\", \"gridcolor\": \"#DFE8F3\", \"gridwidth\": 2, \"linecolor\": \"#EBF0F8\", \"showbackground\": true, \"ticks\": \"\", \"zerolinecolor\": \"#EBF0F8\"}, \"zaxis\": {\"backgroundcolor\": \"white\", \"gridcolor\": \"#DFE8F3\", \"gridwidth\": 2, \"linecolor\": \"#EBF0F8\", \"showbackground\": true, \"ticks\": \"\", \"zerolinecolor\": \"#EBF0F8\"}}, \"shapedefaults\": {\"line\": {\"color\": \"#2a3f5f\"}}, \"ternary\": {\"aaxis\": {\"gridcolor\": \"#DFE8F3\", \"linecolor\": \"#A2B1C6\", \"ticks\": \"\"}, \"baxis\": {\"gridcolor\": \"#DFE8F3\", \"linecolor\": \"#A2B1C6\", \"ticks\": \"\"}, \"bgcolor\": \"white\", \"caxis\": {\"gridcolor\": \"#DFE8F3\", \"linecolor\": \"#A2B1C6\", \"ticks\": \"\"}}, \"title\": {\"x\": 0.05}, \"xaxis\": {\"automargin\": true, \"gridcolor\": \"#EBF0F8\", \"linecolor\": \"#EBF0F8\", \"ticks\": \"\", \"title\": {\"standoff\": 15}, \"zerolinecolor\": \"#EBF0F8\", \"zerolinewidth\": 2}, \"yaxis\": {\"automargin\": true, \"gridcolor\": \"#EBF0F8\", \"linecolor\": \"#EBF0F8\", \"ticks\": \"\", \"title\": {\"standoff\": 15}, \"zerolinecolor\": \"#EBF0F8\", \"zerolinewidth\": 2}}}, \"title\": {\"text\": \"Response time over subjects (n_subjects=33)\"}, \"width\": 800, \"xaxis\": {\"anchor\": \"y\", \"domain\": [0.0, 1.0], \"title\": {\"text\": \"response_time\"}}, \"yaxis\": {\"anchor\": \"x\", \"domain\": [0.0, 1.0], \"title\": {\"text\": \"count\"}}},                        {\"responsive\": true}                    ).then(function(){\n",
       "                            \n",
       "var gd = document.getElementById('818e9c9c-c836-4e14-be67-bed406f4ed17');\n",
       "var x = new MutationObserver(function (mutations, observer) {{\n",
       "        var display = window.getComputedStyle(gd).display;\n",
       "        if (!display || display === 'none') {{\n",
       "            console.log([gd, 'removed!']);\n",
       "            Plotly.purge(gd);\n",
       "            observer.disconnect();\n",
       "        }}\n",
       "}});\n",
       "\n",
       "// Listen for the removal of the full notebook cells\n",
       "var notebookContainer = gd.closest('#notebook-container');\n",
       "if (notebookContainer) {{\n",
       "    x.observe(notebookContainer, {childList: true});\n",
       "}}\n",
       "\n",
       "// Listen for the clearing of the current output cell\n",
       "var outputEl = gd.closest('.output');\n",
       "if (outputEl) {{\n",
       "    x.observe(outputEl, {childList: true});\n",
       "}}\n",
       "\n",
       "                        })                };                });            </script>        </div>"
      ]
     },
     "metadata": {},
     "output_type": "display_data"
    }
   ],
   "source": [
    "# group dataframe by difficulty\n",
    "df_gp_diff = df_events.groupby('difficulty')\n",
    "\n",
    "# Compute summary statistics\n",
    "mean_resp_time = df_gp_diff.mean()['response_time']\n",
    "std_resp_time = df_gp_diff.std()['response_time']\n",
    "rep_easy = rf\"$Easy = {np.round(mean_resp_time['easy'], 2)}s \\pm {np.round(std_resp_time['easy'], 2)}$\"\n",
    "rep_hard = rf\"$Hard = {np.round(mean_resp_time['hard'], 2)}s \\pm {np.round(std_resp_time['hard'], 2)}$\"\n",
    "\n",
    "# plot the histograms\n",
    "fig = px.histogram(df_events, x='response_time', color='difficulty', title=f'Response time over subjects (n_subjects={n_subjects})',\n",
    "                   width=800, height=600, barmode='overlay', template='plotly_white')\n",
    "fig.add_vline(x=mean_resp_time['easy'], annotation=dict(text=rep_easy, xanchor='right', xshift=-10, font=dict(color='blue', size=16)), line=dict(color='blue'))\n",
    "fig.add_vline(x=mean_resp_time['hard'], annotation=dict(text=rep_hard, xanchor='left', xshift=10, font=dict(color='red', size=16)), line=dict(color='red'))\n",
    "\n",
    "# if latex rendering don't work, try with offline rendering\n",
    "# plotly.offline.plot(fig, include_mathjax='cdn')\n",
    "\n",
    "fig"
   ]
  },
  {
   "cell_type": "code",
   "execution_count": 57,
   "metadata": {},
   "outputs": [
    {
     "data": {
      "text/plain": [
       "'temp-plot.html'"
      ]
     },
     "execution_count": 57,
     "metadata": {},
     "output_type": "execute_result"
    }
   ],
   "source": []
  },
  {
   "cell_type": "code",
   "execution_count": null,
   "metadata": {},
   "outputs": [],
   "source": []
  }
 ],
 "metadata": {
  "kernelspec": {
   "display_name": "Python 3",
   "language": "python",
   "name": "python3"
  },
  "language_info": {
   "codemirror_mode": {
    "name": "ipython",
    "version": 3
   },
   "file_extension": ".py",
   "mimetype": "text/x-python",
   "name": "python",
   "nbconvert_exporter": "python",
   "pygments_lexer": "ipython3",
   "version": "3.7.9"
  }
 },
 "nbformat": 4,
 "nbformat_minor": 4
}
